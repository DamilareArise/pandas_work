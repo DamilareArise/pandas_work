{
 "cells": [
  {
   "cell_type": "code",
   "execution_count": 1,
   "metadata": {},
   "outputs": [],
   "source": [
    "import numpy as np \n",
    "import pandas as pd"
   ]
  },
  {
   "cell_type": "markdown",
   "metadata": {},
   "source": [
    "## What is DATA?\n",
    "Data is a collection of facts, information, and statistics that can be in various forms such as numbers, text, sound, images, or any other format. It is the raw material from which information and knowledge are derived. Data can be measured, collected, reported, and analyzed, and it is often visualized using graphs, images, or other analysis tools\n",
    "\n",
    "## What is Information ?\n",
    "Information is data that has been processed , organized, or structured in a way that makes it meaningful, valuable and useful. It is data that has been given context , relevance and purpose. It gives knowledge, understanding and insights that can be used for decision-making , problem-solving, communication and various other purposes.\n",
    "\n",
    "## Categories of Data\n",
    "Data can be catogeries into two main parts –\n",
    "\n",
    "* Structured Data: This type of data is organized data into specific format, making it easy to search , analyze and process. Structured data is found in a relational databases that includes information like numbers, data and categories.\n",
    "* UnStructured Data: Unstructured data does not conform to a specific structure or format. It may include some text documents , images, videos, and other data that is not easily organized or analyzed without additional processing.\n",
    "\n",
    "## Types of Data\n",
    "### 1. Quantitative Data (Numerical Data)\n",
    "Quantitative data represents numerical values and can be measured or counted. It is further classified into two categories:\n",
    "\n",
    "#### a. Discrete Data\n",
    "Discrete data consists of distinct, separate values that can be counted as whole numbers. Examples include the number of students in a class, marks of students in a test, and the number of cars in a parking lot. Discrete data is often visualized using bar charts\n",
    "\n",
    "#### b. Continuous Data\n",
    "Continuous data represents measurements that can take any value within a given range. Examples include temperature, height, weight, and salary. Continuous data is often visualized using histograms and line charts\n",
    "\n",
    "#### c. Time-Series Data\n",
    "Time-series data is collected or recorded over a sequence of equally spaced time intervals. It represents how a particular variable changes over time. Examples include daily stock prices, weather data, and monthly sales figures. Time-series data is visualized using line charts\n",
    "\n",
    "### 2. Qualitative Data (Categorical Data)\n",
    "Qualitative data, also known as categorical data, describes qualities, characteristics, or opinions. It is non-numerical and is used to categorize observations into groups. Qualitative data is further divided into two categories:\n",
    "\n",
    "#### a. Nominal Data\n",
    "Nominal data consists of categories or names that cannot be ordered or ranked. Examples include gender (male, female), race (White, Black, Asian), and blood type (A, B, AB, O). Nominal data is analyzed using non-parametric tests like Chi-Squared Tests and Fisher’s Exact Tests\n",
    "\n",
    "#### b. Ordinal Data\n",
    "Ordinal data consists of categories that can be ordered or ranked, but the distance between categories is not necessarily equal. Examples include education level (Elementary, Middle, High School, College) and job position (Manager, Supervisor, Employee). Ordinal data is analyzed using non-parametric tests like the Wilcoxon Signed-Rank test and Mann-Whitney U test"
   ]
  },
  {
   "cell_type": "markdown",
   "metadata": {},
   "source": [
    "## Core components of pandas: Series and DataFrames\n",
    "The primary two components of pandas are the Series and DataFrame.\n",
    "\n",
    "A Series is essentially a column, and a DataFrame is a multi-dimensional table made up of a collection of Series."
   ]
  },
  {
   "cell_type": "markdown",
   "metadata": {},
   "source": [
    "### The Pandas Series Object\n",
    "A Pandas Series is a one-dimensional array of indexed data. It can be created from a list or array as follows\n"
   ]
  },
  {
   "cell_type": "code",
   "execution_count": 2,
   "metadata": {},
   "outputs": [
    {
     "data": {
      "text/plain": [
       "0    0.25\n",
       "1    0.50\n",
       "2    0.75\n",
       "3    1.00\n",
       "dtype: float64"
      ]
     },
     "execution_count": 2,
     "metadata": {},
     "output_type": "execute_result"
    }
   ],
   "source": [
    "series = pd.Series([0.25, 0.5, 0.75, 1.0])\n",
    "series"
   ]
  },
  {
   "cell_type": "code",
   "execution_count": 3,
   "metadata": {},
   "outputs": [
    {
     "data": {
      "text/plain": [
       "0.75"
      ]
     },
     "execution_count": 3,
     "metadata": {},
     "output_type": "execute_result"
    }
   ],
   "source": [
    "series[2]"
   ]
  },
  {
   "cell_type": "code",
   "execution_count": 4,
   "metadata": {},
   "outputs": [
    {
     "data": {
      "text/plain": [
       "0    0.25\n",
       "1    0.50\n",
       "2    0.75\n",
       "dtype: float64"
      ]
     },
     "execution_count": 4,
     "metadata": {},
     "output_type": "execute_result"
    }
   ],
   "source": [
    "series[:3]"
   ]
  },
  {
   "cell_type": "code",
   "execution_count": 5,
   "metadata": {},
   "outputs": [
    {
     "data": {
      "text/plain": [
       "RangeIndex(start=0, stop=4, step=1)"
      ]
     },
     "execution_count": 5,
     "metadata": {},
     "output_type": "execute_result"
    }
   ],
   "source": [
    "series.index"
   ]
  },
  {
   "cell_type": "code",
   "execution_count": 6,
   "metadata": {},
   "outputs": [
    {
     "data": {
      "text/plain": [
       "array([0.25, 0.5 , 0.75, 1.  ])"
      ]
     },
     "execution_count": 6,
     "metadata": {},
     "output_type": "execute_result"
    }
   ],
   "source": [
    "series.values"
   ]
  },
  {
   "cell_type": "code",
   "execution_count": 7,
   "metadata": {},
   "outputs": [
    {
     "data": {
      "text/plain": [
       "a    0.25\n",
       "b    0.50\n",
       "c    0.75\n",
       "d    1.00\n",
       "dtype: float64"
      ]
     },
     "execution_count": 7,
     "metadata": {},
     "output_type": "execute_result"
    }
   ],
   "source": [
    "#This explicit index definition gives the Series object additional capabilities. For example, the index need not be an integer, but can consist of values of any desired type. For example, if we wish, we can use strings as an index:\n",
    "\n",
    "data = pd.Series([0.25, 0.5, 0.75, 1.0],index=['a', 'b', 'c', 'd'])\n",
    "data"
   ]
  },
  {
   "cell_type": "code",
   "execution_count": 8,
   "metadata": {},
   "outputs": [
    {
     "data": {
      "text/plain": [
       "a    0.25\n",
       "b    0.50\n",
       "c    0.75\n",
       "dtype: float64"
      ]
     },
     "execution_count": 8,
     "metadata": {},
     "output_type": "execute_result"
    }
   ],
   "source": [
    "# data['a']\n",
    "data['a':'c']"
   ]
  },
  {
   "cell_type": "code",
   "execution_count": 143,
   "metadata": {},
   "outputs": [
    {
     "data": {
      "text/plain": [
       "California    38332521\n",
       "Texas         26448193\n",
       "New York      19651127\n",
       "Florida       19552860\n",
       "Illinois      12882135\n",
       "dtype: int64"
      ]
     },
     "execution_count": 143,
     "metadata": {},
     "output_type": "execute_result"
    }
   ],
   "source": [
    "# Series as specialized dictionary\n",
    "\n",
    "population_dict = {'California': 38332521,'Texas': 26448193,'New York': 19651127,'Florida': 19552860,'Illinois': 12882135}\n",
    "population = pd.Series(population_dict)\n",
    "population"
   ]
  },
  {
   "cell_type": "code",
   "execution_count": 13,
   "metadata": {},
   "outputs": [
    {
     "data": {
      "text/plain": [
       "California    38332521\n",
       "Texas         26448193\n",
       "New York      19651127\n",
       "Florida       19552860\n",
       "dtype: int64"
      ]
     },
     "execution_count": 13,
     "metadata": {},
     "output_type": "execute_result"
    }
   ],
   "source": [
    "population['California':'Florida']"
   ]
  },
  {
   "cell_type": "markdown",
   "metadata": {},
   "source": [
    "### The Pandas DataFrame Object\n",
    "If a Series is an analog of a one-dimensional array with flexible indices, a DataFrame is an analog of a two-dimensional array with both flexible row indices and flexible column names"
   ]
  },
  {
   "cell_type": "code",
   "execution_count": 31,
   "metadata": {},
   "outputs": [
    {
     "data": {
      "application/vnd.microsoft.datawrangler.viewer.v0+json": {
       "columns": [
        {
         "name": "index",
         "rawType": "int64",
         "type": "integer"
        },
        {
         "name": "0",
         "rawType": "int64",
         "type": "integer"
        },
        {
         "name": "1",
         "rawType": "int64",
         "type": "integer"
        },
        {
         "name": "2",
         "rawType": "int64",
         "type": "integer"
        }
       ],
       "conversionMethod": "pd.DataFrame",
       "ref": "cf8a8e8c-852e-400a-bedd-cda204564151",
       "rows": [
        [
         "0",
         "1",
         "2",
         "3"
        ],
        [
         "1",
         "4",
         "5",
         "6"
        ],
        [
         "2",
         "7",
         "8",
         "9"
        ]
       ],
       "shape": {
        "columns": 3,
        "rows": 3
       }
      },
      "text/html": [
       "<div>\n",
       "<style scoped>\n",
       "    .dataframe tbody tr th:only-of-type {\n",
       "        vertical-align: middle;\n",
       "    }\n",
       "\n",
       "    .dataframe tbody tr th {\n",
       "        vertical-align: top;\n",
       "    }\n",
       "\n",
       "    .dataframe thead th {\n",
       "        text-align: right;\n",
       "    }\n",
       "</style>\n",
       "<table border=\"1\" class=\"dataframe\">\n",
       "  <thead>\n",
       "    <tr style=\"text-align: right;\">\n",
       "      <th></th>\n",
       "      <th>0</th>\n",
       "      <th>1</th>\n",
       "      <th>2</th>\n",
       "    </tr>\n",
       "  </thead>\n",
       "  <tbody>\n",
       "    <tr>\n",
       "      <th>0</th>\n",
       "      <td>1</td>\n",
       "      <td>2</td>\n",
       "      <td>3</td>\n",
       "    </tr>\n",
       "    <tr>\n",
       "      <th>1</th>\n",
       "      <td>4</td>\n",
       "      <td>5</td>\n",
       "      <td>6</td>\n",
       "    </tr>\n",
       "    <tr>\n",
       "      <th>2</th>\n",
       "      <td>7</td>\n",
       "      <td>8</td>\n",
       "      <td>9</td>\n",
       "    </tr>\n",
       "  </tbody>\n",
       "</table>\n",
       "</div>"
      ],
      "text/plain": [
       "   0  1  2\n",
       "0  1  2  3\n",
       "1  4  5  6\n",
       "2  7  8  9"
      ]
     },
     "execution_count": 31,
     "metadata": {},
     "output_type": "execute_result"
    }
   ],
   "source": [
    "df = pd.DataFrame([[1,2,3], [4,5,6],[7,8,9]])\n",
    "df"
   ]
  },
  {
   "cell_type": "code",
   "execution_count": 32,
   "metadata": {},
   "outputs": [
    {
     "data": {
      "application/vnd.microsoft.datawrangler.viewer.v0+json": {
       "columns": [
        {
         "name": "index",
         "rawType": "object",
         "type": "string"
        },
        {
         "name": "A",
         "rawType": "int64",
         "type": "integer"
        },
        {
         "name": "B",
         "rawType": "int64",
         "type": "integer"
        },
        {
         "name": "C",
         "rawType": "int64",
         "type": "integer"
        }
       ],
       "conversionMethod": "pd.DataFrame",
       "ref": "9f976e10-9958-4386-9bee-ac2ce79f7dca",
       "rows": [
        [
         "x",
         "1",
         "2",
         "3"
        ],
        [
         "y",
         "4",
         "5",
         "6"
        ],
        [
         "z",
         "7",
         "8",
         "9"
        ]
       ],
       "shape": {
        "columns": 3,
        "rows": 3
       }
      },
      "text/html": [
       "<div>\n",
       "<style scoped>\n",
       "    .dataframe tbody tr th:only-of-type {\n",
       "        vertical-align: middle;\n",
       "    }\n",
       "\n",
       "    .dataframe tbody tr th {\n",
       "        vertical-align: top;\n",
       "    }\n",
       "\n",
       "    .dataframe thead th {\n",
       "        text-align: right;\n",
       "    }\n",
       "</style>\n",
       "<table border=\"1\" class=\"dataframe\">\n",
       "  <thead>\n",
       "    <tr style=\"text-align: right;\">\n",
       "      <th></th>\n",
       "      <th>A</th>\n",
       "      <th>B</th>\n",
       "      <th>C</th>\n",
       "    </tr>\n",
       "  </thead>\n",
       "  <tbody>\n",
       "    <tr>\n",
       "      <th>x</th>\n",
       "      <td>1</td>\n",
       "      <td>2</td>\n",
       "      <td>3</td>\n",
       "    </tr>\n",
       "    <tr>\n",
       "      <th>y</th>\n",
       "      <td>4</td>\n",
       "      <td>5</td>\n",
       "      <td>6</td>\n",
       "    </tr>\n",
       "    <tr>\n",
       "      <th>z</th>\n",
       "      <td>7</td>\n",
       "      <td>8</td>\n",
       "      <td>9</td>\n",
       "    </tr>\n",
       "  </tbody>\n",
       "</table>\n",
       "</div>"
      ],
      "text/plain": [
       "   A  B  C\n",
       "x  1  2  3\n",
       "y  4  5  6\n",
       "z  7  8  9"
      ]
     },
     "execution_count": 32,
     "metadata": {},
     "output_type": "execute_result"
    }
   ],
   "source": [
    "df = pd.DataFrame([[1,2,3], [4,5,6],[7,8,9]], columns=['A', 'B', 'C'], index=['x','y','z'])\n",
    "df"
   ]
  },
  {
   "cell_type": "code",
   "execution_count": 57,
   "metadata": {},
   "outputs": [
    {
     "data": {
      "application/vnd.microsoft.datawrangler.viewer.v0+json": {
       "columns": [
        {
         "name": "index",
         "rawType": "object",
         "type": "string"
        },
        {
         "name": "Name",
         "rawType": "object",
         "type": "string"
        },
        {
         "name": "Age",
         "rawType": "int64",
         "type": "integer"
        },
        {
         "name": "Grade",
         "rawType": "int64",
         "type": "integer"
        },
        {
         "name": "Country",
         "rawType": "object",
         "type": "string"
        }
       ],
       "conversionMethod": "pd.DataFrame",
       "ref": "30e29726-b1be-4fcc-9b17-58c463bf45cc",
       "rows": [
        [
         "ID1",
         "John",
         "28",
         "55",
         "USA"
        ],
        [
         "ID2",
         "John",
         "24",
         "34",
         "UK"
        ],
        [
         "ID3",
         "Peter",
         "35",
         "66",
         "Australia"
        ],
        [
         "ID4",
         "Linda",
         "32",
         "70",
         "Germany"
        ]
       ],
       "shape": {
        "columns": 4,
        "rows": 4
       }
      },
      "text/html": [
       "<div>\n",
       "<style scoped>\n",
       "    .dataframe tbody tr th:only-of-type {\n",
       "        vertical-align: middle;\n",
       "    }\n",
       "\n",
       "    .dataframe tbody tr th {\n",
       "        vertical-align: top;\n",
       "    }\n",
       "\n",
       "    .dataframe thead th {\n",
       "        text-align: right;\n",
       "    }\n",
       "</style>\n",
       "<table border=\"1\" class=\"dataframe\">\n",
       "  <thead>\n",
       "    <tr style=\"text-align: right;\">\n",
       "      <th></th>\n",
       "      <th>Name</th>\n",
       "      <th>Age</th>\n",
       "      <th>Grade</th>\n",
       "      <th>Country</th>\n",
       "    </tr>\n",
       "  </thead>\n",
       "  <tbody>\n",
       "    <tr>\n",
       "      <th>ID1</th>\n",
       "      <td>John</td>\n",
       "      <td>28</td>\n",
       "      <td>55</td>\n",
       "      <td>USA</td>\n",
       "    </tr>\n",
       "    <tr>\n",
       "      <th>ID2</th>\n",
       "      <td>John</td>\n",
       "      <td>24</td>\n",
       "      <td>34</td>\n",
       "      <td>UK</td>\n",
       "    </tr>\n",
       "    <tr>\n",
       "      <th>ID3</th>\n",
       "      <td>Peter</td>\n",
       "      <td>35</td>\n",
       "      <td>66</td>\n",
       "      <td>Australia</td>\n",
       "    </tr>\n",
       "    <tr>\n",
       "      <th>ID4</th>\n",
       "      <td>Linda</td>\n",
       "      <td>32</td>\n",
       "      <td>70</td>\n",
       "      <td>Germany</td>\n",
       "    </tr>\n",
       "  </tbody>\n",
       "</table>\n",
       "</div>"
      ],
      "text/plain": [
       "      Name  Age  Grade    Country\n",
       "ID1   John   28     55        USA\n",
       "ID2   John   24     34         UK\n",
       "ID3  Peter   35     66  Australia\n",
       "ID4  Linda   32     70    Germany"
      ]
     },
     "execution_count": 57,
     "metadata": {},
     "output_type": "execute_result"
    }
   ],
   "source": [
    "# Creating a Dataframe from a dictionary\n",
    "data = {\n",
    "    \"Name\": [\"John\", \"John\", \"Peter\", \"Linda\"],\n",
    "    \"Age\": [28, 24, 35, 32],\n",
    "    \"Grade\": [55, 34, 66, 70],\n",
    "    \"Country\": [\"USA\", \"UK\", \"Australia\", \"Germany\"]\n",
    "}\n",
    "\n",
    "df = pd.DataFrame(data, index=[\"ID1\", \"ID2\", \"ID3\", \"ID4\"])\n",
    "df"
   ]
  },
  {
   "cell_type": "code",
   "execution_count": 38,
   "metadata": {},
   "outputs": [
    {
     "data": {
      "text/plain": [
       "Index(['Name', 'Age', 'Grade', 'Country'], dtype='object')"
      ]
     },
     "execution_count": 38,
     "metadata": {},
     "output_type": "execute_result"
    }
   ],
   "source": [
    "df.columns"
   ]
  },
  {
   "cell_type": "code",
   "execution_count": 27,
   "metadata": {},
   "outputs": [
    {
     "data": {
      "text/plain": [
       "['ID1', 'ID2', 'ID3', 'ID4']"
      ]
     },
     "execution_count": 27,
     "metadata": {},
     "output_type": "execute_result"
    }
   ],
   "source": [
    "df.index.to_list()"
   ]
  },
  {
   "cell_type": "code",
   "execution_count": 39,
   "metadata": {},
   "outputs": [
    {
     "name": "stdout",
     "output_type": "stream",
     "text": [
      "<class 'pandas.core.frame.DataFrame'>\n",
      "Index: 4 entries, ID1 to ID4\n",
      "Data columns (total 4 columns):\n",
      " #   Column   Non-Null Count  Dtype \n",
      "---  ------   --------------  ----- \n",
      " 0   Name     4 non-null      object\n",
      " 1   Age      4 non-null      int64 \n",
      " 2   Grade    4 non-null      int64 \n",
      " 3   Country  4 non-null      object\n",
      "dtypes: int64(2), object(2)\n",
      "memory usage: 332.0+ bytes\n"
     ]
    }
   ],
   "source": [
    "df.info()"
   ]
  },
  {
   "cell_type": "code",
   "execution_count": 40,
   "metadata": {},
   "outputs": [
    {
     "data": {
      "application/vnd.microsoft.datawrangler.viewer.v0+json": {
       "columns": [
        {
         "name": "index",
         "rawType": "object",
         "type": "string"
        },
        {
         "name": "Age",
         "rawType": "float64",
         "type": "float"
        },
        {
         "name": "Grade",
         "rawType": "float64",
         "type": "float"
        }
       ],
       "conversionMethod": "pd.DataFrame",
       "ref": "f824885e-ab50-46bb-bcc9-63f07a014cbd",
       "rows": [
        [
         "count",
         "4.0",
         "4.0"
        ],
        [
         "mean",
         "29.75",
         "56.25"
        ],
        [
         "std",
         "4.7871355387816905",
         "16.132265804901678"
        ],
        [
         "min",
         "24.0",
         "34.0"
        ],
        [
         "25%",
         "27.0",
         "49.75"
        ],
        [
         "50%",
         "30.0",
         "60.5"
        ],
        [
         "75%",
         "32.75",
         "67.0"
        ],
        [
         "max",
         "35.0",
         "70.0"
        ]
       ],
       "shape": {
        "columns": 2,
        "rows": 8
       }
      },
      "text/html": [
       "<div>\n",
       "<style scoped>\n",
       "    .dataframe tbody tr th:only-of-type {\n",
       "        vertical-align: middle;\n",
       "    }\n",
       "\n",
       "    .dataframe tbody tr th {\n",
       "        vertical-align: top;\n",
       "    }\n",
       "\n",
       "    .dataframe thead th {\n",
       "        text-align: right;\n",
       "    }\n",
       "</style>\n",
       "<table border=\"1\" class=\"dataframe\">\n",
       "  <thead>\n",
       "    <tr style=\"text-align: right;\">\n",
       "      <th></th>\n",
       "      <th>Age</th>\n",
       "      <th>Grade</th>\n",
       "    </tr>\n",
       "  </thead>\n",
       "  <tbody>\n",
       "    <tr>\n",
       "      <th>count</th>\n",
       "      <td>4.000000</td>\n",
       "      <td>4.000000</td>\n",
       "    </tr>\n",
       "    <tr>\n",
       "      <th>mean</th>\n",
       "      <td>29.750000</td>\n",
       "      <td>56.250000</td>\n",
       "    </tr>\n",
       "    <tr>\n",
       "      <th>std</th>\n",
       "      <td>4.787136</td>\n",
       "      <td>16.132266</td>\n",
       "    </tr>\n",
       "    <tr>\n",
       "      <th>min</th>\n",
       "      <td>24.000000</td>\n",
       "      <td>34.000000</td>\n",
       "    </tr>\n",
       "    <tr>\n",
       "      <th>25%</th>\n",
       "      <td>27.000000</td>\n",
       "      <td>49.750000</td>\n",
       "    </tr>\n",
       "    <tr>\n",
       "      <th>50%</th>\n",
       "      <td>30.000000</td>\n",
       "      <td>60.500000</td>\n",
       "    </tr>\n",
       "    <tr>\n",
       "      <th>75%</th>\n",
       "      <td>32.750000</td>\n",
       "      <td>67.000000</td>\n",
       "    </tr>\n",
       "    <tr>\n",
       "      <th>max</th>\n",
       "      <td>35.000000</td>\n",
       "      <td>70.000000</td>\n",
       "    </tr>\n",
       "  </tbody>\n",
       "</table>\n",
       "</div>"
      ],
      "text/plain": [
       "             Age      Grade\n",
       "count   4.000000   4.000000\n",
       "mean   29.750000  56.250000\n",
       "std     4.787136  16.132266\n",
       "min    24.000000  34.000000\n",
       "25%    27.000000  49.750000\n",
       "50%    30.000000  60.500000\n",
       "75%    32.750000  67.000000\n",
       "max    35.000000  70.000000"
      ]
     },
     "execution_count": 40,
     "metadata": {},
     "output_type": "execute_result"
    }
   ],
   "source": [
    "df.describe()"
   ]
  },
  {
   "cell_type": "code",
   "execution_count": 42,
   "metadata": {},
   "outputs": [
    {
     "data": {
      "application/vnd.microsoft.datawrangler.viewer.v0+json": {
       "columns": [
        {
         "name": "index",
         "rawType": "object",
         "type": "string"
        },
        {
         "name": "Name",
         "rawType": "object",
         "type": "string"
        },
        {
         "name": "Age",
         "rawType": "int64",
         "type": "integer"
        },
        {
         "name": "Grade",
         "rawType": "int64",
         "type": "integer"
        },
        {
         "name": "Country",
         "rawType": "object",
         "type": "string"
        }
       ],
       "conversionMethod": "pd.DataFrame",
       "ref": "807ff990-df7e-44ee-940d-a1fbdb46edc7",
       "rows": [
        [
         "ID1",
         "John",
         "28",
         "55",
         "USA"
        ],
        [
         "ID2",
         "Anna",
         "24",
         "34",
         "UK"
        ]
       ],
       "shape": {
        "columns": 4,
        "rows": 2
       }
      },
      "text/html": [
       "<div>\n",
       "<style scoped>\n",
       "    .dataframe tbody tr th:only-of-type {\n",
       "        vertical-align: middle;\n",
       "    }\n",
       "\n",
       "    .dataframe tbody tr th {\n",
       "        vertical-align: top;\n",
       "    }\n",
       "\n",
       "    .dataframe thead th {\n",
       "        text-align: right;\n",
       "    }\n",
       "</style>\n",
       "<table border=\"1\" class=\"dataframe\">\n",
       "  <thead>\n",
       "    <tr style=\"text-align: right;\">\n",
       "      <th></th>\n",
       "      <th>Name</th>\n",
       "      <th>Age</th>\n",
       "      <th>Grade</th>\n",
       "      <th>Country</th>\n",
       "    </tr>\n",
       "  </thead>\n",
       "  <tbody>\n",
       "    <tr>\n",
       "      <th>ID1</th>\n",
       "      <td>John</td>\n",
       "      <td>28</td>\n",
       "      <td>55</td>\n",
       "      <td>USA</td>\n",
       "    </tr>\n",
       "    <tr>\n",
       "      <th>ID2</th>\n",
       "      <td>Anna</td>\n",
       "      <td>24</td>\n",
       "      <td>34</td>\n",
       "      <td>UK</td>\n",
       "    </tr>\n",
       "  </tbody>\n",
       "</table>\n",
       "</div>"
      ],
      "text/plain": [
       "     Name  Age  Grade Country\n",
       "ID1  John   28     55     USA\n",
       "ID2  Anna   24     34      UK"
      ]
     },
     "execution_count": 42,
     "metadata": {},
     "output_type": "execute_result"
    }
   ],
   "source": [
    "df.head(2)"
   ]
  },
  {
   "cell_type": "code",
   "execution_count": 43,
   "metadata": {},
   "outputs": [
    {
     "data": {
      "application/vnd.microsoft.datawrangler.viewer.v0+json": {
       "columns": [
        {
         "name": "index",
         "rawType": "object",
         "type": "string"
        },
        {
         "name": "Name",
         "rawType": "object",
         "type": "string"
        },
        {
         "name": "Age",
         "rawType": "int64",
         "type": "integer"
        },
        {
         "name": "Grade",
         "rawType": "int64",
         "type": "integer"
        },
        {
         "name": "Country",
         "rawType": "object",
         "type": "string"
        }
       ],
       "conversionMethod": "pd.DataFrame",
       "ref": "2b4e2420-a8be-4d50-8781-5d2e3b630110",
       "rows": [
        [
         "ID3",
         "Peter",
         "35",
         "66",
         "Australia"
        ],
        [
         "ID4",
         "Linda",
         "32",
         "70",
         "Germany"
        ]
       ],
       "shape": {
        "columns": 4,
        "rows": 2
       }
      },
      "text/html": [
       "<div>\n",
       "<style scoped>\n",
       "    .dataframe tbody tr th:only-of-type {\n",
       "        vertical-align: middle;\n",
       "    }\n",
       "\n",
       "    .dataframe tbody tr th {\n",
       "        vertical-align: top;\n",
       "    }\n",
       "\n",
       "    .dataframe thead th {\n",
       "        text-align: right;\n",
       "    }\n",
       "</style>\n",
       "<table border=\"1\" class=\"dataframe\">\n",
       "  <thead>\n",
       "    <tr style=\"text-align: right;\">\n",
       "      <th></th>\n",
       "      <th>Name</th>\n",
       "      <th>Age</th>\n",
       "      <th>Grade</th>\n",
       "      <th>Country</th>\n",
       "    </tr>\n",
       "  </thead>\n",
       "  <tbody>\n",
       "    <tr>\n",
       "      <th>ID3</th>\n",
       "      <td>Peter</td>\n",
       "      <td>35</td>\n",
       "      <td>66</td>\n",
       "      <td>Australia</td>\n",
       "    </tr>\n",
       "    <tr>\n",
       "      <th>ID4</th>\n",
       "      <td>Linda</td>\n",
       "      <td>32</td>\n",
       "      <td>70</td>\n",
       "      <td>Germany</td>\n",
       "    </tr>\n",
       "  </tbody>\n",
       "</table>\n",
       "</div>"
      ],
      "text/plain": [
       "      Name  Age  Grade    Country\n",
       "ID3  Peter   35     66  Australia\n",
       "ID4  Linda   32     70    Germany"
      ]
     },
     "execution_count": 43,
     "metadata": {},
     "output_type": "execute_result"
    }
   ],
   "source": [
    "df.tail(2)"
   ]
  },
  {
   "cell_type": "code",
   "execution_count": 55,
   "metadata": {},
   "outputs": [
    {
     "data": {
      "application/vnd.microsoft.datawrangler.viewer.v0+json": {
       "columns": [
        {
         "name": "index",
         "rawType": "object",
         "type": "string"
        },
        {
         "name": "Name",
         "rawType": "object",
         "type": "string"
        },
        {
         "name": "Age",
         "rawType": "int64",
         "type": "integer"
        },
        {
         "name": "Grade",
         "rawType": "int64",
         "type": "integer"
        },
        {
         "name": "Country",
         "rawType": "object",
         "type": "string"
        }
       ],
       "conversionMethod": "pd.DataFrame",
       "ref": "4986dfac-d235-443d-8bcc-d5b42185607b",
       "rows": [
        [
         "ID3",
         "Peter",
         "35",
         "66",
         "Australia"
        ],
        [
         "ID4",
         "Linda",
         "32",
         "70",
         "Germany"
        ]
       ],
       "shape": {
        "columns": 4,
        "rows": 2
       }
      },
      "text/html": [
       "<div>\n",
       "<style scoped>\n",
       "    .dataframe tbody tr th:only-of-type {\n",
       "        vertical-align: middle;\n",
       "    }\n",
       "\n",
       "    .dataframe tbody tr th {\n",
       "        vertical-align: top;\n",
       "    }\n",
       "\n",
       "    .dataframe thead th {\n",
       "        text-align: right;\n",
       "    }\n",
       "</style>\n",
       "<table border=\"1\" class=\"dataframe\">\n",
       "  <thead>\n",
       "    <tr style=\"text-align: right;\">\n",
       "      <th></th>\n",
       "      <th>Name</th>\n",
       "      <th>Age</th>\n",
       "      <th>Grade</th>\n",
       "      <th>Country</th>\n",
       "    </tr>\n",
       "  </thead>\n",
       "  <tbody>\n",
       "    <tr>\n",
       "      <th>ID3</th>\n",
       "      <td>Peter</td>\n",
       "      <td>35</td>\n",
       "      <td>66</td>\n",
       "      <td>Australia</td>\n",
       "    </tr>\n",
       "    <tr>\n",
       "      <th>ID4</th>\n",
       "      <td>Linda</td>\n",
       "      <td>32</td>\n",
       "      <td>70</td>\n",
       "      <td>Germany</td>\n",
       "    </tr>\n",
       "  </tbody>\n",
       "</table>\n",
       "</div>"
      ],
      "text/plain": [
       "      Name  Age  Grade    Country\n",
       "ID3  Peter   35     66  Australia\n",
       "ID4  Linda   32     70    Germany"
      ]
     },
     "execution_count": 55,
     "metadata": {},
     "output_type": "execute_result"
    }
   ],
   "source": [
    "df.sample(2, random_state= 2)"
   ]
  },
  {
   "cell_type": "code",
   "execution_count": 58,
   "metadata": {},
   "outputs": [
    {
     "data": {
      "text/plain": [
       "Name       3\n",
       "Age        4\n",
       "Grade      4\n",
       "Country    4\n",
       "dtype: int64"
      ]
     },
     "execution_count": 58,
     "metadata": {},
     "output_type": "execute_result"
    }
   ],
   "source": [
    "df.nunique()"
   ]
  },
  {
   "cell_type": "code",
   "execution_count": 60,
   "metadata": {},
   "outputs": [
    {
     "data": {
      "text/plain": [
       "array(['John', 'Peter', 'Linda'], dtype=object)"
      ]
     },
     "execution_count": 60,
     "metadata": {},
     "output_type": "execute_result"
    }
   ],
   "source": [
    "df['Name'].unique()"
   ]
  },
  {
   "cell_type": "code",
   "execution_count": 61,
   "metadata": {},
   "outputs": [
    {
     "data": {
      "text/plain": [
       "(4, 4)"
      ]
     },
     "execution_count": 61,
     "metadata": {},
     "output_type": "execute_result"
    }
   ],
   "source": [
    "df.shape"
   ]
  },
  {
   "cell_type": "code",
   "execution_count": 62,
   "metadata": {},
   "outputs": [
    {
     "data": {
      "text/plain": [
       "16"
      ]
     },
     "execution_count": 62,
     "metadata": {},
     "output_type": "execute_result"
    }
   ],
   "source": [
    "df.size"
   ]
  },
  {
   "cell_type": "code",
   "execution_count": 75,
   "metadata": {},
   "outputs": [
    {
     "data": {
      "text/plain": [
       "California    38332521\n",
       "Texas         26448193\n",
       "New York      19651127\n",
       "Florida       19552860\n",
       "Illinois      12882135\n",
       "dtype: int64"
      ]
     },
     "execution_count": 75,
     "metadata": {},
     "output_type": "execute_result"
    }
   ],
   "source": [
    "# Creating a dataframe using multiple pandas series\n",
    "population"
   ]
  },
  {
   "cell_type": "code",
   "execution_count": 144,
   "metadata": {},
   "outputs": [
    {
     "data": {
      "text/plain": [
       "California    423967\n",
       "Texas         695662\n",
       "New York      141297\n",
       "Florida       170312\n",
       "Illinois      149995\n",
       "dtype: int64"
      ]
     },
     "execution_count": 144,
     "metadata": {},
     "output_type": "execute_result"
    }
   ],
   "source": [
    "area_dict = {'California': 423967, 'Texas': 695662, 'New York': 141297,'Florida': 170312, 'Illinois': 149995}\n",
    "area = pd.Series(area_dict)\n",
    "area"
   ]
  },
  {
   "cell_type": "code",
   "execution_count": 146,
   "metadata": {},
   "outputs": [
    {
     "data": {
      "application/vnd.microsoft.datawrangler.viewer.v0+json": {
       "columns": [
        {
         "name": "index",
         "rawType": "object",
         "type": "string"
        },
        {
         "name": "population",
         "rawType": "int64",
         "type": "integer"
        },
        {
         "name": "area",
         "rawType": "int64",
         "type": "integer"
        }
       ],
       "conversionMethod": "pd.DataFrame",
       "ref": "bb87fb9d-8830-4a75-9295-404d712f1f33",
       "rows": [
        [
         "California",
         "38332521",
         "423967"
        ],
        [
         "Texas",
         "26448193",
         "695662"
        ],
        [
         "New York",
         "19651127",
         "141297"
        ],
        [
         "Florida",
         "19552860",
         "170312"
        ],
        [
         "Illinois",
         "12882135",
         "149995"
        ]
       ],
       "shape": {
        "columns": 2,
        "rows": 5
       }
      },
      "text/html": [
       "<div>\n",
       "<style scoped>\n",
       "    .dataframe tbody tr th:only-of-type {\n",
       "        vertical-align: middle;\n",
       "    }\n",
       "\n",
       "    .dataframe tbody tr th {\n",
       "        vertical-align: top;\n",
       "    }\n",
       "\n",
       "    .dataframe thead th {\n",
       "        text-align: right;\n",
       "    }\n",
       "</style>\n",
       "<table border=\"1\" class=\"dataframe\">\n",
       "  <thead>\n",
       "    <tr style=\"text-align: right;\">\n",
       "      <th></th>\n",
       "      <th>population</th>\n",
       "      <th>area</th>\n",
       "    </tr>\n",
       "  </thead>\n",
       "  <tbody>\n",
       "    <tr>\n",
       "      <th>California</th>\n",
       "      <td>38332521</td>\n",
       "      <td>423967</td>\n",
       "    </tr>\n",
       "    <tr>\n",
       "      <th>Texas</th>\n",
       "      <td>26448193</td>\n",
       "      <td>695662</td>\n",
       "    </tr>\n",
       "    <tr>\n",
       "      <th>New York</th>\n",
       "      <td>19651127</td>\n",
       "      <td>141297</td>\n",
       "    </tr>\n",
       "    <tr>\n",
       "      <th>Florida</th>\n",
       "      <td>19552860</td>\n",
       "      <td>170312</td>\n",
       "    </tr>\n",
       "    <tr>\n",
       "      <th>Illinois</th>\n",
       "      <td>12882135</td>\n",
       "      <td>149995</td>\n",
       "    </tr>\n",
       "  </tbody>\n",
       "</table>\n",
       "</div>"
      ],
      "text/plain": [
       "            population    area\n",
       "California    38332521  423967\n",
       "Texas         26448193  695662\n",
       "New York      19651127  141297\n",
       "Florida       19552860  170312\n",
       "Illinois      12882135  149995"
      ]
     },
     "execution_count": 146,
     "metadata": {},
     "output_type": "execute_result"
    }
   ],
   "source": [
    "states = pd.DataFrame({'population': population,'area': area})\n",
    "# states = pd.DataFrame([population, area], index=['population', 'area'])\n",
    "# states.T \n",
    "\n",
    "states"
   ]
  },
  {
   "cell_type": "code",
   "execution_count": 83,
   "metadata": {},
   "outputs": [
    {
     "data": {
      "application/vnd.microsoft.datawrangler.viewer.v0+json": {
       "columns": [
        {
         "name": "index",
         "rawType": "int64",
         "type": "integer"
        },
        {
         "name": "series1",
         "rawType": "int64",
         "type": "integer"
        },
        {
         "name": "series2",
         "rawType": "int64",
         "type": "integer"
        }
       ],
       "conversionMethod": "pd.DataFrame",
       "ref": "962c1a45-209c-4946-9bce-7e814f4558f3",
       "rows": [
        [
         "1",
         "2",
         "4"
        ],
        [
         "2",
         "4",
         "534"
        ],
        [
         "3",
         "543",
         "212"
        ],
        [
         "4",
         "32",
         "23"
        ]
       ],
       "shape": {
        "columns": 2,
        "rows": 4
       }
      },
      "text/html": [
       "<div>\n",
       "<style scoped>\n",
       "    .dataframe tbody tr th:only-of-type {\n",
       "        vertical-align: middle;\n",
       "    }\n",
       "\n",
       "    .dataframe tbody tr th {\n",
       "        vertical-align: top;\n",
       "    }\n",
       "\n",
       "    .dataframe thead th {\n",
       "        text-align: right;\n",
       "    }\n",
       "</style>\n",
       "<table border=\"1\" class=\"dataframe\">\n",
       "  <thead>\n",
       "    <tr style=\"text-align: right;\">\n",
       "      <th></th>\n",
       "      <th>series1</th>\n",
       "      <th>series2</th>\n",
       "    </tr>\n",
       "  </thead>\n",
       "  <tbody>\n",
       "    <tr>\n",
       "      <th>1</th>\n",
       "      <td>2</td>\n",
       "      <td>4</td>\n",
       "    </tr>\n",
       "    <tr>\n",
       "      <th>2</th>\n",
       "      <td>4</td>\n",
       "      <td>534</td>\n",
       "    </tr>\n",
       "    <tr>\n",
       "      <th>3</th>\n",
       "      <td>543</td>\n",
       "      <td>212</td>\n",
       "    </tr>\n",
       "    <tr>\n",
       "      <th>4</th>\n",
       "      <td>32</td>\n",
       "      <td>23</td>\n",
       "    </tr>\n",
       "  </tbody>\n",
       "</table>\n",
       "</div>"
      ],
      "text/plain": [
       "   series1  series2\n",
       "1        2        4\n",
       "2        4      534\n",
       "3      543      212\n",
       "4       32       23"
      ]
     },
     "execution_count": 83,
     "metadata": {},
     "output_type": "execute_result"
    }
   ],
   "source": [
    "series1 = pd.Series([2,4,543,32])\n",
    "series2 = pd.Series([4,534,212,23])\n",
    "ind = pd.Index([1,2,3,4])\n",
    "\n",
    "df = pd.DataFrame({'series1':series1, 'series2':series2})\n",
    "df.set_index(ind)"
   ]
  },
  {
   "cell_type": "markdown",
   "metadata": {},
   "source": [
    "### Assignment 1\n",
    "1. Create a Series object from a list of 10 items using a customized index values. \n",
    "2. Create a Series object from a dictionary of 10 items. \n",
    "3. Create a DataFrame object from a Series object with a customized index values\n",
    "4. Create a DataFrame object generated from random values of 5 rows by 5 columns numpy array. Give each columns a title and each index a name.\n",
    "5. Separate the DataFrame in number 4 to its individual Index, Values and Columns"
   ]
  },
  {
   "cell_type": "markdown",
   "metadata": {},
   "source": [
    "### Loading in Dataframes from files"
   ]
  },
  {
   "cell_type": "code",
   "execution_count": 84,
   "metadata": {},
   "outputs": [
    {
     "data": {
      "application/vnd.microsoft.datawrangler.viewer.v0+json": {
       "columns": [
        {
         "name": "index",
         "rawType": "int64",
         "type": "integer"
        },
        {
         "name": "Day",
         "rawType": "object",
         "type": "string"
        },
        {
         "name": "Coffee Type",
         "rawType": "object",
         "type": "string"
        },
        {
         "name": "Units Sold",
         "rawType": "int64",
         "type": "integer"
        }
       ],
       "conversionMethod": "pd.DataFrame",
       "ref": "f1b98fb6-ccf4-4ee4-b35f-7dd0b18faf33",
       "rows": [
        [
         "0",
         "Monday",
         "Espresso",
         "25"
        ],
        [
         "1",
         "Monday",
         "Latte",
         "15"
        ],
        [
         "2",
         "Tuesday",
         "Espresso",
         "30"
        ],
        [
         "3",
         "Tuesday",
         "Latte",
         "20"
        ],
        [
         "4",
         "Wednesday",
         "Espresso",
         "35"
        ]
       ],
       "shape": {
        "columns": 3,
        "rows": 5
       }
      },
      "text/html": [
       "<div>\n",
       "<style scoped>\n",
       "    .dataframe tbody tr th:only-of-type {\n",
       "        vertical-align: middle;\n",
       "    }\n",
       "\n",
       "    .dataframe tbody tr th {\n",
       "        vertical-align: top;\n",
       "    }\n",
       "\n",
       "    .dataframe thead th {\n",
       "        text-align: right;\n",
       "    }\n",
       "</style>\n",
       "<table border=\"1\" class=\"dataframe\">\n",
       "  <thead>\n",
       "    <tr style=\"text-align: right;\">\n",
       "      <th></th>\n",
       "      <th>Day</th>\n",
       "      <th>Coffee Type</th>\n",
       "      <th>Units Sold</th>\n",
       "    </tr>\n",
       "  </thead>\n",
       "  <tbody>\n",
       "    <tr>\n",
       "      <th>0</th>\n",
       "      <td>Monday</td>\n",
       "      <td>Espresso</td>\n",
       "      <td>25</td>\n",
       "    </tr>\n",
       "    <tr>\n",
       "      <th>1</th>\n",
       "      <td>Monday</td>\n",
       "      <td>Latte</td>\n",
       "      <td>15</td>\n",
       "    </tr>\n",
       "    <tr>\n",
       "      <th>2</th>\n",
       "      <td>Tuesday</td>\n",
       "      <td>Espresso</td>\n",
       "      <td>30</td>\n",
       "    </tr>\n",
       "    <tr>\n",
       "      <th>3</th>\n",
       "      <td>Tuesday</td>\n",
       "      <td>Latte</td>\n",
       "      <td>20</td>\n",
       "    </tr>\n",
       "    <tr>\n",
       "      <th>4</th>\n",
       "      <td>Wednesday</td>\n",
       "      <td>Espresso</td>\n",
       "      <td>35</td>\n",
       "    </tr>\n",
       "  </tbody>\n",
       "</table>\n",
       "</div>"
      ],
      "text/plain": [
       "         Day Coffee Type  Units Sold\n",
       "0     Monday    Espresso          25\n",
       "1     Monday       Latte          15\n",
       "2    Tuesday    Espresso          30\n",
       "3    Tuesday       Latte          20\n",
       "4  Wednesday    Espresso          35"
      ]
     },
     "execution_count": 84,
     "metadata": {},
     "output_type": "execute_result"
    }
   ],
   "source": [
    "coffee = pd.read_csv('./datasets/coffee.csv')\n",
    "coffee.head()"
   ]
  },
  {
   "cell_type": "code",
   "execution_count": 85,
   "metadata": {},
   "outputs": [
    {
     "data": {
      "application/vnd.microsoft.datawrangler.viewer.v0+json": {
       "columns": [
        {
         "name": "index",
         "rawType": "int64",
         "type": "integer"
        },
        {
         "name": "year",
         "rawType": "float64",
         "type": "float"
        },
        {
         "name": "type",
         "rawType": "object",
         "type": "string"
        },
        {
         "name": "discipline",
         "rawType": "object",
         "type": "string"
        },
        {
         "name": "event",
         "rawType": "object",
         "type": "string"
        },
        {
         "name": "as",
         "rawType": "object",
         "type": "string"
        },
        {
         "name": "athlete_id",
         "rawType": "int64",
         "type": "integer"
        },
        {
         "name": "noc",
         "rawType": "object",
         "type": "string"
        },
        {
         "name": "team",
         "rawType": "object",
         "type": "unknown"
        },
        {
         "name": "place",
         "rawType": "float64",
         "type": "float"
        },
        {
         "name": "tied",
         "rawType": "bool",
         "type": "boolean"
        },
        {
         "name": "medal",
         "rawType": "object",
         "type": "unknown"
        }
       ],
       "conversionMethod": "pd.DataFrame",
       "ref": "c2ddf6d5-f55f-4ca6-8108-d8e7e8f34163",
       "rows": [
        [
         "0",
         "1912.0",
         "Summer",
         "Tennis",
         "Singles, Men (Olympic)",
         "Jean-François Blanchy",
         "1",
         "FRA",
         null,
         "17.0",
         "True",
         null
        ],
        [
         "1",
         "1912.0",
         "Summer",
         "Tennis",
         "Doubles, Men (Olympic)",
         "Jean-François Blanchy",
         "1",
         "FRA",
         "Jean Montariol",
         null,
         "False",
         null
        ],
        [
         "2",
         "1920.0",
         "Summer",
         "Tennis",
         "Singles, Men (Olympic)",
         "Jean-François Blanchy",
         "1",
         "FRA",
         null,
         "32.0",
         "True",
         null
        ],
        [
         "3",
         "1920.0",
         "Summer",
         "Tennis",
         "Doubles, Mixed (Olympic)",
         "Jean-François Blanchy",
         "1",
         "FRA",
         "Jeanne Vaussard",
         "8.0",
         "True",
         null
        ],
        [
         "4",
         "1920.0",
         "Summer",
         "Tennis",
         "Doubles, Men (Olympic)",
         "Jean-François Blanchy",
         "1",
         "FRA",
         "Jacques Brugnon",
         "4.0",
         "False",
         null
        ]
       ],
       "shape": {
        "columns": 11,
        "rows": 5
       }
      },
      "text/html": [
       "<div>\n",
       "<style scoped>\n",
       "    .dataframe tbody tr th:only-of-type {\n",
       "        vertical-align: middle;\n",
       "    }\n",
       "\n",
       "    .dataframe tbody tr th {\n",
       "        vertical-align: top;\n",
       "    }\n",
       "\n",
       "    .dataframe thead th {\n",
       "        text-align: right;\n",
       "    }\n",
       "</style>\n",
       "<table border=\"1\" class=\"dataframe\">\n",
       "  <thead>\n",
       "    <tr style=\"text-align: right;\">\n",
       "      <th></th>\n",
       "      <th>year</th>\n",
       "      <th>type</th>\n",
       "      <th>discipline</th>\n",
       "      <th>event</th>\n",
       "      <th>as</th>\n",
       "      <th>athlete_id</th>\n",
       "      <th>noc</th>\n",
       "      <th>team</th>\n",
       "      <th>place</th>\n",
       "      <th>tied</th>\n",
       "      <th>medal</th>\n",
       "    </tr>\n",
       "  </thead>\n",
       "  <tbody>\n",
       "    <tr>\n",
       "      <th>0</th>\n",
       "      <td>1912.0</td>\n",
       "      <td>Summer</td>\n",
       "      <td>Tennis</td>\n",
       "      <td>Singles, Men (Olympic)</td>\n",
       "      <td>Jean-François Blanchy</td>\n",
       "      <td>1</td>\n",
       "      <td>FRA</td>\n",
       "      <td>None</td>\n",
       "      <td>17.0</td>\n",
       "      <td>True</td>\n",
       "      <td>None</td>\n",
       "    </tr>\n",
       "    <tr>\n",
       "      <th>1</th>\n",
       "      <td>1912.0</td>\n",
       "      <td>Summer</td>\n",
       "      <td>Tennis</td>\n",
       "      <td>Doubles, Men (Olympic)</td>\n",
       "      <td>Jean-François Blanchy</td>\n",
       "      <td>1</td>\n",
       "      <td>FRA</td>\n",
       "      <td>Jean Montariol</td>\n",
       "      <td>NaN</td>\n",
       "      <td>False</td>\n",
       "      <td>None</td>\n",
       "    </tr>\n",
       "    <tr>\n",
       "      <th>2</th>\n",
       "      <td>1920.0</td>\n",
       "      <td>Summer</td>\n",
       "      <td>Tennis</td>\n",
       "      <td>Singles, Men (Olympic)</td>\n",
       "      <td>Jean-François Blanchy</td>\n",
       "      <td>1</td>\n",
       "      <td>FRA</td>\n",
       "      <td>None</td>\n",
       "      <td>32.0</td>\n",
       "      <td>True</td>\n",
       "      <td>None</td>\n",
       "    </tr>\n",
       "    <tr>\n",
       "      <th>3</th>\n",
       "      <td>1920.0</td>\n",
       "      <td>Summer</td>\n",
       "      <td>Tennis</td>\n",
       "      <td>Doubles, Mixed (Olympic)</td>\n",
       "      <td>Jean-François Blanchy</td>\n",
       "      <td>1</td>\n",
       "      <td>FRA</td>\n",
       "      <td>Jeanne Vaussard</td>\n",
       "      <td>8.0</td>\n",
       "      <td>True</td>\n",
       "      <td>None</td>\n",
       "    </tr>\n",
       "    <tr>\n",
       "      <th>4</th>\n",
       "      <td>1920.0</td>\n",
       "      <td>Summer</td>\n",
       "      <td>Tennis</td>\n",
       "      <td>Doubles, Men (Olympic)</td>\n",
       "      <td>Jean-François Blanchy</td>\n",
       "      <td>1</td>\n",
       "      <td>FRA</td>\n",
       "      <td>Jacques Brugnon</td>\n",
       "      <td>4.0</td>\n",
       "      <td>False</td>\n",
       "      <td>None</td>\n",
       "    </tr>\n",
       "  </tbody>\n",
       "</table>\n",
       "</div>"
      ],
      "text/plain": [
       "     year    type discipline                     event                     as  \\\n",
       "0  1912.0  Summer     Tennis    Singles, Men (Olympic)  Jean-François Blanchy   \n",
       "1  1912.0  Summer     Tennis    Doubles, Men (Olympic)  Jean-François Blanchy   \n",
       "2  1920.0  Summer     Tennis    Singles, Men (Olympic)  Jean-François Blanchy   \n",
       "3  1920.0  Summer     Tennis  Doubles, Mixed (Olympic)  Jean-François Blanchy   \n",
       "4  1920.0  Summer     Tennis    Doubles, Men (Olympic)  Jean-François Blanchy   \n",
       "\n",
       "   athlete_id  noc             team  place   tied medal  \n",
       "0           1  FRA             None   17.0   True  None  \n",
       "1           1  FRA   Jean Montariol    NaN  False  None  \n",
       "2           1  FRA             None   32.0   True  None  \n",
       "3           1  FRA  Jeanne Vaussard    8.0   True  None  \n",
       "4           1  FRA  Jacques Brugnon    4.0  False  None  "
      ]
     },
     "execution_count": 85,
     "metadata": {},
     "output_type": "execute_result"
    }
   ],
   "source": [
    "result = pd.read_feather('./datasets/results.feather')\n",
    "result.head()"
   ]
  },
  {
   "cell_type": "code",
   "execution_count": 91,
   "metadata": {},
   "outputs": [
    {
     "data": {
      "application/vnd.microsoft.datawrangler.viewer.v0+json": {
       "columns": [
        {
         "name": "index",
         "rawType": "int64",
         "type": "integer"
        },
        {
         "name": "year",
         "rawType": "float64",
         "type": "float"
        },
        {
         "name": "type",
         "rawType": "object",
         "type": "string"
        },
        {
         "name": "discipline",
         "rawType": "object",
         "type": "string"
        },
        {
         "name": "event",
         "rawType": "object",
         "type": "string"
        },
        {
         "name": "as",
         "rawType": "object",
         "type": "string"
        },
        {
         "name": "athlete_id",
         "rawType": "int64",
         "type": "integer"
        },
        {
         "name": "noc",
         "rawType": "object",
         "type": "string"
        },
        {
         "name": "team",
         "rawType": "object",
         "type": "unknown"
        },
        {
         "name": "place",
         "rawType": "float64",
         "type": "float"
        },
        {
         "name": "tied",
         "rawType": "bool",
         "type": "boolean"
        },
        {
         "name": "medal",
         "rawType": "object",
         "type": "unknown"
        }
       ],
       "conversionMethod": "pd.DataFrame",
       "ref": "b28fb663-0766-44e6-9b82-15b04a001648",
       "rows": [
        [
         "0",
         "1912.0",
         "Summer",
         "Tennis",
         "Singles, Men (Olympic)",
         "Jean-François Blanchy",
         "1",
         "FRA",
         null,
         "17.0",
         "True",
         null
        ],
        [
         "1",
         "1912.0",
         "Summer",
         "Tennis",
         "Doubles, Men (Olympic)",
         "Jean-François Blanchy",
         "1",
         "FRA",
         "Jean Montariol",
         null,
         "False",
         null
        ],
        [
         "2",
         "1920.0",
         "Summer",
         "Tennis",
         "Singles, Men (Olympic)",
         "Jean-François Blanchy",
         "1",
         "FRA",
         null,
         "32.0",
         "True",
         null
        ],
        [
         "3",
         "1920.0",
         "Summer",
         "Tennis",
         "Doubles, Mixed (Olympic)",
         "Jean-François Blanchy",
         "1",
         "FRA",
         "Jeanne Vaussard",
         "8.0",
         "True",
         null
        ],
        [
         "4",
         "1920.0",
         "Summer",
         "Tennis",
         "Doubles, Men (Olympic)",
         "Jean-François Blanchy",
         "1",
         "FRA",
         "Jacques Brugnon",
         "4.0",
         "False",
         null
        ]
       ],
       "shape": {
        "columns": 11,
        "rows": 5
       }
      },
      "text/html": [
       "<div>\n",
       "<style scoped>\n",
       "    .dataframe tbody tr th:only-of-type {\n",
       "        vertical-align: middle;\n",
       "    }\n",
       "\n",
       "    .dataframe tbody tr th {\n",
       "        vertical-align: top;\n",
       "    }\n",
       "\n",
       "    .dataframe thead th {\n",
       "        text-align: right;\n",
       "    }\n",
       "</style>\n",
       "<table border=\"1\" class=\"dataframe\">\n",
       "  <thead>\n",
       "    <tr style=\"text-align: right;\">\n",
       "      <th></th>\n",
       "      <th>year</th>\n",
       "      <th>type</th>\n",
       "      <th>discipline</th>\n",
       "      <th>event</th>\n",
       "      <th>as</th>\n",
       "      <th>athlete_id</th>\n",
       "      <th>noc</th>\n",
       "      <th>team</th>\n",
       "      <th>place</th>\n",
       "      <th>tied</th>\n",
       "      <th>medal</th>\n",
       "    </tr>\n",
       "  </thead>\n",
       "  <tbody>\n",
       "    <tr>\n",
       "      <th>0</th>\n",
       "      <td>1912.0</td>\n",
       "      <td>Summer</td>\n",
       "      <td>Tennis</td>\n",
       "      <td>Singles, Men (Olympic)</td>\n",
       "      <td>Jean-François Blanchy</td>\n",
       "      <td>1</td>\n",
       "      <td>FRA</td>\n",
       "      <td>None</td>\n",
       "      <td>17.0</td>\n",
       "      <td>True</td>\n",
       "      <td>None</td>\n",
       "    </tr>\n",
       "    <tr>\n",
       "      <th>1</th>\n",
       "      <td>1912.0</td>\n",
       "      <td>Summer</td>\n",
       "      <td>Tennis</td>\n",
       "      <td>Doubles, Men (Olympic)</td>\n",
       "      <td>Jean-François Blanchy</td>\n",
       "      <td>1</td>\n",
       "      <td>FRA</td>\n",
       "      <td>Jean Montariol</td>\n",
       "      <td>NaN</td>\n",
       "      <td>False</td>\n",
       "      <td>None</td>\n",
       "    </tr>\n",
       "    <tr>\n",
       "      <th>2</th>\n",
       "      <td>1920.0</td>\n",
       "      <td>Summer</td>\n",
       "      <td>Tennis</td>\n",
       "      <td>Singles, Men (Olympic)</td>\n",
       "      <td>Jean-François Blanchy</td>\n",
       "      <td>1</td>\n",
       "      <td>FRA</td>\n",
       "      <td>None</td>\n",
       "      <td>32.0</td>\n",
       "      <td>True</td>\n",
       "      <td>None</td>\n",
       "    </tr>\n",
       "    <tr>\n",
       "      <th>3</th>\n",
       "      <td>1920.0</td>\n",
       "      <td>Summer</td>\n",
       "      <td>Tennis</td>\n",
       "      <td>Doubles, Mixed (Olympic)</td>\n",
       "      <td>Jean-François Blanchy</td>\n",
       "      <td>1</td>\n",
       "      <td>FRA</td>\n",
       "      <td>Jeanne Vaussard</td>\n",
       "      <td>8.0</td>\n",
       "      <td>True</td>\n",
       "      <td>None</td>\n",
       "    </tr>\n",
       "    <tr>\n",
       "      <th>4</th>\n",
       "      <td>1920.0</td>\n",
       "      <td>Summer</td>\n",
       "      <td>Tennis</td>\n",
       "      <td>Doubles, Men (Olympic)</td>\n",
       "      <td>Jean-François Blanchy</td>\n",
       "      <td>1</td>\n",
       "      <td>FRA</td>\n",
       "      <td>Jacques Brugnon</td>\n",
       "      <td>4.0</td>\n",
       "      <td>False</td>\n",
       "      <td>None</td>\n",
       "    </tr>\n",
       "  </tbody>\n",
       "</table>\n",
       "</div>"
      ],
      "text/plain": [
       "     year    type discipline                     event                     as  \\\n",
       "0  1912.0  Summer     Tennis    Singles, Men (Olympic)  Jean-François Blanchy   \n",
       "1  1912.0  Summer     Tennis    Doubles, Men (Olympic)  Jean-François Blanchy   \n",
       "2  1920.0  Summer     Tennis    Singles, Men (Olympic)  Jean-François Blanchy   \n",
       "3  1920.0  Summer     Tennis  Doubles, Mixed (Olympic)  Jean-François Blanchy   \n",
       "4  1920.0  Summer     Tennis    Doubles, Men (Olympic)  Jean-François Blanchy   \n",
       "\n",
       "   athlete_id  noc             team  place   tied medal  \n",
       "0           1  FRA             None   17.0   True  None  \n",
       "1           1  FRA   Jean Montariol    NaN  False  None  \n",
       "2           1  FRA             None   32.0   True  None  \n",
       "3           1  FRA  Jeanne Vaussard    8.0   True  None  \n",
       "4           1  FRA  Jacques Brugnon    4.0  False  None  "
      ]
     },
     "execution_count": 91,
     "metadata": {},
     "output_type": "execute_result"
    }
   ],
   "source": [
    "result = pd.read_parquet('./datasets/results.parquet')\n",
    "result.head()"
   ]
  },
  {
   "cell_type": "code",
   "execution_count": 87,
   "metadata": {},
   "outputs": [
    {
     "data": {
      "application/vnd.microsoft.datawrangler.viewer.v0+json": {
       "columns": [
        {
         "name": "index",
         "rawType": "int64",
         "type": "integer"
        },
        {
         "name": "athlete_id",
         "rawType": "int64",
         "type": "integer"
        },
        {
         "name": "name",
         "rawType": "object",
         "type": "string"
        },
        {
         "name": "born_date",
         "rawType": "object",
         "type": "unknown"
        },
        {
         "name": "born_city",
         "rawType": "object",
         "type": "unknown"
        },
        {
         "name": "born_region",
         "rawType": "object",
         "type": "unknown"
        },
        {
         "name": "born_country",
         "rawType": "object",
         "type": "unknown"
        },
        {
         "name": "NOC",
         "rawType": "object",
         "type": "unknown"
        },
        {
         "name": "height_cm",
         "rawType": "float64",
         "type": "float"
        },
        {
         "name": "weight_kg",
         "rawType": "float64",
         "type": "float"
        },
        {
         "name": "died_date",
         "rawType": "object",
         "type": "unknown"
        }
       ],
       "conversionMethod": "pd.DataFrame",
       "ref": "e8bfc2ed-747e-40e5-983a-3fa2ab72ef0c",
       "rows": [
        [
         "0",
         "1",
         "Jean-François Blanchy",
         "1886-12-12",
         "Bordeaux",
         "Gironde",
         "FRA",
         "France",
         null,
         null,
         "1960-10-02"
        ],
        [
         "1",
         "2",
         "Arnaud Boetsch",
         "1969-04-01",
         "Meulan",
         "Yvelines",
         "FRA",
         "France",
         "183.0",
         "76.0",
         null
        ],
        [
         "2",
         "3",
         "Jean Borotra",
         "1898-08-13",
         "Biarritz",
         "Pyrénées-Atlantiques",
         "FRA",
         "France",
         "183.0",
         "76.0",
         "1994-07-17"
        ],
        [
         "3",
         "4",
         "Jacques Brugnon",
         "1895-05-11",
         "Paris VIIIe",
         "Paris",
         "FRA",
         "France",
         "168.0",
         "64.0",
         "1978-03-20"
        ],
        [
         "4",
         "5",
         "Albert Canet",
         "1878-04-17",
         "Wandsworth",
         "England",
         "GBR",
         "France",
         null,
         null,
         "1930-07-25"
        ],
        [
         "5",
         "6",
         "Nicolas Chatelain",
         "1970-01-13",
         "Amiens",
         "Somme",
         "FRA",
         "France",
         "181.0",
         "70.0",
         null
        ],
        [
         "6",
         "7",
         "Patrick Chila",
         "1969-11-27",
         "Ris-Orangis",
         "Essonne",
         "FRA",
         "France",
         "180.0",
         "73.0",
         null
        ],
        [
         "7",
         "8",
         "Henri Cochet",
         "1901-12-14",
         "Villeurbanne",
         "Rhône",
         "FRA",
         "France",
         null,
         null,
         "1987-04-02"
        ],
        [
         "8",
         "9",
         "Marcel Cousin",
         "1896-08-04",
         "Nîmes",
         "Gard",
         "FRA",
         "France",
         null,
         null,
         "1986-08-01"
        ],
        [
         "9",
         "10",
         "Guy de la Chapelle",
         "1868-07-16",
         "Farges-Allichamps",
         "Cher",
         "FRA",
         "France",
         null,
         null,
         "1923-08-27"
        ],
        [
         "10",
         "11",
         "Élie, Comte de Lastours",
         "1874-08-12",
         "Orgeval",
         "Yvelines",
         "FRA",
         "France",
         null,
         null,
         "1932-11-18"
        ],
        [
         "11",
         "12",
         "Max Decugis",
         "1882-09-24",
         "Paris XVIe",
         "Paris",
         "FRA",
         "France",
         null,
         null,
         "1978-09-06"
        ],
        [
         "12",
         "13",
         "J. Defert",
         null,
         null,
         null,
         null,
         "France",
         null,
         null,
         null
        ],
        [
         "13",
         "14",
         "Étienne Durand",
         null,
         null,
         null,
         null,
         "France",
         null,
         null,
         null
        ],
        [
         "14",
         "15",
         "Damien Éloi",
         "1969-07-04",
         "Vire",
         "Calvados",
         "FRA",
         "France",
         "165.0",
         "58.0",
         null
        ],
        [
         "15",
         "16",
         "Adrien Fauchier-Magnan",
         "1873-11-19",
         "Paris VIIIe",
         "Paris",
         "FRA",
         "France",
         null,
         null,
         "1965-08-06"
        ],
        [
         "16",
         "17",
         "Guy Forget",
         "1965-01-04",
         "Casablanca",
         "Casablanca-Settat",
         "MAR",
         "France",
         "189.0",
         "79.0",
         null
        ],
        [
         "17",
         "18",
         "Jean-Philippe Gatien",
         "1968-10-16",
         "Alès",
         "Gard",
         "FRA",
         "France",
         "178.0",
         "73.0",
         null
        ],
        [
         "18",
         "19",
         "Maurice Germot",
         "1882-11-15",
         "Vichy",
         "Allier",
         "FRA",
         "France",
         null,
         null,
         "1958-08-06"
        ],
        [
         "19",
         "20",
         "André Gobert",
         "1890-09-30",
         "Paris XVIIe",
         "Paris",
         "FRA",
         "France",
         null,
         null,
         "1951-12-06"
        ],
        [
         "20",
         "21",
         "Pierre Hirsch",
         "1900-11-08",
         "Paris Ie",
         "Paris",
         "FRA",
         "France",
         null,
         null,
         "1942-04-19"
        ],
        [
         "21",
         "22",
         "René Lacoste",
         "1904-07-02",
         "Paris Xe",
         "Paris",
         "FRA",
         "France",
         null,
         null,
         "1996-10-12"
        ],
        [
         "22",
         "23",
         "Daniel Lawton",
         "1881-11-27",
         "Cantenac",
         "Gironde",
         "FRA",
         "France",
         null,
         null,
         "1979-03-27"
        ],
        [
         "23",
         "24",
         "Paul Lebreton",
         "1875-10-19",
         "Paris IIe",
         "Paris",
         "FRA",
         "France",
         null,
         null,
         "1960-03-31"
        ],
        [
         "24",
         "25",
         "Paul Lecaron",
         "1863-07-29",
         "Neuilly-sur-Seine",
         "Hauts-de-Seine",
         "FRA",
         "France",
         null,
         null,
         "1940-09-17"
        ],
        [
         "25",
         "26",
         "Henri Leconte",
         "1963-07-04",
         "Lillers",
         "Pas-de-Calais",
         "FRA",
         "France",
         "184.0",
         "78.0",
         null
        ],
        [
         "26",
         "27",
         "Christophe Legoût",
         "1973-08-06",
         "Montbéliard",
         "Doubs",
         "FRA",
         "France",
         "177.0",
         "75.0",
         null
        ],
        [
         "27",
         "28",
         "Guy, Baron Lejeune",
         null,
         null,
         null,
         null,
         "France",
         null,
         null,
         null
        ],
        [
         "28",
         "29",
         "Albert Lippmann",
         null,
         null,
         null,
         null,
         "France",
         null,
         null,
         null
        ],
        [
         "29",
         "30",
         "Édouard Mény de Marangue",
         "1882-11-30",
         "Paris VIe",
         "Paris",
         "FRA",
         "France",
         null,
         null,
         "1960-01-23"
        ],
        [
         "30",
         "31",
         "André Prévost",
         "1875-02-28",
         "Paris VIIIe",
         "Paris",
         "FRA",
         "France",
         null,
         null,
         "1951-11-22"
        ],
        [
         "31",
         "32",
         "Guillaume Raoux",
         "1970-02-14",
         "Bagnols-sur-Cèze",
         "Gard",
         "FRA",
         "France",
         "180.0",
         "77.0",
         null
        ],
        [
         "32",
         "33",
         "Stéphane Renault",
         "1968-03-01",
         "Barfleur",
         "Manche",
         "FRA",
         "France",
         "180.0",
         "72.0",
         null
        ],
        [
         "33",
         "34",
         "Jean-Pierre Samazeuilh",
         "1891-01-17",
         "Bordeaux",
         "Gironde",
         "FRA",
         "France",
         null,
         null,
         "1965-04-13"
        ],
        [
         "34",
         "35",
         "Fabrice Santoro",
         "1972-12-09",
         "Tahiti",
         "Îles du Vent",
         "FPN",
         "France",
         "177.0",
         "68.0",
         null
        ],
        [
         "35",
         "36",
         "Étienne Thobois",
         "1967-09-20",
         "Amiens",
         "Somme",
         "FRA",
         "France",
         "186.0",
         "78.0",
         null
        ],
        [
         "36",
         "37",
         "Pierre Verdé-Delisle",
         "1877-05-16",
         "Trie-la-Ville",
         "Oise",
         "FRA",
         "France",
         null,
         null,
         "1960-07-18"
        ],
        [
         "37",
         "38",
         "Helen Aitchison",
         "1881-12-06",
         "Sunderland",
         "England",
         "GBR",
         "Great Britain",
         null,
         null,
         "1947-05-26"
        ],
        [
         "38",
         "39",
         "Geraldine Beamish",
         "1883-06-23",
         "Forest Gate",
         "England",
         "GBR",
         "Great Britain",
         null,
         null,
         "1972-05-10"
        ],
        [
         "39",
         "40",
         "Dora Boothby",
         "1881-08-02",
         "Finchley",
         "England",
         "GBR",
         "Great Britain",
         null,
         null,
         "1970-02-22"
        ],
        [
         "40",
         "41",
         "Julie Bradbury",
         "1967-02-12",
         "Oxford",
         "England",
         "GBR",
         "Great Britain",
         "175.0",
         "64.0",
         null
        ],
        [
         "41",
         "42",
         "Gillian Clark",
         "1961-09-02",
         "Baghdad",
         "Baghdad",
         "IRQ",
         "Great Britain",
         "176.0",
         "68.0",
         null
        ],
        [
         "42",
         "43",
         "Mildred Coles",
         "1876-04-09",
         "Cranbrook",
         "England",
         "GBR",
         "Great Britain",
         null,
         null,
         "1937-02-24"
        ],
        [
         "43",
         "44",
         "Evelyn Colyer",
         "1902-08-16",
         "Wandsworth",
         "England",
         "GBR",
         "Great Britain",
         null,
         null,
         "1930-11-04"
        ],
        [
         "44",
         "45",
         "Charlotte Cooper",
         "1870-09-22",
         "Ealing",
         "England",
         "GBR",
         "Great Britain",
         null,
         null,
         "1966-10-10"
        ],
        [
         "45",
         "46",
         "Phyllis Covell",
         "1895-05-22",
         "Paddington",
         "England",
         "GBR",
         "Great Britain",
         null,
         null,
         "1982-10-28"
        ],
        [
         "46",
         "47",
         "Gladys Eastlake-Smith",
         "1883-08-14",
         "Lewisham",
         "England",
         "GBR",
         "Great Britain",
         null,
         null,
         "1941-09-18"
        ],
        [
         "47",
         "48",
         "Sara Gomer",
         "1964-05-13",
         "Torquay",
         "England",
         "GBR",
         "Great Britain",
         "190.0",
         "85.0",
         null
        ],
        [
         "48",
         "49",
         "Alison Gordon",
         "1962-12-31",
         "Reading",
         "England",
         "GBR",
         "Great Britain",
         "175.0",
         "68.0",
         null
        ],
        [
         "49",
         "50",
         "Gillian Gowers",
         "1964-04-09",
         null,
         null,
         null,
         "Great Britain",
         "157.0",
         "55.0",
         null
        ]
       ],
       "shape": {
        "columns": 10,
        "rows": 145500
       }
      },
      "text/html": [
       "<div>\n",
       "<style scoped>\n",
       "    .dataframe tbody tr th:only-of-type {\n",
       "        vertical-align: middle;\n",
       "    }\n",
       "\n",
       "    .dataframe tbody tr th {\n",
       "        vertical-align: top;\n",
       "    }\n",
       "\n",
       "    .dataframe thead th {\n",
       "        text-align: right;\n",
       "    }\n",
       "</style>\n",
       "<table border=\"1\" class=\"dataframe\">\n",
       "  <thead>\n",
       "    <tr style=\"text-align: right;\">\n",
       "      <th></th>\n",
       "      <th>athlete_id</th>\n",
       "      <th>name</th>\n",
       "      <th>born_date</th>\n",
       "      <th>born_city</th>\n",
       "      <th>born_region</th>\n",
       "      <th>born_country</th>\n",
       "      <th>NOC</th>\n",
       "      <th>height_cm</th>\n",
       "      <th>weight_kg</th>\n",
       "      <th>died_date</th>\n",
       "    </tr>\n",
       "  </thead>\n",
       "  <tbody>\n",
       "    <tr>\n",
       "      <th>0</th>\n",
       "      <td>1</td>\n",
       "      <td>Jean-François Blanchy</td>\n",
       "      <td>1886-12-12</td>\n",
       "      <td>Bordeaux</td>\n",
       "      <td>Gironde</td>\n",
       "      <td>FRA</td>\n",
       "      <td>France</td>\n",
       "      <td>NaN</td>\n",
       "      <td>NaN</td>\n",
       "      <td>1960-10-02</td>\n",
       "    </tr>\n",
       "    <tr>\n",
       "      <th>1</th>\n",
       "      <td>2</td>\n",
       "      <td>Arnaud Boetsch</td>\n",
       "      <td>1969-04-01</td>\n",
       "      <td>Meulan</td>\n",
       "      <td>Yvelines</td>\n",
       "      <td>FRA</td>\n",
       "      <td>France</td>\n",
       "      <td>183.0</td>\n",
       "      <td>76.0</td>\n",
       "      <td>NaN</td>\n",
       "    </tr>\n",
       "    <tr>\n",
       "      <th>2</th>\n",
       "      <td>3</td>\n",
       "      <td>Jean Borotra</td>\n",
       "      <td>1898-08-13</td>\n",
       "      <td>Biarritz</td>\n",
       "      <td>Pyrénées-Atlantiques</td>\n",
       "      <td>FRA</td>\n",
       "      <td>France</td>\n",
       "      <td>183.0</td>\n",
       "      <td>76.0</td>\n",
       "      <td>1994-07-17</td>\n",
       "    </tr>\n",
       "    <tr>\n",
       "      <th>3</th>\n",
       "      <td>4</td>\n",
       "      <td>Jacques Brugnon</td>\n",
       "      <td>1895-05-11</td>\n",
       "      <td>Paris VIIIe</td>\n",
       "      <td>Paris</td>\n",
       "      <td>FRA</td>\n",
       "      <td>France</td>\n",
       "      <td>168.0</td>\n",
       "      <td>64.0</td>\n",
       "      <td>1978-03-20</td>\n",
       "    </tr>\n",
       "    <tr>\n",
       "      <th>4</th>\n",
       "      <td>5</td>\n",
       "      <td>Albert Canet</td>\n",
       "      <td>1878-04-17</td>\n",
       "      <td>Wandsworth</td>\n",
       "      <td>England</td>\n",
       "      <td>GBR</td>\n",
       "      <td>France</td>\n",
       "      <td>NaN</td>\n",
       "      <td>NaN</td>\n",
       "      <td>1930-07-25</td>\n",
       "    </tr>\n",
       "    <tr>\n",
       "      <th>...</th>\n",
       "      <td>...</td>\n",
       "      <td>...</td>\n",
       "      <td>...</td>\n",
       "      <td>...</td>\n",
       "      <td>...</td>\n",
       "      <td>...</td>\n",
       "      <td>...</td>\n",
       "      <td>...</td>\n",
       "      <td>...</td>\n",
       "      <td>...</td>\n",
       "    </tr>\n",
       "    <tr>\n",
       "      <th>145495</th>\n",
       "      <td>149222</td>\n",
       "      <td>Polina Luchnikova</td>\n",
       "      <td>2002-01-30</td>\n",
       "      <td>Serov</td>\n",
       "      <td>Sverdlovsk</td>\n",
       "      <td>RUS</td>\n",
       "      <td>ROC</td>\n",
       "      <td>167.0</td>\n",
       "      <td>61.0</td>\n",
       "      <td>NaN</td>\n",
       "    </tr>\n",
       "    <tr>\n",
       "      <th>145496</th>\n",
       "      <td>149223</td>\n",
       "      <td>Valeriya Merkusheva</td>\n",
       "      <td>1999-09-20</td>\n",
       "      <td>Moskva (Moscow)</td>\n",
       "      <td>Moskva</td>\n",
       "      <td>RUS</td>\n",
       "      <td>ROC</td>\n",
       "      <td>168.0</td>\n",
       "      <td>65.0</td>\n",
       "      <td>NaN</td>\n",
       "    </tr>\n",
       "    <tr>\n",
       "      <th>145497</th>\n",
       "      <td>149224</td>\n",
       "      <td>Yuliya Smirnova</td>\n",
       "      <td>1998-05-08</td>\n",
       "      <td>Kotlas</td>\n",
       "      <td>Arkhangelsk</td>\n",
       "      <td>RUS</td>\n",
       "      <td>ROC</td>\n",
       "      <td>163.0</td>\n",
       "      <td>55.0</td>\n",
       "      <td>NaN</td>\n",
       "    </tr>\n",
       "    <tr>\n",
       "      <th>145498</th>\n",
       "      <td>149225</td>\n",
       "      <td>André Foussard</td>\n",
       "      <td>1899-05-19</td>\n",
       "      <td>Niort</td>\n",
       "      <td>Deux-Sèvres</td>\n",
       "      <td>FRA</td>\n",
       "      <td>France</td>\n",
       "      <td>166.0</td>\n",
       "      <td>NaN</td>\n",
       "      <td>1986-03-18</td>\n",
       "    </tr>\n",
       "    <tr>\n",
       "      <th>145499</th>\n",
       "      <td>149814</td>\n",
       "      <td>Bill Phillips</td>\n",
       "      <td>1913-07-15</td>\n",
       "      <td>Dulwich Hill</td>\n",
       "      <td>New South Wales</td>\n",
       "      <td>AUS</td>\n",
       "      <td>Australia</td>\n",
       "      <td>NaN</td>\n",
       "      <td>NaN</td>\n",
       "      <td>2003-10-20</td>\n",
       "    </tr>\n",
       "  </tbody>\n",
       "</table>\n",
       "<p>145500 rows × 10 columns</p>\n",
       "</div>"
      ],
      "text/plain": [
       "        athlete_id                   name   born_date        born_city  \\\n",
       "0                1  Jean-François Blanchy  1886-12-12         Bordeaux   \n",
       "1                2         Arnaud Boetsch  1969-04-01           Meulan   \n",
       "2                3           Jean Borotra  1898-08-13         Biarritz   \n",
       "3                4        Jacques Brugnon  1895-05-11      Paris VIIIe   \n",
       "4                5           Albert Canet  1878-04-17       Wandsworth   \n",
       "...            ...                    ...         ...              ...   \n",
       "145495      149222      Polina Luchnikova  2002-01-30            Serov   \n",
       "145496      149223    Valeriya Merkusheva  1999-09-20  Moskva (Moscow)   \n",
       "145497      149224        Yuliya Smirnova  1998-05-08           Kotlas   \n",
       "145498      149225         André Foussard  1899-05-19            Niort   \n",
       "145499      149814          Bill Phillips  1913-07-15     Dulwich Hill   \n",
       "\n",
       "                 born_region born_country        NOC  height_cm  weight_kg  \\\n",
       "0                    Gironde          FRA     France        NaN        NaN   \n",
       "1                   Yvelines          FRA     France      183.0       76.0   \n",
       "2       Pyrénées-Atlantiques          FRA     France      183.0       76.0   \n",
       "3                      Paris          FRA     France      168.0       64.0   \n",
       "4                    England          GBR     France        NaN        NaN   \n",
       "...                      ...          ...        ...        ...        ...   \n",
       "145495            Sverdlovsk          RUS        ROC      167.0       61.0   \n",
       "145496                Moskva          RUS        ROC      168.0       65.0   \n",
       "145497           Arkhangelsk          RUS        ROC      163.0       55.0   \n",
       "145498           Deux-Sèvres          FRA     France      166.0        NaN   \n",
       "145499       New South Wales          AUS  Australia        NaN        NaN   \n",
       "\n",
       "         died_date  \n",
       "0       1960-10-02  \n",
       "1              NaN  \n",
       "2       1994-07-17  \n",
       "3       1978-03-20  \n",
       "4       1930-07-25  \n",
       "...            ...  \n",
       "145495         NaN  \n",
       "145496         NaN  \n",
       "145497         NaN  \n",
       "145498  1986-03-18  \n",
       "145499  2003-10-20  \n",
       "\n",
       "[145500 rows x 10 columns]"
      ]
     },
     "execution_count": 87,
     "metadata": {},
     "output_type": "execute_result"
    }
   ],
   "source": [
    "olympic = pd.read_excel('./datasets/olympics-data.xlsx')\n",
    "olympic"
   ]
  },
  {
   "cell_type": "markdown",
   "metadata": {},
   "source": [
    "### Saving dataframe to file"
   ]
  },
  {
   "cell_type": "code",
   "execution_count": null,
   "metadata": {},
   "outputs": [
    {
     "data": {
      "application/vnd.microsoft.datawrangler.viewer.v0+json": {
       "columns": [
        {
         "name": "index",
         "rawType": "int64",
         "type": "integer"
        },
        {
         "name": "Unnamed: 0",
         "rawType": "int64",
         "type": "integer"
        },
        {
         "name": "year",
         "rawType": "float64",
         "type": "float"
        },
        {
         "name": "type",
         "rawType": "object",
         "type": "unknown"
        },
        {
         "name": "discipline",
         "rawType": "object",
         "type": "unknown"
        },
        {
         "name": "event",
         "rawType": "object",
         "type": "string"
        },
        {
         "name": "as",
         "rawType": "object",
         "type": "string"
        },
        {
         "name": "athlete_id",
         "rawType": "int64",
         "type": "integer"
        },
        {
         "name": "noc",
         "rawType": "object",
         "type": "unknown"
        },
        {
         "name": "team",
         "rawType": "object",
         "type": "unknown"
        },
        {
         "name": "place",
         "rawType": "float64",
         "type": "float"
        },
        {
         "name": "tied",
         "rawType": "bool",
         "type": "boolean"
        },
        {
         "name": "medal",
         "rawType": "object",
         "type": "unknown"
        }
       ],
       "conversionMethod": "pd.DataFrame",
       "ref": "71d896d0-06f4-4712-8f1f-6d462b1d670a",
       "rows": [
        [
         "0",
         "0",
         "1912.0",
         "Summer",
         "Tennis",
         "Singles, Men (Olympic)",
         "Jean-François Blanchy",
         "1",
         "FRA",
         null,
         "17.0",
         "True",
         null
        ],
        [
         "1",
         "1",
         "1912.0",
         "Summer",
         "Tennis",
         "Doubles, Men (Olympic)",
         "Jean-François Blanchy",
         "1",
         "FRA",
         "Jean Montariol",
         null,
         "False",
         null
        ],
        [
         "2",
         "2",
         "1920.0",
         "Summer",
         "Tennis",
         "Singles, Men (Olympic)",
         "Jean-François Blanchy",
         "1",
         "FRA",
         null,
         "32.0",
         "True",
         null
        ],
        [
         "3",
         "3",
         "1920.0",
         "Summer",
         "Tennis",
         "Doubles, Mixed (Olympic)",
         "Jean-François Blanchy",
         "1",
         "FRA",
         "Jeanne Vaussard",
         "8.0",
         "True",
         null
        ],
        [
         "4",
         "4",
         "1920.0",
         "Summer",
         "Tennis",
         "Doubles, Men (Olympic)",
         "Jean-François Blanchy",
         "1",
         "FRA",
         "Jacques Brugnon",
         "4.0",
         "False",
         null
        ],
        [
         "5",
         "5",
         "1996.0",
         "Summer",
         "Tennis",
         "Singles, Men (Olympic)",
         "Arnaud Boetsch",
         "2",
         "FRA",
         null,
         "17.0",
         "True",
         null
        ],
        [
         "6",
         "6",
         "1996.0",
         "Summer",
         "Tennis",
         "Doubles, Men (Olympic)",
         "Arnaud Boetsch",
         "2",
         "FRA",
         "Guillaume Raoux",
         "17.0",
         "True",
         null
        ],
        [
         "7",
         "7",
         "1924.0",
         "Summer",
         "Tennis",
         "Singles, Men (Olympic)",
         "Jean Borotra",
         "3",
         "FRA",
         null,
         "4.0",
         "False",
         null
        ],
        [
         "8",
         "8",
         "1924.0",
         "Summer",
         "Tennis",
         "Doubles, Mixed (Olympic)",
         "Jean Borotra",
         "3",
         "FRA",
         "Marguerite Billout",
         "15.0",
         "True",
         null
        ],
        [
         "9",
         "9",
         "1924.0",
         "Summer",
         "Tennis",
         "Doubles, Men (Olympic)",
         "Jean Borotra",
         "3",
         "FRA",
         "René Lacoste",
         "3.0",
         "False",
         "Bronze"
        ],
        [
         "10",
         "10",
         "1920.0",
         "Summer",
         "Tennis",
         "Singles, Men (Olympic)",
         "Jacques Brugnon",
         "4",
         "FRA",
         null,
         "9.0",
         "True",
         null
        ],
        [
         "11",
         "11",
         "1920.0",
         "Summer",
         "Tennis",
         "Doubles, Men (Olympic)",
         "Jacques Brugnon",
         "4",
         "FRA",
         "Jean-François Blanchy",
         "4.0",
         "False",
         null
        ],
        [
         "12",
         "12",
         "1924.0",
         "Summer",
         "Tennis",
         "Doubles, Men (Olympic)",
         "Jacques Brugnon",
         "4",
         "FRA",
         "Henri Cochet",
         "2.0",
         "False",
         "Silver"
        ],
        [
         "13",
         "13",
         "1912.0",
         "Summer",
         "Tennis",
         "Singles, Men (Olympic)",
         "Albert Canet",
         "5",
         "FRA",
         null,
         "17.0",
         "True",
         null
        ],
        [
         "14",
         "14",
         "1912.0",
         "Summer",
         "Tennis",
         "Doubles, Mixed (Olympic)",
         "Albert Canet",
         "5",
         "FRA",
         "Marguerite Broquedis",
         "3.0",
         "False",
         "Bronze"
        ],
        [
         "15",
         "15",
         "1912.0",
         "Summer",
         "Tennis",
         "Doubles, Men (Olympic)",
         "Albert Canet",
         "5",
         "FRA",
         "Édouard Mény de Marangue",
         "3.0",
         "False",
         "Bronze"
        ],
        [
         "16",
         "16",
         "1992.0",
         "Summer",
         "Table Tennis",
         "Singles, Men (Olympic)",
         "Nicolas Chatelain",
         "6",
         "FRA",
         null,
         "33.0",
         "True",
         null
        ],
        [
         "17",
         "17",
         "1992.0",
         "Summer",
         "Table Tennis",
         "Doubles, Men (Olympic)",
         "Nicolas Chatelain",
         "6",
         "FRA",
         "Patrick Chila",
         "17.0",
         "True",
         null
        ],
        [
         "18",
         "18",
         "1992.0",
         "Summer",
         "Table Tennis",
         "Doubles, Men (Olympic)",
         "Patrick Chila",
         "7",
         "FRA",
         "Nicolas Chatelain",
         "17.0",
         "True",
         null
        ],
        [
         "19",
         "19",
         "1996.0",
         "Summer",
         "Table Tennis",
         "Singles, Men (Olympic)",
         "Patrick Chila",
         "7",
         "FRA",
         null,
         "9.0",
         "True",
         null
        ],
        [
         "20",
         "20",
         "1996.0",
         "Summer",
         "Table Tennis",
         "Doubles, Men (Olympic)",
         "Patrick Chila",
         "7",
         "FRA",
         "Christophe Legoût",
         "9.0",
         "True",
         null
        ],
        [
         "21",
         "21",
         "2000.0",
         "Summer",
         "Table Tennis",
         "Doubles, Men (Olympic)",
         "Patrick Chila",
         "7",
         "FRA",
         "Jean-Philippe Gatien",
         "3.0",
         "False",
         "Bronze"
        ],
        [
         "22",
         "22",
         "2004.0",
         "Summer",
         "Table Tennis",
         "Singles, Men (Olympic)",
         "Patrick Chila",
         "7",
         "FRA",
         null,
         "17.0",
         "True",
         null
        ],
        [
         "23",
         "23",
         "2008.0",
         "Summer",
         "Table Tennis",
         "Singles, Men (Olympic)",
         "Patrick Chila",
         "7",
         "FRA",
         null,
         "49.0",
         "True",
         null
        ],
        [
         "24",
         "24",
         "1924.0",
         "Summer",
         "Tennis",
         "Singles, Men (Olympic)",
         "Henri Cochet",
         "8",
         "FRA",
         null,
         "2.0",
         "False",
         "Silver"
        ],
        [
         "25",
         "25",
         "1924.0",
         "Summer",
         "Tennis",
         "Doubles, Mixed (Olympic)",
         "Henri Cochet",
         "8",
         "FRA",
         "Suzanne Lenglen",
         null,
         "False",
         null
        ],
        [
         "26",
         "26",
         "1924.0",
         "Summer",
         "Tennis",
         "Doubles, Men (Olympic)",
         "Henri Cochet",
         "8",
         "FRA",
         "Jacques Brugnon",
         "2.0",
         "False",
         "Silver"
        ],
        [
         "27",
         "27",
         "1924.0",
         "Summer",
         "Tennis",
         "Singles, Men (Olympic)",
         "Marcel Cousin",
         "9",
         "FRA",
         null,
         "17.0",
         "True",
         null
        ],
        [
         "28",
         "28",
         "1900.0",
         "Summer",
         "Tennis",
         "Doubles, Men (Olympic)",
         "Guy de la Chapelle",
         "10",
         "FRA",
         "André Prévost",
         "3.0",
         "True",
         "Bronze"
        ],
        [
         "29",
         "29",
         "1900.0",
         "Summer",
         "Tennis",
         "Singles, Handicap, Men (Olympic (non-medal))",
         "Guy de la Chapelle",
         "10",
         "FRA",
         null,
         "5.0",
         "True",
         null
        ],
        [
         "30",
         "30",
         "1900.0",
         "Summer",
         "Tennis",
         "Doubles, Handicap, Men (Olympic (non-medal))",
         "Guy de la Chapelle",
         "10",
         "FRA",
         "Gonzalo de Candamo",
         "3.0",
         "True",
         null
        ],
        [
         "31",
         "31",
         "1900.0",
         "Summer",
         "Fencing",
         "Épée, Individual, Men (Olympic)",
         "Élie, Comte de Lastours",
         "11",
         "FRA",
         null,
         "1.0",
         "False",
         null
        ],
        [
         "32",
         "32",
         "1900.0",
         "Summer",
         "Fencing",
         "Tennis",
         "Élie, Comte de Lastours",
         "11",
         "FRA",
         "FRA",
         null,
         "True",
         null
        ],
        [
         "33",
         "33",
         "1900.0",
         "Summer",
         "Fencing",
         "Doubles, Men (Olympic)",
         "Élie, Comte de Lastours",
         "11",
         "FRA",
         "Guy, Baron Lejeune",
         "5.0",
         "True",
         null
        ],
        [
         "34",
         "34",
         "1900.0",
         "Summer",
         "Fencing",
         "Doubles, Handicap, Mixed (Olympic (non-medal))",
         "Élie, Comte de Lastours",
         "11",
         "FRA",
         "Charlotte Cooper",
         "5.0",
         "True",
         null
        ],
        [
         "35",
         "35",
         "1900.0",
         "Summer",
         "Fencing",
         "Singles, Handicap, Men (Olympic (non-medal))",
         "Élie, Comte de Lastours",
         "11",
         "FRA",
         null,
         "17.0",
         "True",
         null
        ],
        [
         "36",
         "36",
         "1900.0",
         "Summer",
         "Fencing",
         "Doubles, Handicap, Men (Olympic (non-medal))",
         "Élie, Comte de Lastours",
         "11",
         "FRA",
         "Guy, Baron Lejeune",
         "5.0",
         "True",
         null
        ],
        [
         "37",
         "37",
         "1900.0",
         "Summer",
         "Tennis",
         "Singles, Men (Olympic)",
         "Max Decugis",
         "12",
         "FRA",
         null,
         null,
         "False",
         null
        ],
        [
         "38",
         "38",
         "1900.0",
         "Summer",
         "Tennis",
         "Doubles, Men (Olympic)",
         "Max Decugis",
         "12",
         "FRA",
         "Spalding de Garmendia",
         "2.0",
         "False",
         "Silver"
        ],
        [
         "39",
         "39",
         "1900.0",
         "Summer",
         "Tennis",
         "Doubles, Handicap, Men (Olympic (non-medal))",
         "Max Decugis",
         "12",
         "FRA",
         "Spalding de Garmendia",
         "1.0",
         "False",
         null
        ],
        [
         "40",
         "40",
         null,
         null,
         "Tennis",
         "Singles, Men (Intercalated)",
         "Max Decugis",
         "12",
         "FRA",
         null,
         "1.0",
         "False",
         "Gold"
        ],
        [
         "41",
         "41",
         null,
         null,
         "Tennis",
         "Doubles, Mixed (Intercalated)",
         "Max Decugis",
         "12",
         "FRA",
         "Marie Decugis",
         "1.0",
         "False",
         "Gold"
        ],
        [
         "42",
         "42",
         null,
         null,
         "Tennis",
         "Doubles, Men (Intercalated)",
         "Max Decugis",
         "12",
         "FRA",
         "Maurice Germot",
         "1.0",
         "False",
         "Gold"
        ],
        [
         "43",
         "43",
         "1908.0",
         "Summer",
         "Tennis",
         "Singles, Men (Olympic)",
         "Max Decugis",
         "12",
         "FRA",
         null,
         null,
         "False",
         null
        ],
        [
         "44",
         "44",
         "1908.0",
         "Summer",
         "Tennis",
         "Doubles, Men (Olympic)",
         "Max Decugis",
         "12",
         "FRA",
         "Maurice Germot",
         null,
         "False",
         null
        ],
        [
         "45",
         "45",
         "1912.0",
         "Summer",
         "Tennis",
         "Doubles, Covered Courts, Mixed (Olympic)",
         "Max Decugis",
         "12",
         "FRA",
         "Marie Decugis",
         null,
         "False",
         null
        ],
        [
         "46",
         "46",
         "1912.0",
         "Summer",
         "Tennis",
         "Singles, Covered Courts, Men (Olympic)",
         "Max Decugis",
         "12",
         "FRA",
         null,
         null,
         "False",
         null
        ],
        [
         "47",
         "47",
         "1920.0",
         "Summer",
         "Tennis",
         "Singles, Men (Olympic)",
         "Max Decugis",
         "12",
         "FRA",
         null,
         "17.0",
         "True",
         null
        ],
        [
         "48",
         "48",
         "1920.0",
         "Summer",
         "Tennis",
         "Doubles, Mixed (Olympic)",
         "Max Decugis",
         "12",
         "FRA",
         "Suzanne Lenglen",
         "1.0",
         "False",
         "Gold"
        ],
        [
         "49",
         "49",
         "1920.0",
         "Summer",
         "Tennis",
         "Doubles, Men (Olympic)",
         "Max Decugis",
         "12",
         "FRA",
         "Pierre Albarran",
         "3.0",
         "False",
         "Bronze"
        ]
       ],
       "shape": {
        "columns": 12,
        "rows": 308408
       }
      },
      "text/html": [
       "<div>\n",
       "<style scoped>\n",
       "    .dataframe tbody tr th:only-of-type {\n",
       "        vertical-align: middle;\n",
       "    }\n",
       "\n",
       "    .dataframe tbody tr th {\n",
       "        vertical-align: top;\n",
       "    }\n",
       "\n",
       "    .dataframe thead th {\n",
       "        text-align: right;\n",
       "    }\n",
       "</style>\n",
       "<table border=\"1\" class=\"dataframe\">\n",
       "  <thead>\n",
       "    <tr style=\"text-align: right;\">\n",
       "      <th></th>\n",
       "      <th>Unnamed: 0</th>\n",
       "      <th>year</th>\n",
       "      <th>type</th>\n",
       "      <th>discipline</th>\n",
       "      <th>event</th>\n",
       "      <th>as</th>\n",
       "      <th>athlete_id</th>\n",
       "      <th>noc</th>\n",
       "      <th>team</th>\n",
       "      <th>place</th>\n",
       "      <th>tied</th>\n",
       "      <th>medal</th>\n",
       "    </tr>\n",
       "  </thead>\n",
       "  <tbody>\n",
       "    <tr>\n",
       "      <th>0</th>\n",
       "      <td>0</td>\n",
       "      <td>1912.0</td>\n",
       "      <td>Summer</td>\n",
       "      <td>Tennis</td>\n",
       "      <td>Singles, Men (Olympic)</td>\n",
       "      <td>Jean-François Blanchy</td>\n",
       "      <td>1</td>\n",
       "      <td>FRA</td>\n",
       "      <td>NaN</td>\n",
       "      <td>17.0</td>\n",
       "      <td>True</td>\n",
       "      <td>NaN</td>\n",
       "    </tr>\n",
       "    <tr>\n",
       "      <th>1</th>\n",
       "      <td>1</td>\n",
       "      <td>1912.0</td>\n",
       "      <td>Summer</td>\n",
       "      <td>Tennis</td>\n",
       "      <td>Doubles, Men (Olympic)</td>\n",
       "      <td>Jean-François Blanchy</td>\n",
       "      <td>1</td>\n",
       "      <td>FRA</td>\n",
       "      <td>Jean Montariol</td>\n",
       "      <td>NaN</td>\n",
       "      <td>False</td>\n",
       "      <td>NaN</td>\n",
       "    </tr>\n",
       "    <tr>\n",
       "      <th>2</th>\n",
       "      <td>2</td>\n",
       "      <td>1920.0</td>\n",
       "      <td>Summer</td>\n",
       "      <td>Tennis</td>\n",
       "      <td>Singles, Men (Olympic)</td>\n",
       "      <td>Jean-François Blanchy</td>\n",
       "      <td>1</td>\n",
       "      <td>FRA</td>\n",
       "      <td>NaN</td>\n",
       "      <td>32.0</td>\n",
       "      <td>True</td>\n",
       "      <td>NaN</td>\n",
       "    </tr>\n",
       "    <tr>\n",
       "      <th>3</th>\n",
       "      <td>3</td>\n",
       "      <td>1920.0</td>\n",
       "      <td>Summer</td>\n",
       "      <td>Tennis</td>\n",
       "      <td>Doubles, Mixed (Olympic)</td>\n",
       "      <td>Jean-François Blanchy</td>\n",
       "      <td>1</td>\n",
       "      <td>FRA</td>\n",
       "      <td>Jeanne Vaussard</td>\n",
       "      <td>8.0</td>\n",
       "      <td>True</td>\n",
       "      <td>NaN</td>\n",
       "    </tr>\n",
       "    <tr>\n",
       "      <th>4</th>\n",
       "      <td>4</td>\n",
       "      <td>1920.0</td>\n",
       "      <td>Summer</td>\n",
       "      <td>Tennis</td>\n",
       "      <td>Doubles, Men (Olympic)</td>\n",
       "      <td>Jean-François Blanchy</td>\n",
       "      <td>1</td>\n",
       "      <td>FRA</td>\n",
       "      <td>Jacques Brugnon</td>\n",
       "      <td>4.0</td>\n",
       "      <td>False</td>\n",
       "      <td>NaN</td>\n",
       "    </tr>\n",
       "    <tr>\n",
       "      <th>...</th>\n",
       "      <td>...</td>\n",
       "      <td>...</td>\n",
       "      <td>...</td>\n",
       "      <td>...</td>\n",
       "      <td>...</td>\n",
       "      <td>...</td>\n",
       "      <td>...</td>\n",
       "      <td>...</td>\n",
       "      <td>...</td>\n",
       "      <td>...</td>\n",
       "      <td>...</td>\n",
       "      <td>...</td>\n",
       "    </tr>\n",
       "    <tr>\n",
       "      <th>308403</th>\n",
       "      <td>308403</td>\n",
       "      <td>2022.0</td>\n",
       "      <td>Winter</td>\n",
       "      <td>Luge</td>\n",
       "      <td>Singles, Men (Olympic)</td>\n",
       "      <td>Marián Skupek</td>\n",
       "      <td>148983</td>\n",
       "      <td>SVK</td>\n",
       "      <td>NaN</td>\n",
       "      <td>26.0</td>\n",
       "      <td>False</td>\n",
       "      <td>NaN</td>\n",
       "    </tr>\n",
       "    <tr>\n",
       "      <th>308404</th>\n",
       "      <td>308404</td>\n",
       "      <td>2022.0</td>\n",
       "      <td>Winter</td>\n",
       "      <td>Alpine Skiing (Skiing)</td>\n",
       "      <td>Slalom, Women (Olympic)</td>\n",
       "      <td>Elsa Fermbäck</td>\n",
       "      <td>148984</td>\n",
       "      <td>SWE</td>\n",
       "      <td>NaN</td>\n",
       "      <td>28.0</td>\n",
       "      <td>False</td>\n",
       "      <td>NaN</td>\n",
       "    </tr>\n",
       "    <tr>\n",
       "      <th>308405</th>\n",
       "      <td>308405</td>\n",
       "      <td>2022.0</td>\n",
       "      <td>Winter</td>\n",
       "      <td>Alpine Skiing (Skiing)</td>\n",
       "      <td>Team, Mixed (Olympic)</td>\n",
       "      <td>Hilma Lövblom</td>\n",
       "      <td>148985</td>\n",
       "      <td>SWE</td>\n",
       "      <td>Sweden</td>\n",
       "      <td>13.0</td>\n",
       "      <td>False</td>\n",
       "      <td>NaN</td>\n",
       "    </tr>\n",
       "    <tr>\n",
       "      <th>308406</th>\n",
       "      <td>308406</td>\n",
       "      <td>2022.0</td>\n",
       "      <td>Winter</td>\n",
       "      <td>Alpine Skiing (Skiing)</td>\n",
       "      <td>Giant Slalom, Women (Olympic)</td>\n",
       "      <td>Hilma Lövblom</td>\n",
       "      <td>148985</td>\n",
       "      <td>SWE</td>\n",
       "      <td>NaN</td>\n",
       "      <td>NaN</td>\n",
       "      <td>False</td>\n",
       "      <td>NaN</td>\n",
       "    </tr>\n",
       "    <tr>\n",
       "      <th>308407</th>\n",
       "      <td>308407</td>\n",
       "      <td>2022.0</td>\n",
       "      <td>Winter</td>\n",
       "      <td>NaN</td>\n",
       "      <td>Slalom, Women (Olympic)</td>\n",
       "      <td>Charlotta Säfvenberg</td>\n",
       "      <td>148986</td>\n",
       "      <td>NaN</td>\n",
       "      <td>NaN</td>\n",
       "      <td>24.0</td>\n",
       "      <td>False</td>\n",
       "      <td>NaN</td>\n",
       "    </tr>\n",
       "  </tbody>\n",
       "</table>\n",
       "<p>308408 rows × 12 columns</p>\n",
       "</div>"
      ],
      "text/plain": [
       "        Unnamed: 0    year    type              discipline  \\\n",
       "0                0  1912.0  Summer                  Tennis   \n",
       "1                1  1912.0  Summer                  Tennis   \n",
       "2                2  1920.0  Summer                  Tennis   \n",
       "3                3  1920.0  Summer                  Tennis   \n",
       "4                4  1920.0  Summer                  Tennis   \n",
       "...            ...     ...     ...                     ...   \n",
       "308403      308403  2022.0  Winter                    Luge   \n",
       "308404      308404  2022.0  Winter  Alpine Skiing (Skiing)   \n",
       "308405      308405  2022.0  Winter  Alpine Skiing (Skiing)   \n",
       "308406      308406  2022.0  Winter  Alpine Skiing (Skiing)   \n",
       "308407      308407  2022.0  Winter                     NaN   \n",
       "\n",
       "                                event                     as  athlete_id  noc  \\\n",
       "0              Singles, Men (Olympic)  Jean-François Blanchy           1  FRA   \n",
       "1              Doubles, Men (Olympic)  Jean-François Blanchy           1  FRA   \n",
       "2              Singles, Men (Olympic)  Jean-François Blanchy           1  FRA   \n",
       "3            Doubles, Mixed (Olympic)  Jean-François Blanchy           1  FRA   \n",
       "4              Doubles, Men (Olympic)  Jean-François Blanchy           1  FRA   \n",
       "...                               ...                    ...         ...  ...   \n",
       "308403         Singles, Men (Olympic)          Marián Skupek      148983  SVK   \n",
       "308404        Slalom, Women (Olympic)          Elsa Fermbäck      148984  SWE   \n",
       "308405          Team, Mixed (Olympic)          Hilma Lövblom      148985  SWE   \n",
       "308406  Giant Slalom, Women (Olympic)          Hilma Lövblom      148985  SWE   \n",
       "308407        Slalom, Women (Olympic)   Charlotta Säfvenberg      148986  NaN   \n",
       "\n",
       "                   team  place   tied medal  \n",
       "0                   NaN   17.0   True   NaN  \n",
       "1        Jean Montariol    NaN  False   NaN  \n",
       "2                   NaN   32.0   True   NaN  \n",
       "3       Jeanne Vaussard    8.0   True   NaN  \n",
       "4       Jacques Brugnon    4.0  False   NaN  \n",
       "...                 ...    ...    ...   ...  \n",
       "308403              NaN   26.0  False   NaN  \n",
       "308404              NaN   28.0  False   NaN  \n",
       "308405           Sweden   13.0  False   NaN  \n",
       "308406              NaN    NaN  False   NaN  \n",
       "308407              NaN   24.0  False   NaN  \n",
       "\n",
       "[308408 rows x 12 columns]"
      ]
     },
     "execution_count": 93,
     "metadata": {},
     "output_type": "execute_result"
    }
   ],
   "source": [
    "# result.to_csv('result.csv')\n",
    "# df = pd.read_csv('result.csv')\n",
    "# df"
   ]
  },
  {
   "cell_type": "markdown",
   "metadata": {},
   "source": [
    "### The Pandas Index Object"
   ]
  },
  {
   "cell_type": "code",
   "execution_count": 94,
   "metadata": {},
   "outputs": [
    {
     "data": {
      "text/plain": [
       "Index([2, 3, 5, 7, 11], dtype='int64')"
      ]
     },
     "execution_count": 94,
     "metadata": {},
     "output_type": "execute_result"
    }
   ],
   "source": [
    "ind = pd.Index([2, 3, 5, 7, 11])\n",
    "ind"
   ]
  },
  {
   "cell_type": "code",
   "execution_count": 95,
   "metadata": {},
   "outputs": [
    {
     "data": {
      "text/plain": [
       "3"
      ]
     },
     "execution_count": 95,
     "metadata": {},
     "output_type": "execute_result"
    }
   ],
   "source": [
    "ind[1]"
   ]
  },
  {
   "cell_type": "code",
   "execution_count": 96,
   "metadata": {},
   "outputs": [
    {
     "data": {
      "text/plain": [
       "Index([2, 5, 11], dtype='int64')"
      ]
     },
     "execution_count": 96,
     "metadata": {},
     "output_type": "execute_result"
    }
   ],
   "source": [
    "ind[::2]"
   ]
  },
  {
   "cell_type": "code",
   "execution_count": 97,
   "metadata": {},
   "outputs": [
    {
     "name": "stdout",
     "output_type": "stream",
     "text": [
      "5 (5,) 1 int64\n"
     ]
    }
   ],
   "source": [
    "print(ind.size, ind.shape, ind.ndim, ind.dtype)"
   ]
  },
  {
   "cell_type": "code",
   "execution_count": 98,
   "metadata": {},
   "outputs": [
    {
     "ename": "TypeError",
     "evalue": "Index does not support mutable operations",
     "output_type": "error",
     "traceback": [
      "\u001b[1;31m---------------------------------------------------------------------------\u001b[0m",
      "\u001b[1;31mTypeError\u001b[0m                                 Traceback (most recent call last)",
      "Cell \u001b[1;32mIn[98], line 1\u001b[0m\n\u001b[1;32m----> 1\u001b[0m ind[\u001b[38;5;241m1\u001b[39m] \u001b[38;5;241m=\u001b[39m \u001b[38;5;241m0\u001b[39m\n",
      "File \u001b[1;32mc:\\Users\\Welcome\\anaconda3\\Lib\\site-packages\\pandas\\core\\indexes\\base.py:5371\u001b[0m, in \u001b[0;36mIndex.__setitem__\u001b[1;34m(self, key, value)\u001b[0m\n\u001b[0;32m   5369\u001b[0m \u001b[38;5;129m@final\u001b[39m\n\u001b[0;32m   5370\u001b[0m \u001b[38;5;28;01mdef\u001b[39;00m \u001b[38;5;21m__setitem__\u001b[39m(\u001b[38;5;28mself\u001b[39m, key, value) \u001b[38;5;241m-\u001b[39m\u001b[38;5;241m>\u001b[39m \u001b[38;5;28;01mNone\u001b[39;00m:\n\u001b[1;32m-> 5371\u001b[0m     \u001b[38;5;28;01mraise\u001b[39;00m \u001b[38;5;167;01mTypeError\u001b[39;00m(\u001b[38;5;124m\"\u001b[39m\u001b[38;5;124mIndex does not support mutable operations\u001b[39m\u001b[38;5;124m\"\u001b[39m)\n",
      "\u001b[1;31mTypeError\u001b[0m: Index does not support mutable operations"
     ]
    }
   ],
   "source": [
    "ind[1] = 0  # error becuase pandas index is immutable"
   ]
  },
  {
   "cell_type": "code",
   "execution_count": 99,
   "metadata": {},
   "outputs": [],
   "source": [
    "indA = pd.Index([1, 3, 5, 7, 9], dtype= 'int64')\n",
    "indB = pd.Index([2, 3, 5, 7, 11], dtype= 'int64')"
   ]
  },
  {
   "cell_type": "code",
   "execution_count": 104,
   "metadata": {},
   "outputs": [
    {
     "data": {
      "text/plain": [
       "Index([3, 5, 7], dtype='int64')"
      ]
     },
     "execution_count": 104,
     "metadata": {},
     "output_type": "execute_result"
    }
   ],
   "source": [
    "indA.intersection(indB)"
   ]
  },
  {
   "cell_type": "code",
   "execution_count": 105,
   "metadata": {},
   "outputs": [
    {
     "data": {
      "text/plain": [
       "Index([1, 2, 3, 5, 7, 9, 11], dtype='int64')"
      ]
     },
     "execution_count": 105,
     "metadata": {},
     "output_type": "execute_result"
    }
   ],
   "source": [
    "\n",
    "indA.union(indB)"
   ]
  },
  {
   "cell_type": "code",
   "execution_count": 106,
   "metadata": {},
   "outputs": [
    {
     "data": {
      "text/plain": [
       "Index([1, 2, 9, 11], dtype='int64')"
      ]
     },
     "execution_count": 106,
     "metadata": {},
     "output_type": "execute_result"
    }
   ],
   "source": [
    "indA.symmetric_difference(indB)"
   ]
  },
  {
   "cell_type": "markdown",
   "metadata": {},
   "source": [
    "## Data Indexing and Selection"
   ]
  },
  {
   "cell_type": "markdown",
   "metadata": {},
   "source": [
    "### Data selection in series"
   ]
  },
  {
   "cell_type": "code",
   "execution_count": 107,
   "metadata": {},
   "outputs": [
    {
     "data": {
      "text/plain": [
       "a    0.25\n",
       "b    0.50\n",
       "c    0.75\n",
       "d    1.00\n",
       "dtype: float64"
      ]
     },
     "execution_count": 107,
     "metadata": {},
     "output_type": "execute_result"
    }
   ],
   "source": [
    "data = pd.Series([0.25, 0.5, 0.75, 1.0], index=['a', 'b', 'c', 'd'])\n",
    "data"
   ]
  },
  {
   "cell_type": "code",
   "execution_count": null,
   "metadata": {},
   "outputs": [
    {
     "name": "stderr",
     "output_type": "stream",
     "text": [
      "C:\\Users\\Welcome\\AppData\\Local\\Temp\\ipykernel_2428\\3862107824.py:1: FutureWarning: Series.__getitem__ treating keys as positions is deprecated. In a future version, integer keys will always be treated as labels (consistent with DataFrame behavior). To access a value by position, use `ser.iloc[pos]`\n",
      "  data[1]\n"
     ]
    },
    {
     "data": {
      "text/plain": [
       "0.5"
      ]
     },
     "execution_count": 114,
     "metadata": {},
     "output_type": "execute_result"
    }
   ],
   "source": [
    "data['c']"
   ]
  },
  {
   "cell_type": "code",
   "execution_count": 109,
   "metadata": {},
   "outputs": [
    {
     "data": {
      "text/plain": [
       "True"
      ]
     },
     "execution_count": 109,
     "metadata": {},
     "output_type": "execute_result"
    }
   ],
   "source": [
    "'a' in data"
   ]
  },
  {
   "cell_type": "code",
   "execution_count": 113,
   "metadata": {},
   "outputs": [
    {
     "data": {
      "text/plain": [
       "[('a', 0.25), ('b', 0.5), ('c', 0.75), ('d', 1.0)]"
      ]
     },
     "execution_count": 113,
     "metadata": {},
     "output_type": "execute_result"
    }
   ],
   "source": [
    "# data.keys()\n",
    "list(data.items())"
   ]
  },
  {
   "cell_type": "code",
   "execution_count": 115,
   "metadata": {},
   "outputs": [
    {
     "data": {
      "text/plain": [
       "b    0.50\n",
       "c    0.75\n",
       "dtype: float64"
      ]
     },
     "execution_count": 115,
     "metadata": {},
     "output_type": "execute_result"
    }
   ],
   "source": [
    "data[1:3]"
   ]
  },
  {
   "cell_type": "code",
   "execution_count": 116,
   "metadata": {},
   "outputs": [
    {
     "data": {
      "text/plain": [
       "a    0.25\n",
       "b    0.50\n",
       "c    0.75\n",
       "dtype: float64"
      ]
     },
     "execution_count": 116,
     "metadata": {},
     "output_type": "execute_result"
    }
   ],
   "source": [
    "# slicing by explicit index\n",
    "data['a':'c']"
   ]
  },
  {
   "cell_type": "code",
   "execution_count": 117,
   "metadata": {},
   "outputs": [
    {
     "data": {
      "text/plain": [
       "a    0.25\n",
       "b    0.50\n",
       "dtype: float64"
      ]
     },
     "execution_count": 117,
     "metadata": {},
     "output_type": "execute_result"
    }
   ],
   "source": [
    "# slicing by implicit integer index\n",
    "data[0:2]"
   ]
  },
  {
   "cell_type": "code",
   "execution_count": 118,
   "metadata": {},
   "outputs": [
    {
     "data": {
      "text/plain": [
       "b    0.50\n",
       "c    0.75\n",
       "dtype: float64"
      ]
     },
     "execution_count": 118,
     "metadata": {},
     "output_type": "execute_result"
    }
   ],
   "source": [
    "# masking\n",
    "data[(data > 0.3) & (data < 0.8)]"
   ]
  },
  {
   "cell_type": "code",
   "execution_count": 119,
   "metadata": {},
   "outputs": [
    {
     "data": {
      "text/plain": [
       "a    0.25\n",
       "d    1.00\n",
       "dtype: float64"
      ]
     },
     "execution_count": 119,
     "metadata": {},
     "output_type": "execute_result"
    }
   ],
   "source": [
    "# fancy indexing\n",
    "data[['a', 'd']]"
   ]
  },
  {
   "cell_type": "markdown",
   "metadata": {},
   "source": [
    "### Indexers: loc, iloc\n",
    "These slicing and indexing conventions can be a source of confusion. For example, if your Series has an explicit integer index, an indexing operation such as data[1] will use the explicit indices, while a slicing operation like data[1:3] will use the implicit Python-style index.\n",
    "\n",
    "* loc - locates by name\n",
    "* iloc- locates by numerical index"
   ]
  },
  {
   "cell_type": "code",
   "execution_count": 120,
   "metadata": {},
   "outputs": [
    {
     "data": {
      "text/plain": [
       "1    a\n",
       "3    b\n",
       "5    c\n",
       "dtype: object"
      ]
     },
     "execution_count": 120,
     "metadata": {},
     "output_type": "execute_result"
    }
   ],
   "source": [
    "data = pd.Series(['a', 'b', 'c'], index=[1, 3, 5])\n",
    "data"
   ]
  },
  {
   "cell_type": "code",
   "execution_count": 121,
   "metadata": {},
   "outputs": [
    {
     "data": {
      "text/plain": [
       "'a'"
      ]
     },
     "execution_count": 121,
     "metadata": {},
     "output_type": "execute_result"
    }
   ],
   "source": [
    "# explicit index when indexing\n",
    "data[1]"
   ]
  },
  {
   "cell_type": "code",
   "execution_count": 122,
   "metadata": {},
   "outputs": [
    {
     "data": {
      "text/plain": [
       "3    b\n",
       "5    c\n",
       "dtype: object"
      ]
     },
     "execution_count": 122,
     "metadata": {},
     "output_type": "execute_result"
    }
   ],
   "source": [
    "# implicit index when slicing\n",
    "data[1:3]"
   ]
  },
  {
   "cell_type": "markdown",
   "metadata": {},
   "source": [
    "\n",
    "Because of this potential confusion in the case of integer indexes, Pandas provides some special indexer attributes that explicitly expose certain indexing schemes. These are not functional methods, but attributes that expose a particular slicing interface to the data in the Series.\n",
    "\n",
    "First, the loc attribute allows indexing and slicing that always references the explicit index:"
   ]
  },
  {
   "cell_type": "code",
   "execution_count": 123,
   "metadata": {},
   "outputs": [
    {
     "data": {
      "text/plain": [
       "'a'"
      ]
     },
     "execution_count": 123,
     "metadata": {},
     "output_type": "execute_result"
    }
   ],
   "source": [
    "data.loc[1]"
   ]
  },
  {
   "cell_type": "code",
   "execution_count": 124,
   "metadata": {},
   "outputs": [
    {
     "data": {
      "text/plain": [
       "1    a\n",
       "3    b\n",
       "dtype: object"
      ]
     },
     "execution_count": 124,
     "metadata": {},
     "output_type": "execute_result"
    }
   ],
   "source": [
    "data.loc[1:3]"
   ]
  },
  {
   "cell_type": "markdown",
   "metadata": {},
   "source": [
    "\n",
    "The iloc attribute allows indexing and slicing that always references the implicit Python-style index:"
   ]
  },
  {
   "cell_type": "code",
   "execution_count": 125,
   "metadata": {},
   "outputs": [
    {
     "data": {
      "text/plain": [
       "'a'"
      ]
     },
     "execution_count": 125,
     "metadata": {},
     "output_type": "execute_result"
    }
   ],
   "source": [
    "data.iloc[0]"
   ]
  },
  {
   "cell_type": "code",
   "execution_count": 126,
   "metadata": {},
   "outputs": [
    {
     "data": {
      "text/plain": [
       "3    b\n",
       "5    c\n",
       "dtype: object"
      ]
     },
     "execution_count": 126,
     "metadata": {},
     "output_type": "execute_result"
    }
   ],
   "source": [
    "data.iloc[1:3]"
   ]
  },
  {
   "cell_type": "markdown",
   "metadata": {},
   "source": [
    "### Data Selection in DataFrame"
   ]
  },
  {
   "cell_type": "code",
   "execution_count": 145,
   "metadata": {},
   "outputs": [
    {
     "data": {
      "application/vnd.microsoft.datawrangler.viewer.v0+json": {
       "columns": [
        {
         "name": "index",
         "rawType": "object",
         "type": "string"
        },
        {
         "name": "population",
         "rawType": "int64",
         "type": "integer"
        },
        {
         "name": "area",
         "rawType": "int64",
         "type": "integer"
        }
       ],
       "conversionMethod": "pd.DataFrame",
       "ref": "fe3e1057-1db2-4d64-9d41-8f2ff1cac8c5",
       "rows": [
        [
         "California",
         "38332521",
         "423967"
        ],
        [
         "Texas",
         "26448193",
         "695662"
        ],
        [
         "New York",
         "19651127",
         "141297"
        ],
        [
         "Florida",
         "19552860",
         "170312"
        ],
        [
         "Illinois",
         "12882135",
         "149995"
        ]
       ],
       "shape": {
        "columns": 2,
        "rows": 5
       }
      },
      "text/html": [
       "<div>\n",
       "<style scoped>\n",
       "    .dataframe tbody tr th:only-of-type {\n",
       "        vertical-align: middle;\n",
       "    }\n",
       "\n",
       "    .dataframe tbody tr th {\n",
       "        vertical-align: top;\n",
       "    }\n",
       "\n",
       "    .dataframe thead th {\n",
       "        text-align: right;\n",
       "    }\n",
       "</style>\n",
       "<table border=\"1\" class=\"dataframe\">\n",
       "  <thead>\n",
       "    <tr style=\"text-align: right;\">\n",
       "      <th></th>\n",
       "      <th>population</th>\n",
       "      <th>area</th>\n",
       "    </tr>\n",
       "  </thead>\n",
       "  <tbody>\n",
       "    <tr>\n",
       "      <th>California</th>\n",
       "      <td>38332521</td>\n",
       "      <td>423967</td>\n",
       "    </tr>\n",
       "    <tr>\n",
       "      <th>Texas</th>\n",
       "      <td>26448193</td>\n",
       "      <td>695662</td>\n",
       "    </tr>\n",
       "    <tr>\n",
       "      <th>New York</th>\n",
       "      <td>19651127</td>\n",
       "      <td>141297</td>\n",
       "    </tr>\n",
       "    <tr>\n",
       "      <th>Florida</th>\n",
       "      <td>19552860</td>\n",
       "      <td>170312</td>\n",
       "    </tr>\n",
       "    <tr>\n",
       "      <th>Illinois</th>\n",
       "      <td>12882135</td>\n",
       "      <td>149995</td>\n",
       "    </tr>\n",
       "  </tbody>\n",
       "</table>\n",
       "</div>"
      ],
      "text/plain": [
       "            population    area\n",
       "California    38332521  423967\n",
       "Texas         26448193  695662\n",
       "New York      19651127  141297\n",
       "Florida       19552860  170312\n",
       "Illinois      12882135  149995"
      ]
     },
     "execution_count": 147,
     "metadata": {},
     "output_type": "execute_result"
    }
   ],
   "source": [
    "states"
   ]
  },
  {
   "cell_type": "code",
   "execution_count": null,
   "metadata": {},
   "outputs": [
    {
     "data": {
      "text/plain": [
       "California    423967\n",
       "Texas         695662\n",
       "New York      141297\n",
       "Florida       170312\n",
       "Illinois      149995\n",
       "Name: area, dtype: int64"
      ]
     },
     "execution_count": 130,
     "metadata": {},
     "output_type": "execute_result"
    }
   ],
   "source": [
    "states['area'] is states.area"
   ]
  },
  {
   "cell_type": "code",
   "execution_count": 136,
   "metadata": {},
   "outputs": [
    {
     "data": {
      "application/vnd.microsoft.datawrangler.viewer.v0+json": {
       "columns": [
        {
         "name": "index",
         "rawType": "object",
         "type": "string"
        },
        {
         "name": "pop",
         "rawType": "int64",
         "type": "integer"
        },
        {
         "name": "Area",
         "rawType": "int64",
         "type": "integer"
        }
       ],
       "conversionMethod": "pd.DataFrame",
       "ref": "552c4fce-9a4b-4f34-ab6e-9defe23af951",
       "rows": [
        [
         "California",
         "38332521",
         "423967"
        ],
        [
         "Texas",
         "26448193",
         "695662"
        ],
        [
         "New York",
         "19651127",
         "141297"
        ],
        [
         "Florida",
         "19552860",
         "170312"
        ],
        [
         "Illinois",
         "12882135",
         "149995"
        ]
       ],
       "shape": {
        "columns": 2,
        "rows": 5
       }
      },
      "text/html": [
       "<div>\n",
       "<style scoped>\n",
       "    .dataframe tbody tr th:only-of-type {\n",
       "        vertical-align: middle;\n",
       "    }\n",
       "\n",
       "    .dataframe tbody tr th {\n",
       "        vertical-align: top;\n",
       "    }\n",
       "\n",
       "    .dataframe thead th {\n",
       "        text-align: right;\n",
       "    }\n",
       "</style>\n",
       "<table border=\"1\" class=\"dataframe\">\n",
       "  <thead>\n",
       "    <tr style=\"text-align: right;\">\n",
       "      <th></th>\n",
       "      <th>pop</th>\n",
       "      <th>Area</th>\n",
       "    </tr>\n",
       "  </thead>\n",
       "  <tbody>\n",
       "    <tr>\n",
       "      <th>California</th>\n",
       "      <td>38332521</td>\n",
       "      <td>423967</td>\n",
       "    </tr>\n",
       "    <tr>\n",
       "      <th>Texas</th>\n",
       "      <td>26448193</td>\n",
       "      <td>695662</td>\n",
       "    </tr>\n",
       "    <tr>\n",
       "      <th>New York</th>\n",
       "      <td>19651127</td>\n",
       "      <td>141297</td>\n",
       "    </tr>\n",
       "    <tr>\n",
       "      <th>Florida</th>\n",
       "      <td>19552860</td>\n",
       "      <td>170312</td>\n",
       "    </tr>\n",
       "    <tr>\n",
       "      <th>Illinois</th>\n",
       "      <td>12882135</td>\n",
       "      <td>149995</td>\n",
       "    </tr>\n",
       "  </tbody>\n",
       "</table>\n",
       "</div>"
      ],
      "text/plain": [
       "                 pop    Area\n",
       "California  38332521  423967\n",
       "Texas       26448193  695662\n",
       "New York    19651127  141297\n",
       "Florida     19552860  170312\n",
       "Illinois    12882135  149995"
      ]
     },
     "execution_count": 149,
     "metadata": {},
     "output_type": "execute_result"
    }
   ],
   "source": [
    "# states = states.rename(columns={'population':'pop', 'area':'Area'})\n",
    "states.rename(columns={'population':'pop', 'area':'Area'}, inplace=True)\n",
    "states"
   ]
  },
  {
   "cell_type": "code",
   "execution_count": 151,
   "metadata": {},
   "outputs": [
    {
     "data": {
      "text/plain": [
       "False"
      ]
     },
     "execution_count": 151,
     "metadata": {},
     "output_type": "execute_result"
    }
   ],
   "source": [
    "states['pop'] is states.pop"
   ]
  },
  {
   "cell_type": "code",
   "execution_count": 159,
   "metadata": {},
   "outputs": [
    {
     "data": {
      "application/vnd.microsoft.datawrangler.viewer.v0+json": {
       "columns": [
        {
         "name": "index",
         "rawType": "object",
         "type": "string"
        },
        {
         "name": "pop",
         "rawType": "int64",
         "type": "integer"
        },
        {
         "name": "area",
         "rawType": "int64",
         "type": "integer"
        },
        {
         "name": "density",
         "rawType": "float64",
         "type": "float"
        }
       ],
       "conversionMethod": "pd.DataFrame",
       "ref": "ef439b30-8f60-4cb9-b399-66afdd13e5c9",
       "rows": [
        [
         "California",
         "38332521",
         "423967",
         "90.41392608386974"
        ],
        [
         "Texas",
         "26448193",
         "695662",
         "38.01874042279153"
        ],
        [
         "New York",
         "19651127",
         "141297",
         "139.07674614464568"
        ],
        [
         "Florida",
         "19552860",
         "170312",
         "114.80612053173"
        ],
        [
         "Illinois",
         "12882135",
         "149995",
         "85.88376279209307"
        ]
       ],
       "shape": {
        "columns": 3,
        "rows": 5
       }
      },
      "text/html": [
       "<div>\n",
       "<style scoped>\n",
       "    .dataframe tbody tr th:only-of-type {\n",
       "        vertical-align: middle;\n",
       "    }\n",
       "\n",
       "    .dataframe tbody tr th {\n",
       "        vertical-align: top;\n",
       "    }\n",
       "\n",
       "    .dataframe thead th {\n",
       "        text-align: right;\n",
       "    }\n",
       "</style>\n",
       "<table border=\"1\" class=\"dataframe\">\n",
       "  <thead>\n",
       "    <tr style=\"text-align: right;\">\n",
       "      <th></th>\n",
       "      <th>pop</th>\n",
       "      <th>area</th>\n",
       "      <th>density</th>\n",
       "    </tr>\n",
       "  </thead>\n",
       "  <tbody>\n",
       "    <tr>\n",
       "      <th>California</th>\n",
       "      <td>38332521</td>\n",
       "      <td>423967</td>\n",
       "      <td>90.413926</td>\n",
       "    </tr>\n",
       "    <tr>\n",
       "      <th>Texas</th>\n",
       "      <td>26448193</td>\n",
       "      <td>695662</td>\n",
       "      <td>38.018740</td>\n",
       "    </tr>\n",
       "    <tr>\n",
       "      <th>New York</th>\n",
       "      <td>19651127</td>\n",
       "      <td>141297</td>\n",
       "      <td>139.076746</td>\n",
       "    </tr>\n",
       "    <tr>\n",
       "      <th>Florida</th>\n",
       "      <td>19552860</td>\n",
       "      <td>170312</td>\n",
       "      <td>114.806121</td>\n",
       "    </tr>\n",
       "    <tr>\n",
       "      <th>Illinois</th>\n",
       "      <td>12882135</td>\n",
       "      <td>149995</td>\n",
       "      <td>85.883763</td>\n",
       "    </tr>\n",
       "  </tbody>\n",
       "</table>\n",
       "</div>"
      ],
      "text/plain": [
       "                 pop    area     density\n",
       "California  38332521  423967   90.413926\n",
       "Texas       26448193  695662   38.018740\n",
       "New York    19651127  141297  139.076746\n",
       "Florida     19552860  170312  114.806121\n",
       "Illinois    12882135  149995   85.883763"
      ]
     },
     "execution_count": 159,
     "metadata": {},
     "output_type": "execute_result"
    }
   ],
   "source": [
    "states['density'] = states['pop']/states['area']\n",
    "states"
   ]
  },
  {
   "cell_type": "code",
   "execution_count": 125,
   "metadata": {},
   "outputs": [
    {
     "data": {
      "text/plain": [
       "Index(['pop', 'area', 'density'], dtype='object')"
      ]
     },
     "execution_count": 125,
     "metadata": {},
     "output_type": "execute_result"
    }
   ],
   "source": [
    "states.keys()"
   ]
  },
  {
   "cell_type": "code",
   "execution_count": 130,
   "metadata": {},
   "outputs": [
    {
     "data": {
      "text/plain": [
       "array([[3.83325210e+07, 4.23967000e+05, 9.04139261e+01],\n",
       "       [2.64481930e+07, 6.95662000e+05, 3.80187404e+01],\n",
       "       [1.96511270e+07, 1.41297000e+05, 1.39076746e+02],\n",
       "       [1.95528600e+07, 1.70312000e+05, 1.14806121e+02],\n",
       "       [1.28821350e+07, 1.49995000e+05, 8.58837628e+01]])"
      ]
     },
     "execution_count": 130,
     "metadata": {},
     "output_type": "execute_result"
    }
   ],
   "source": [
    "states.values"
   ]
  },
  {
   "cell_type": "code",
   "execution_count": null,
   "metadata": {},
   "outputs": [],
   "source": [
    "# states.loc['California']\n",
    "# states.loc['California', 'area']\n",
    "# states.loc[:, 'area']\n",
    "# states.loc['California': 'Florida', ['area', 'pop']]"
   ]
  },
  {
   "cell_type": "code",
   "execution_count": 152,
   "metadata": {},
   "outputs": [
    {
     "data": {
      "application/vnd.microsoft.datawrangler.viewer.v0+json": {
       "columns": [
        {
         "name": "index",
         "rawType": "object",
         "type": "string"
        },
        {
         "name": "pop",
         "rawType": "int64",
         "type": "integer"
        },
        {
         "name": "area",
         "rawType": "int64",
         "type": "integer"
        },
        {
         "name": "density",
         "rawType": "float64",
         "type": "float"
        }
       ],
       "conversionMethod": "pd.DataFrame",
       "ref": "a0ee2ad3-3e3f-4f3e-93a1-5ce8a3dc31ea",
       "rows": [
        [
         "California",
         "38332521",
         "423967",
         "90.41392608386974"
        ],
        [
         "Texas",
         "0",
         "0",
         "38.01874042279153"
        ],
        [
         "New York",
         "19651127",
         "141297",
         "139.07674614464568"
        ],
        [
         "Florida",
         "19552860",
         "170312",
         "114.80612053173"
        ],
        [
         "Illinois",
         "12882135",
         "149995",
         "85.88376279209307"
        ]
       ],
       "shape": {
        "columns": 3,
        "rows": 5
       }
      },
      "text/html": [
       "<div>\n",
       "<style scoped>\n",
       "    .dataframe tbody tr th:only-of-type {\n",
       "        vertical-align: middle;\n",
       "    }\n",
       "\n",
       "    .dataframe tbody tr th {\n",
       "        vertical-align: top;\n",
       "    }\n",
       "\n",
       "    .dataframe thead th {\n",
       "        text-align: right;\n",
       "    }\n",
       "</style>\n",
       "<table border=\"1\" class=\"dataframe\">\n",
       "  <thead>\n",
       "    <tr style=\"text-align: right;\">\n",
       "      <th></th>\n",
       "      <th>pop</th>\n",
       "      <th>area</th>\n",
       "      <th>density</th>\n",
       "    </tr>\n",
       "  </thead>\n",
       "  <tbody>\n",
       "    <tr>\n",
       "      <th>California</th>\n",
       "      <td>38332521</td>\n",
       "      <td>423967</td>\n",
       "      <td>90.413926</td>\n",
       "    </tr>\n",
       "    <tr>\n",
       "      <th>Texas</th>\n",
       "      <td>0</td>\n",
       "      <td>0</td>\n",
       "      <td>38.018740</td>\n",
       "    </tr>\n",
       "    <tr>\n",
       "      <th>New York</th>\n",
       "      <td>19651127</td>\n",
       "      <td>141297</td>\n",
       "      <td>139.076746</td>\n",
       "    </tr>\n",
       "    <tr>\n",
       "      <th>Florida</th>\n",
       "      <td>19552860</td>\n",
       "      <td>170312</td>\n",
       "      <td>114.806121</td>\n",
       "    </tr>\n",
       "    <tr>\n",
       "      <th>Illinois</th>\n",
       "      <td>12882135</td>\n",
       "      <td>149995</td>\n",
       "      <td>85.883763</td>\n",
       "    </tr>\n",
       "  </tbody>\n",
       "</table>\n",
       "</div>"
      ],
      "text/plain": [
       "                 pop    area     density\n",
       "California  38332521  423967   90.413926\n",
       "Texas              0       0   38.018740\n",
       "New York    19651127  141297  139.076746\n",
       "Florida     19552860  170312  114.806121\n",
       "Illinois    12882135  149995   85.883763"
      ]
     },
     "execution_count": 152,
     "metadata": {},
     "output_type": "execute_result"
    }
   ],
   "source": [
    "states"
   ]
  },
  {
   "cell_type": "code",
   "execution_count": 149,
   "metadata": {},
   "outputs": [
    {
     "data": {
      "application/vnd.microsoft.datawrangler.viewer.v0+json": {
       "columns": [
        {
         "name": "index",
         "rawType": "object",
         "type": "string"
        },
        {
         "name": "pop",
         "rawType": "int64",
         "type": "integer"
        },
        {
         "name": "area",
         "rawType": "int64",
         "type": "integer"
        }
       ],
       "conversionMethod": "pd.DataFrame",
       "ref": "e5e211fe-d496-47b9-a114-ea4f9db16bac",
       "rows": [
        [
         "California",
         "38332521",
         "423967"
        ],
        [
         "Texas",
         "26448193",
         "695662"
        ],
        [
         "New York",
         "19651127",
         "141297"
        ]
       ],
       "shape": {
        "columns": 2,
        "rows": 3
       }
      },
      "text/html": [
       "<div>\n",
       "<style scoped>\n",
       "    .dataframe tbody tr th:only-of-type {\n",
       "        vertical-align: middle;\n",
       "    }\n",
       "\n",
       "    .dataframe tbody tr th {\n",
       "        vertical-align: top;\n",
       "    }\n",
       "\n",
       "    .dataframe thead th {\n",
       "        text-align: right;\n",
       "    }\n",
       "</style>\n",
       "<table border=\"1\" class=\"dataframe\">\n",
       "  <thead>\n",
       "    <tr style=\"text-align: right;\">\n",
       "      <th></th>\n",
       "      <th>pop</th>\n",
       "      <th>area</th>\n",
       "    </tr>\n",
       "  </thead>\n",
       "  <tbody>\n",
       "    <tr>\n",
       "      <th>California</th>\n",
       "      <td>38332521</td>\n",
       "      <td>423967</td>\n",
       "    </tr>\n",
       "    <tr>\n",
       "      <th>Texas</th>\n",
       "      <td>26448193</td>\n",
       "      <td>695662</td>\n",
       "    </tr>\n",
       "    <tr>\n",
       "      <th>New York</th>\n",
       "      <td>19651127</td>\n",
       "      <td>141297</td>\n",
       "    </tr>\n",
       "  </tbody>\n",
       "</table>\n",
       "</div>"
      ],
      "text/plain": [
       "                 pop    area\n",
       "California  38332521  423967\n",
       "Texas       26448193  695662\n",
       "New York    19651127  141297"
      ]
     },
     "execution_count": 149,
     "metadata": {},
     "output_type": "execute_result"
    }
   ],
   "source": [
    "states.iloc[0]\n",
    "states.iloc[0, 0]\n",
    "states.iloc[:, 0]\n",
    "states.iloc[0:3, [0, 1]]"
   ]
  },
  {
   "cell_type": "markdown",
   "metadata": {},
   "source": [
    "### Filtering Data"
   ]
  },
  {
   "cell_type": "code",
   "execution_count": null,
   "metadata": {},
   "outputs": [
    {
     "data": {
      "application/vnd.microsoft.datawrangler.viewer.v0+json": {
       "columns": [
        {
         "name": "index",
         "rawType": "object",
         "type": "string"
        },
        {
         "name": "area",
         "rawType": "int64",
         "type": "integer"
        },
        {
         "name": "pop",
         "rawType": "int64",
         "type": "integer"
        }
       ],
       "conversionMethod": "pd.DataFrame",
       "ref": "8bf4d1f2-d0a0-43d1-9f91-a20c2a9b43e9",
       "rows": [
        [
         "New York",
         "141297",
         "19651127"
        ],
        [
         "Florida",
         "170312",
         "19552860"
        ]
       ],
       "shape": {
        "columns": 2,
        "rows": 2
       }
      },
      "text/html": [
       "<div>\n",
       "<style scoped>\n",
       "    .dataframe tbody tr th:only-of-type {\n",
       "        vertical-align: middle;\n",
       "    }\n",
       "\n",
       "    .dataframe tbody tr th {\n",
       "        vertical-align: top;\n",
       "    }\n",
       "\n",
       "    .dataframe thead th {\n",
       "        text-align: right;\n",
       "    }\n",
       "</style>\n",
       "<table border=\"1\" class=\"dataframe\">\n",
       "  <thead>\n",
       "    <tr style=\"text-align: right;\">\n",
       "      <th></th>\n",
       "      <th>area</th>\n",
       "      <th>pop</th>\n",
       "    </tr>\n",
       "  </thead>\n",
       "  <tbody>\n",
       "    <tr>\n",
       "      <th>New York</th>\n",
       "      <td>141297</td>\n",
       "      <td>19651127</td>\n",
       "    </tr>\n",
       "    <tr>\n",
       "      <th>Florida</th>\n",
       "      <td>170312</td>\n",
       "      <td>19552860</td>\n",
       "    </tr>\n",
       "  </tbody>\n",
       "</table>\n",
       "</div>"
      ],
      "text/plain": [
       "            area       pop\n",
       "New York  141297  19651127\n",
       "Florida   170312  19552860"
      ]
     },
     "execution_count": 164,
     "metadata": {},
     "output_type": "execute_result"
    }
   ],
   "source": [
    "\n",
    "# states.loc[states.density > 100] \n",
    "states.loc[states.density > 100,['area', 'pop']] "
   ]
  },
  {
   "cell_type": "code",
   "execution_count": 168,
   "metadata": {},
   "outputs": [
    {
     "data": {
      "application/vnd.microsoft.datawrangler.viewer.v0+json": {
       "columns": [
        {
         "name": "index",
         "rawType": "object",
         "type": "string"
        },
        {
         "name": "area",
         "rawType": "int64",
         "type": "integer"
        },
        {
         "name": "pop",
         "rawType": "int64",
         "type": "integer"
        }
       ],
       "conversionMethod": "pd.DataFrame",
       "ref": "5cf62d59-ed7f-4d32-a53b-d8143dbcd369",
       "rows": [
        [
         "New York",
         "141297",
         "19651127"
        ],
        [
         "Florida",
         "170312",
         "19552860"
        ]
       ],
       "shape": {
        "columns": 2,
        "rows": 2
       }
      },
      "text/html": [
       "<div>\n",
       "<style scoped>\n",
       "    .dataframe tbody tr th:only-of-type {\n",
       "        vertical-align: middle;\n",
       "    }\n",
       "\n",
       "    .dataframe tbody tr th {\n",
       "        vertical-align: top;\n",
       "    }\n",
       "\n",
       "    .dataframe thead th {\n",
       "        text-align: right;\n",
       "    }\n",
       "</style>\n",
       "<table border=\"1\" class=\"dataframe\">\n",
       "  <thead>\n",
       "    <tr style=\"text-align: right;\">\n",
       "      <th></th>\n",
       "      <th>area</th>\n",
       "      <th>pop</th>\n",
       "    </tr>\n",
       "  </thead>\n",
       "  <tbody>\n",
       "    <tr>\n",
       "      <th>New York</th>\n",
       "      <td>141297</td>\n",
       "      <td>19651127</td>\n",
       "    </tr>\n",
       "    <tr>\n",
       "      <th>Florida</th>\n",
       "      <td>170312</td>\n",
       "      <td>19552860</td>\n",
       "    </tr>\n",
       "  </tbody>\n",
       "</table>\n",
       "</div>"
      ],
      "text/plain": [
       "            area       pop\n",
       "New York  141297  19651127\n",
       "Florida   170312  19552860"
      ]
     },
     "execution_count": 168,
     "metadata": {},
     "output_type": "execute_result"
    }
   ],
   "source": [
    "states[states['density'] > 100][['area','pop']]"
   ]
  },
  {
   "cell_type": "code",
   "execution_count": 181,
   "metadata": {},
   "outputs": [
    {
     "data": {
      "application/vnd.microsoft.datawrangler.viewer.v0+json": {
       "columns": [
        {
         "name": "index",
         "rawType": "int64",
         "type": "integer"
        },
        {
         "name": "athlete_id",
         "rawType": "int64",
         "type": "integer"
        },
        {
         "name": "name",
         "rawType": "object",
         "type": "string"
        },
        {
         "name": "born_date",
         "rawType": "object",
         "type": "unknown"
        },
        {
         "name": "born_city",
         "rawType": "object",
         "type": "unknown"
        },
        {
         "name": "born_region",
         "rawType": "object",
         "type": "unknown"
        },
        {
         "name": "born_country",
         "rawType": "object",
         "type": "unknown"
        },
        {
         "name": "NOC",
         "rawType": "object",
         "type": "unknown"
        },
        {
         "name": "height_cm",
         "rawType": "float64",
         "type": "float"
        },
        {
         "name": "weight_kg",
         "rawType": "float64",
         "type": "float"
        },
        {
         "name": "died_date",
         "rawType": "object",
         "type": "unknown"
        }
       ],
       "conversionMethod": "pd.DataFrame",
       "ref": "a51e832d-d2f5-46e5-b78e-bdabdc40aa7d",
       "rows": [
        [
         "0",
         "1",
         "Jean-François Blanchy",
         "1886-12-12",
         "Bordeaux",
         "Gironde",
         "FRA",
         "France",
         null,
         null,
         "1960-10-02"
        ],
        [
         "1",
         "2",
         "Arnaud Boetsch",
         "1969-04-01",
         "Meulan",
         "Yvelines",
         "FRA",
         "France",
         "183.0",
         "76.0",
         null
        ],
        [
         "2",
         "3",
         "Jean Borotra",
         "1898-08-13",
         "Biarritz",
         "Pyrénées-Atlantiques",
         "FRA",
         "France",
         "183.0",
         "76.0",
         "1994-07-17"
        ],
        [
         "3",
         "4",
         "Jacques Brugnon",
         "1895-05-11",
         "Paris VIIIe",
         "Paris",
         "FRA",
         "France",
         "168.0",
         "64.0",
         "1978-03-20"
        ],
        [
         "4",
         "5",
         "Albert Canet",
         "1878-04-17",
         "Wandsworth",
         "England",
         "GBR",
         "France",
         null,
         null,
         "1930-07-25"
        ],
        [
         "5",
         "6",
         "Nicolas Chatelain",
         "1970-01-13",
         "Amiens",
         "Somme",
         "FRA",
         "France",
         "181.0",
         "70.0",
         null
        ],
        [
         "6",
         "7",
         "Patrick Chila",
         "1969-11-27",
         "Ris-Orangis",
         "Essonne",
         "FRA",
         "France",
         "180.0",
         "73.0",
         null
        ],
        [
         "7",
         "8",
         "Henri Cochet",
         "1901-12-14",
         "Villeurbanne",
         "Rhône",
         "FRA",
         "France",
         null,
         null,
         "1987-04-02"
        ],
        [
         "8",
         "9",
         "Marcel Cousin",
         "1896-08-04",
         "Nîmes",
         "Gard",
         "FRA",
         "France",
         null,
         null,
         "1986-08-01"
        ],
        [
         "9",
         "10",
         "Guy de la Chapelle",
         "1868-07-16",
         "Farges-Allichamps",
         "Cher",
         "FRA",
         "France",
         null,
         null,
         "1923-08-27"
        ],
        [
         "10",
         "11",
         "Élie, Comte de Lastours",
         "1874-08-12",
         "Orgeval",
         "Yvelines",
         "FRA",
         "France",
         null,
         null,
         "1932-11-18"
        ],
        [
         "11",
         "12",
         "Max Decugis",
         "1882-09-24",
         "Paris XVIe",
         "Paris",
         "FRA",
         "France",
         null,
         null,
         "1978-09-06"
        ],
        [
         "12",
         "13",
         "J. Defert",
         null,
         null,
         null,
         null,
         "France",
         null,
         null,
         null
        ],
        [
         "13",
         "14",
         "Étienne Durand",
         null,
         null,
         null,
         null,
         "France",
         null,
         null,
         null
        ],
        [
         "14",
         "15",
         "Damien Éloi",
         "1969-07-04",
         "Vire",
         "Calvados",
         "FRA",
         "France",
         "165.0",
         "58.0",
         null
        ],
        [
         "15",
         "16",
         "Adrien Fauchier-Magnan",
         "1873-11-19",
         "Paris VIIIe",
         "Paris",
         "FRA",
         "France",
         null,
         null,
         "1965-08-06"
        ],
        [
         "16",
         "17",
         "Guy Forget",
         "1965-01-04",
         "Casablanca",
         "Casablanca-Settat",
         "MAR",
         "France",
         "189.0",
         "79.0",
         null
        ],
        [
         "17",
         "18",
         "Jean-Philippe Gatien",
         "1968-10-16",
         "Alès",
         "Gard",
         "FRA",
         "France",
         "178.0",
         "73.0",
         null
        ],
        [
         "18",
         "19",
         "Maurice Germot",
         "1882-11-15",
         "Vichy",
         "Allier",
         "FRA",
         "France",
         null,
         null,
         "1958-08-06"
        ],
        [
         "19",
         "20",
         "André Gobert",
         "1890-09-30",
         "Paris XVIIe",
         "Paris",
         "FRA",
         "France",
         null,
         null,
         "1951-12-06"
        ],
        [
         "20",
         "21",
         "Pierre Hirsch",
         "1900-11-08",
         "Paris Ie",
         "Paris",
         "FRA",
         "France",
         null,
         null,
         "1942-04-19"
        ],
        [
         "21",
         "22",
         "René Lacoste",
         "1904-07-02",
         "Paris Xe",
         "Paris",
         "FRA",
         "France",
         null,
         null,
         "1996-10-12"
        ],
        [
         "22",
         "23",
         "Daniel Lawton",
         "1881-11-27",
         "Cantenac",
         "Gironde",
         "FRA",
         "France",
         null,
         null,
         "1979-03-27"
        ],
        [
         "23",
         "24",
         "Paul Lebreton",
         "1875-10-19",
         "Paris IIe",
         "Paris",
         "FRA",
         "France",
         null,
         null,
         "1960-03-31"
        ],
        [
         "24",
         "25",
         "Paul Lecaron",
         "1863-07-29",
         "Neuilly-sur-Seine",
         "Hauts-de-Seine",
         "FRA",
         "France",
         null,
         null,
         "1940-09-17"
        ],
        [
         "25",
         "26",
         "Henri Leconte",
         "1963-07-04",
         "Lillers",
         "Pas-de-Calais",
         "FRA",
         "France",
         "184.0",
         "78.0",
         null
        ],
        [
         "26",
         "27",
         "Christophe Legoût",
         "1973-08-06",
         "Montbéliard",
         "Doubs",
         "FRA",
         "France",
         "177.0",
         "75.0",
         null
        ],
        [
         "27",
         "28",
         "Guy, Baron Lejeune",
         null,
         null,
         null,
         null,
         "France",
         null,
         null,
         null
        ],
        [
         "28",
         "29",
         "Albert Lippmann",
         null,
         null,
         null,
         null,
         "France",
         null,
         null,
         null
        ],
        [
         "29",
         "30",
         "Édouard Mény de Marangue",
         "1882-11-30",
         "Paris VIe",
         "Paris",
         "FRA",
         "France",
         null,
         null,
         "1960-01-23"
        ],
        [
         "30",
         "31",
         "André Prévost",
         "1875-02-28",
         "Paris VIIIe",
         "Paris",
         "FRA",
         "France",
         null,
         null,
         "1951-11-22"
        ],
        [
         "31",
         "32",
         "Guillaume Raoux",
         "1970-02-14",
         "Bagnols-sur-Cèze",
         "Gard",
         "FRA",
         "France",
         "180.0",
         "77.0",
         null
        ],
        [
         "32",
         "33",
         "Stéphane Renault",
         "1968-03-01",
         "Barfleur",
         "Manche",
         "FRA",
         "France",
         "180.0",
         "72.0",
         null
        ],
        [
         "33",
         "34",
         "Jean-Pierre Samazeuilh",
         "1891-01-17",
         "Bordeaux",
         "Gironde",
         "FRA",
         "France",
         null,
         null,
         "1965-04-13"
        ],
        [
         "34",
         "35",
         "Fabrice Santoro",
         "1972-12-09",
         "Tahiti",
         "Îles du Vent",
         "FPN",
         "France",
         "177.0",
         "68.0",
         null
        ],
        [
         "35",
         "36",
         "Étienne Thobois",
         "1967-09-20",
         "Amiens",
         "Somme",
         "FRA",
         "France",
         "186.0",
         "78.0",
         null
        ],
        [
         "36",
         "37",
         "Pierre Verdé-Delisle",
         "1877-05-16",
         "Trie-la-Ville",
         "Oise",
         "FRA",
         "France",
         null,
         null,
         "1960-07-18"
        ],
        [
         "37",
         "38",
         "Helen Aitchison",
         "1881-12-06",
         "Sunderland",
         "England",
         "GBR",
         "Great Britain",
         null,
         null,
         "1947-05-26"
        ],
        [
         "38",
         "39",
         "Geraldine Beamish",
         "1883-06-23",
         "Forest Gate",
         "England",
         "GBR",
         "Great Britain",
         null,
         null,
         "1972-05-10"
        ],
        [
         "39",
         "40",
         "Dora Boothby",
         "1881-08-02",
         "Finchley",
         "England",
         "GBR",
         "Great Britain",
         null,
         null,
         "1970-02-22"
        ],
        [
         "40",
         "41",
         "Julie Bradbury",
         "1967-02-12",
         "Oxford",
         "England",
         "GBR",
         "Great Britain",
         "175.0",
         "64.0",
         null
        ],
        [
         "41",
         "42",
         "Gillian Clark",
         "1961-09-02",
         "Baghdad",
         "Baghdad",
         "IRQ",
         "Great Britain",
         "176.0",
         "68.0",
         null
        ],
        [
         "42",
         "43",
         "Mildred Coles",
         "1876-04-09",
         "Cranbrook",
         "England",
         "GBR",
         "Great Britain",
         null,
         null,
         "1937-02-24"
        ],
        [
         "43",
         "44",
         "Evelyn Colyer",
         "1902-08-16",
         "Wandsworth",
         "England",
         "GBR",
         "Great Britain",
         null,
         null,
         "1930-11-04"
        ],
        [
         "44",
         "45",
         "Charlotte Cooper",
         "1870-09-22",
         "Ealing",
         "England",
         "GBR",
         "Great Britain",
         null,
         null,
         "1966-10-10"
        ],
        [
         "45",
         "46",
         "Phyllis Covell",
         "1895-05-22",
         "Paddington",
         "England",
         "GBR",
         "Great Britain",
         null,
         null,
         "1982-10-28"
        ],
        [
         "46",
         "47",
         "Gladys Eastlake-Smith",
         "1883-08-14",
         "Lewisham",
         "England",
         "GBR",
         "Great Britain",
         null,
         null,
         "1941-09-18"
        ],
        [
         "47",
         "48",
         "Sara Gomer",
         "1964-05-13",
         "Torquay",
         "England",
         "GBR",
         "Great Britain",
         "190.0",
         "85.0",
         null
        ],
        [
         "48",
         "49",
         "Alison Gordon",
         "1962-12-31",
         "Reading",
         "England",
         "GBR",
         "Great Britain",
         "175.0",
         "68.0",
         null
        ],
        [
         "49",
         "50",
         "Gillian Gowers",
         "1964-04-09",
         null,
         null,
         null,
         "Great Britain",
         "157.0",
         "55.0",
         null
        ]
       ],
       "shape": {
        "columns": 10,
        "rows": 145500
       }
      },
      "text/html": [
       "<div>\n",
       "<style scoped>\n",
       "    .dataframe tbody tr th:only-of-type {\n",
       "        vertical-align: middle;\n",
       "    }\n",
       "\n",
       "    .dataframe tbody tr th {\n",
       "        vertical-align: top;\n",
       "    }\n",
       "\n",
       "    .dataframe thead th {\n",
       "        text-align: right;\n",
       "    }\n",
       "</style>\n",
       "<table border=\"1\" class=\"dataframe\">\n",
       "  <thead>\n",
       "    <tr style=\"text-align: right;\">\n",
       "      <th></th>\n",
       "      <th>athlete_id</th>\n",
       "      <th>name</th>\n",
       "      <th>born_date</th>\n",
       "      <th>born_city</th>\n",
       "      <th>born_region</th>\n",
       "      <th>born_country</th>\n",
       "      <th>NOC</th>\n",
       "      <th>height_cm</th>\n",
       "      <th>weight_kg</th>\n",
       "      <th>died_date</th>\n",
       "    </tr>\n",
       "  </thead>\n",
       "  <tbody>\n",
       "    <tr>\n",
       "      <th>0</th>\n",
       "      <td>1</td>\n",
       "      <td>Jean-François Blanchy</td>\n",
       "      <td>1886-12-12</td>\n",
       "      <td>Bordeaux</td>\n",
       "      <td>Gironde</td>\n",
       "      <td>FRA</td>\n",
       "      <td>France</td>\n",
       "      <td>NaN</td>\n",
       "      <td>NaN</td>\n",
       "      <td>1960-10-02</td>\n",
       "    </tr>\n",
       "    <tr>\n",
       "      <th>1</th>\n",
       "      <td>2</td>\n",
       "      <td>Arnaud Boetsch</td>\n",
       "      <td>1969-04-01</td>\n",
       "      <td>Meulan</td>\n",
       "      <td>Yvelines</td>\n",
       "      <td>FRA</td>\n",
       "      <td>France</td>\n",
       "      <td>183.0</td>\n",
       "      <td>76.0</td>\n",
       "      <td>NaN</td>\n",
       "    </tr>\n",
       "    <tr>\n",
       "      <th>2</th>\n",
       "      <td>3</td>\n",
       "      <td>Jean Borotra</td>\n",
       "      <td>1898-08-13</td>\n",
       "      <td>Biarritz</td>\n",
       "      <td>Pyrénées-Atlantiques</td>\n",
       "      <td>FRA</td>\n",
       "      <td>France</td>\n",
       "      <td>183.0</td>\n",
       "      <td>76.0</td>\n",
       "      <td>1994-07-17</td>\n",
       "    </tr>\n",
       "    <tr>\n",
       "      <th>3</th>\n",
       "      <td>4</td>\n",
       "      <td>Jacques Brugnon</td>\n",
       "      <td>1895-05-11</td>\n",
       "      <td>Paris VIIIe</td>\n",
       "      <td>Paris</td>\n",
       "      <td>FRA</td>\n",
       "      <td>France</td>\n",
       "      <td>168.0</td>\n",
       "      <td>64.0</td>\n",
       "      <td>1978-03-20</td>\n",
       "    </tr>\n",
       "    <tr>\n",
       "      <th>4</th>\n",
       "      <td>5</td>\n",
       "      <td>Albert Canet</td>\n",
       "      <td>1878-04-17</td>\n",
       "      <td>Wandsworth</td>\n",
       "      <td>England</td>\n",
       "      <td>GBR</td>\n",
       "      <td>France</td>\n",
       "      <td>NaN</td>\n",
       "      <td>NaN</td>\n",
       "      <td>1930-07-25</td>\n",
       "    </tr>\n",
       "    <tr>\n",
       "      <th>...</th>\n",
       "      <td>...</td>\n",
       "      <td>...</td>\n",
       "      <td>...</td>\n",
       "      <td>...</td>\n",
       "      <td>...</td>\n",
       "      <td>...</td>\n",
       "      <td>...</td>\n",
       "      <td>...</td>\n",
       "      <td>...</td>\n",
       "      <td>...</td>\n",
       "    </tr>\n",
       "    <tr>\n",
       "      <th>145495</th>\n",
       "      <td>149222</td>\n",
       "      <td>Polina Luchnikova</td>\n",
       "      <td>2002-01-30</td>\n",
       "      <td>Serov</td>\n",
       "      <td>Sverdlovsk</td>\n",
       "      <td>RUS</td>\n",
       "      <td>ROC</td>\n",
       "      <td>167.0</td>\n",
       "      <td>61.0</td>\n",
       "      <td>NaN</td>\n",
       "    </tr>\n",
       "    <tr>\n",
       "      <th>145496</th>\n",
       "      <td>149223</td>\n",
       "      <td>Valeriya Merkusheva</td>\n",
       "      <td>1999-09-20</td>\n",
       "      <td>Moskva (Moscow)</td>\n",
       "      <td>Moskva</td>\n",
       "      <td>RUS</td>\n",
       "      <td>ROC</td>\n",
       "      <td>168.0</td>\n",
       "      <td>65.0</td>\n",
       "      <td>NaN</td>\n",
       "    </tr>\n",
       "    <tr>\n",
       "      <th>145497</th>\n",
       "      <td>149224</td>\n",
       "      <td>Yuliya Smirnova</td>\n",
       "      <td>1998-05-08</td>\n",
       "      <td>Kotlas</td>\n",
       "      <td>Arkhangelsk</td>\n",
       "      <td>RUS</td>\n",
       "      <td>ROC</td>\n",
       "      <td>163.0</td>\n",
       "      <td>55.0</td>\n",
       "      <td>NaN</td>\n",
       "    </tr>\n",
       "    <tr>\n",
       "      <th>145498</th>\n",
       "      <td>149225</td>\n",
       "      <td>André Foussard</td>\n",
       "      <td>1899-05-19</td>\n",
       "      <td>Niort</td>\n",
       "      <td>Deux-Sèvres</td>\n",
       "      <td>FRA</td>\n",
       "      <td>France</td>\n",
       "      <td>166.0</td>\n",
       "      <td>NaN</td>\n",
       "      <td>1986-03-18</td>\n",
       "    </tr>\n",
       "    <tr>\n",
       "      <th>145499</th>\n",
       "      <td>149814</td>\n",
       "      <td>Bill Phillips</td>\n",
       "      <td>1913-07-15</td>\n",
       "      <td>Dulwich Hill</td>\n",
       "      <td>New South Wales</td>\n",
       "      <td>AUS</td>\n",
       "      <td>Australia</td>\n",
       "      <td>NaN</td>\n",
       "      <td>NaN</td>\n",
       "      <td>2003-10-20</td>\n",
       "    </tr>\n",
       "  </tbody>\n",
       "</table>\n",
       "<p>145500 rows × 10 columns</p>\n",
       "</div>"
      ],
      "text/plain": [
       "        athlete_id                   name   born_date        born_city  \\\n",
       "0                1  Jean-François Blanchy  1886-12-12         Bordeaux   \n",
       "1                2         Arnaud Boetsch  1969-04-01           Meulan   \n",
       "2                3           Jean Borotra  1898-08-13         Biarritz   \n",
       "3                4        Jacques Brugnon  1895-05-11      Paris VIIIe   \n",
       "4                5           Albert Canet  1878-04-17       Wandsworth   \n",
       "...            ...                    ...         ...              ...   \n",
       "145495      149222      Polina Luchnikova  2002-01-30            Serov   \n",
       "145496      149223    Valeriya Merkusheva  1999-09-20  Moskva (Moscow)   \n",
       "145497      149224        Yuliya Smirnova  1998-05-08           Kotlas   \n",
       "145498      149225         André Foussard  1899-05-19            Niort   \n",
       "145499      149814          Bill Phillips  1913-07-15     Dulwich Hill   \n",
       "\n",
       "                 born_region born_country        NOC  height_cm  weight_kg  \\\n",
       "0                    Gironde          FRA     France        NaN        NaN   \n",
       "1                   Yvelines          FRA     France      183.0       76.0   \n",
       "2       Pyrénées-Atlantiques          FRA     France      183.0       76.0   \n",
       "3                      Paris          FRA     France      168.0       64.0   \n",
       "4                    England          GBR     France        NaN        NaN   \n",
       "...                      ...          ...        ...        ...        ...   \n",
       "145495            Sverdlovsk          RUS        ROC      167.0       61.0   \n",
       "145496                Moskva          RUS        ROC      168.0       65.0   \n",
       "145497           Arkhangelsk          RUS        ROC      163.0       55.0   \n",
       "145498           Deux-Sèvres          FRA     France      166.0        NaN   \n",
       "145499       New South Wales          AUS  Australia        NaN        NaN   \n",
       "\n",
       "         died_date  \n",
       "0       1960-10-02  \n",
       "1              NaN  \n",
       "2       1994-07-17  \n",
       "3       1978-03-20  \n",
       "4       1930-07-25  \n",
       "...            ...  \n",
       "145495         NaN  \n",
       "145496         NaN  \n",
       "145497         NaN  \n",
       "145498  1986-03-18  \n",
       "145499  2003-10-20  \n",
       "\n",
       "[145500 rows x 10 columns]"
      ]
     },
     "execution_count": 181,
     "metadata": {},
     "output_type": "execute_result"
    }
   ],
   "source": [
    "bios = pd.read_csv('./datasets/bios.csv')\n",
    "bios"
   ]
  },
  {
   "cell_type": "code",
   "execution_count": null,
   "metadata": {},
   "outputs": [
    {
     "data": {
      "application/vnd.microsoft.datawrangler.viewer.v0+json": {
       "columns": [
        {
         "name": "index",
         "rawType": "int64",
         "type": "integer"
        },
        {
         "name": "name",
         "rawType": "object",
         "type": "string"
        },
        {
         "name": "height_cm",
         "rawType": "float64",
         "type": "float"
        }
       ],
       "conversionMethod": "pd.DataFrame",
       "ref": "1f99ceb5-d603-4980-b19b-63cea433cab5",
       "rows": [
        [
         "89070",
         "Yao Ming",
         "226.0"
        ],
        [
         "5781",
         "Tommy Burleson",
         "223.0"
        ],
        [
         "6978",
         "Arvydas Sabonis",
         "223.0"
        ],
        [
         "5673",
         "Gunther Behnke",
         "221.0"
        ],
        [
         "120266",
         "Zhang Zhaoxu",
         "221.0"
        ],
        [
         "89075",
         "Roberto Dueñas",
         "221.0"
        ],
        [
         "5089",
         "Viktor Pankrashkin",
         "220.0"
        ],
        [
         "7188",
         "Vladimir Tkachenko",
         "220.0"
        ],
        [
         "6504",
         "Luc Longley",
         "220.0"
        ],
        [
         "118676",
         "Dmitry Musersky",
         "219.0"
        ],
        [
         "107408",
         "Peter John Ramos",
         "219.0"
        ],
        [
         "130460",
         "Li Muhao",
         "218.0"
        ],
        [
         "112337",
         "Hamed Haddadi",
         "218.0"
        ],
        [
         "82100",
         "Frédéric Weis",
         "218.0"
        ],
        [
         "7376",
         "Eurelijus Žukauskas",
         "218.0"
        ],
        [
         "139365",
         "Moustapha Fall",
         "218.0"
        ],
        [
         "5716",
         "Uwe Blab",
         "218.0"
        ],
        [
         "5796",
         "Andy Campbell",
         "218.0"
        ],
        [
         "6420",
         "Jānis Krūmiņš",
         "218.0"
        ],
        [
         "112312",
         "Stanko Barać",
         "217.0"
        ],
        [
         "130461",
         "Zhou Qi",
         "217.0"
        ],
        [
         "7281",
         "Stojko Vranković",
         "217.0"
        ],
        [
         "7074",
         "Paulo da Silva",
         "217.0"
        ],
        [
         "52608",
         "Aleksey Kazakov",
         "217.0"
        ],
        [
         "5583",
         " Paulinho Villas Boas",
         "217.0"
        ],
        [
         "6409",
         "Sergey Kovalenko",
         "216.0"
        ],
        [
         "112332",
         "Andreas Glyniadakis",
         "216.0"
        ],
        [
         "6722",
         "Shaquille O'Neal",
         "216.0"
        ],
        [
         "118663",
         "Timofey Mozgov",
         "216.0"
        ],
        [
         "6223",
         "Lars Hansen",
         "216.0"
        ],
        [
         "6937",
         "David Robinson",
         "216.0"
        ],
        [
         "121694",
         "Salah Mejri",
         "216.0"
        ],
        [
         "123850",
         "Tyson Chandler",
         "216.0"
        ],
        [
         "138671",
         "Ondřej Balvín",
         "216.0"
        ],
        [
         "6270",
         "Hu Zhangbao",
         "216.0"
        ]
       ],
       "shape": {
        "columns": 2,
        "rows": 35
       }
      },
      "text/html": [
       "<div>\n",
       "<style scoped>\n",
       "    .dataframe tbody tr th:only-of-type {\n",
       "        vertical-align: middle;\n",
       "    }\n",
       "\n",
       "    .dataframe tbody tr th {\n",
       "        vertical-align: top;\n",
       "    }\n",
       "\n",
       "    .dataframe thead th {\n",
       "        text-align: right;\n",
       "    }\n",
       "</style>\n",
       "<table border=\"1\" class=\"dataframe\">\n",
       "  <thead>\n",
       "    <tr style=\"text-align: right;\">\n",
       "      <th></th>\n",
       "      <th>name</th>\n",
       "      <th>height_cm</th>\n",
       "    </tr>\n",
       "  </thead>\n",
       "  <tbody>\n",
       "    <tr>\n",
       "      <th>89070</th>\n",
       "      <td>Yao Ming</td>\n",
       "      <td>226.0</td>\n",
       "    </tr>\n",
       "    <tr>\n",
       "      <th>5781</th>\n",
       "      <td>Tommy Burleson</td>\n",
       "      <td>223.0</td>\n",
       "    </tr>\n",
       "    <tr>\n",
       "      <th>6978</th>\n",
       "      <td>Arvydas Sabonis</td>\n",
       "      <td>223.0</td>\n",
       "    </tr>\n",
       "    <tr>\n",
       "      <th>5673</th>\n",
       "      <td>Gunther Behnke</td>\n",
       "      <td>221.0</td>\n",
       "    </tr>\n",
       "    <tr>\n",
       "      <th>120266</th>\n",
       "      <td>Zhang Zhaoxu</td>\n",
       "      <td>221.0</td>\n",
       "    </tr>\n",
       "    <tr>\n",
       "      <th>89075</th>\n",
       "      <td>Roberto Dueñas</td>\n",
       "      <td>221.0</td>\n",
       "    </tr>\n",
       "    <tr>\n",
       "      <th>5089</th>\n",
       "      <td>Viktor Pankrashkin</td>\n",
       "      <td>220.0</td>\n",
       "    </tr>\n",
       "    <tr>\n",
       "      <th>7188</th>\n",
       "      <td>Vladimir Tkachenko</td>\n",
       "      <td>220.0</td>\n",
       "    </tr>\n",
       "    <tr>\n",
       "      <th>6504</th>\n",
       "      <td>Luc Longley</td>\n",
       "      <td>220.0</td>\n",
       "    </tr>\n",
       "    <tr>\n",
       "      <th>118676</th>\n",
       "      <td>Dmitry Musersky</td>\n",
       "      <td>219.0</td>\n",
       "    </tr>\n",
       "    <tr>\n",
       "      <th>107408</th>\n",
       "      <td>Peter John Ramos</td>\n",
       "      <td>219.0</td>\n",
       "    </tr>\n",
       "    <tr>\n",
       "      <th>130460</th>\n",
       "      <td>Li Muhao</td>\n",
       "      <td>218.0</td>\n",
       "    </tr>\n",
       "    <tr>\n",
       "      <th>112337</th>\n",
       "      <td>Hamed Haddadi</td>\n",
       "      <td>218.0</td>\n",
       "    </tr>\n",
       "    <tr>\n",
       "      <th>82100</th>\n",
       "      <td>Frédéric Weis</td>\n",
       "      <td>218.0</td>\n",
       "    </tr>\n",
       "    <tr>\n",
       "      <th>7376</th>\n",
       "      <td>Eurelijus Žukauskas</td>\n",
       "      <td>218.0</td>\n",
       "    </tr>\n",
       "    <tr>\n",
       "      <th>139365</th>\n",
       "      <td>Moustapha Fall</td>\n",
       "      <td>218.0</td>\n",
       "    </tr>\n",
       "    <tr>\n",
       "      <th>5716</th>\n",
       "      <td>Uwe Blab</td>\n",
       "      <td>218.0</td>\n",
       "    </tr>\n",
       "    <tr>\n",
       "      <th>5796</th>\n",
       "      <td>Andy Campbell</td>\n",
       "      <td>218.0</td>\n",
       "    </tr>\n",
       "    <tr>\n",
       "      <th>6420</th>\n",
       "      <td>Jānis Krūmiņš</td>\n",
       "      <td>218.0</td>\n",
       "    </tr>\n",
       "    <tr>\n",
       "      <th>112312</th>\n",
       "      <td>Stanko Barać</td>\n",
       "      <td>217.0</td>\n",
       "    </tr>\n",
       "    <tr>\n",
       "      <th>130461</th>\n",
       "      <td>Zhou Qi</td>\n",
       "      <td>217.0</td>\n",
       "    </tr>\n",
       "    <tr>\n",
       "      <th>7281</th>\n",
       "      <td>Stojko Vranković</td>\n",
       "      <td>217.0</td>\n",
       "    </tr>\n",
       "    <tr>\n",
       "      <th>7074</th>\n",
       "      <td>Paulo da Silva</td>\n",
       "      <td>217.0</td>\n",
       "    </tr>\n",
       "    <tr>\n",
       "      <th>52608</th>\n",
       "      <td>Aleksey Kazakov</td>\n",
       "      <td>217.0</td>\n",
       "    </tr>\n",
       "    <tr>\n",
       "      <th>5583</th>\n",
       "      <td>Paulinho Villas Boas</td>\n",
       "      <td>217.0</td>\n",
       "    </tr>\n",
       "    <tr>\n",
       "      <th>6409</th>\n",
       "      <td>Sergey Kovalenko</td>\n",
       "      <td>216.0</td>\n",
       "    </tr>\n",
       "    <tr>\n",
       "      <th>112332</th>\n",
       "      <td>Andreas Glyniadakis</td>\n",
       "      <td>216.0</td>\n",
       "    </tr>\n",
       "    <tr>\n",
       "      <th>6722</th>\n",
       "      <td>Shaquille O'Neal</td>\n",
       "      <td>216.0</td>\n",
       "    </tr>\n",
       "    <tr>\n",
       "      <th>118663</th>\n",
       "      <td>Timofey Mozgov</td>\n",
       "      <td>216.0</td>\n",
       "    </tr>\n",
       "    <tr>\n",
       "      <th>6223</th>\n",
       "      <td>Lars Hansen</td>\n",
       "      <td>216.0</td>\n",
       "    </tr>\n",
       "    <tr>\n",
       "      <th>6937</th>\n",
       "      <td>David Robinson</td>\n",
       "      <td>216.0</td>\n",
       "    </tr>\n",
       "    <tr>\n",
       "      <th>121694</th>\n",
       "      <td>Salah Mejri</td>\n",
       "      <td>216.0</td>\n",
       "    </tr>\n",
       "    <tr>\n",
       "      <th>123850</th>\n",
       "      <td>Tyson Chandler</td>\n",
       "      <td>216.0</td>\n",
       "    </tr>\n",
       "    <tr>\n",
       "      <th>138671</th>\n",
       "      <td>Ondřej Balvín</td>\n",
       "      <td>216.0</td>\n",
       "    </tr>\n",
       "    <tr>\n",
       "      <th>6270</th>\n",
       "      <td>Hu Zhangbao</td>\n",
       "      <td>216.0</td>\n",
       "    </tr>\n",
       "  </tbody>\n",
       "</table>\n",
       "</div>"
      ],
      "text/plain": [
       "                         name  height_cm\n",
       "89070                Yao Ming      226.0\n",
       "5781           Tommy Burleson      223.0\n",
       "6978          Arvydas Sabonis      223.0\n",
       "5673           Gunther Behnke      221.0\n",
       "120266           Zhang Zhaoxu      221.0\n",
       "89075          Roberto Dueñas      221.0\n",
       "5089       Viktor Pankrashkin      220.0\n",
       "7188       Vladimir Tkachenko      220.0\n",
       "6504              Luc Longley      220.0\n",
       "118676        Dmitry Musersky      219.0\n",
       "107408       Peter John Ramos      219.0\n",
       "130460               Li Muhao      218.0\n",
       "112337          Hamed Haddadi      218.0\n",
       "82100           Frédéric Weis      218.0\n",
       "7376      Eurelijus Žukauskas      218.0\n",
       "139365         Moustapha Fall      218.0\n",
       "5716                 Uwe Blab      218.0\n",
       "5796            Andy Campbell      218.0\n",
       "6420            Jānis Krūmiņš      218.0\n",
       "112312           Stanko Barać      217.0\n",
       "130461                Zhou Qi      217.0\n",
       "7281         Stojko Vranković      217.0\n",
       "7074           Paulo da Silva      217.0\n",
       "52608         Aleksey Kazakov      217.0\n",
       "5583     Paulinho Villas Boas      217.0\n",
       "6409         Sergey Kovalenko      216.0\n",
       "112332    Andreas Glyniadakis      216.0\n",
       "6722         Shaquille O'Neal      216.0\n",
       "118663         Timofey Mozgov      216.0\n",
       "6223              Lars Hansen      216.0\n",
       "6937           David Robinson      216.0\n",
       "121694            Salah Mejri      216.0\n",
       "123850         Tyson Chandler      216.0\n",
       "138671          Ondřej Balvín      216.0\n",
       "6270              Hu Zhangbao      216.0"
      ]
     },
     "execution_count": 174,
     "metadata": {},
     "output_type": "execute_result"
    }
   ],
   "source": [
    "# bios[bios['height_cm'] > 215][['name', 'height_cm']]\n",
    "bios[bios['height_cm'] > 215][['name', 'height_cm']].sort_values('height_cm', ascending=False)"
   ]
  },
  {
   "cell_type": "code",
   "execution_count": 176,
   "metadata": {},
   "outputs": [
    {
     "data": {
      "application/vnd.microsoft.datawrangler.viewer.v0+json": {
       "columns": [
        {
         "name": "index",
         "rawType": "int64",
         "type": "integer"
        },
        {
         "name": "name",
         "rawType": "object",
         "type": "string"
        },
        {
         "name": "height_cm",
         "rawType": "float64",
         "type": "float"
        },
        {
         "name": "born_country",
         "rawType": "object",
         "type": "string"
        }
       ],
       "conversionMethod": "pd.DataFrame",
       "ref": "85ca58e4-84c6-4466-a2fd-8b42e792d25e",
       "rows": [
        [
         "5781",
         "Tommy Burleson",
         "223.0",
         "USA"
        ],
        [
         "6722",
         "Shaquille O'Neal",
         "216.0",
         "USA"
        ],
        [
         "6937",
         "David Robinson",
         "216.0",
         "USA"
        ],
        [
         "123850",
         "Tyson Chandler",
         "216.0",
         "USA"
        ]
       ],
       "shape": {
        "columns": 3,
        "rows": 4
       }
      },
      "text/html": [
       "<div>\n",
       "<style scoped>\n",
       "    .dataframe tbody tr th:only-of-type {\n",
       "        vertical-align: middle;\n",
       "    }\n",
       "\n",
       "    .dataframe tbody tr th {\n",
       "        vertical-align: top;\n",
       "    }\n",
       "\n",
       "    .dataframe thead th {\n",
       "        text-align: right;\n",
       "    }\n",
       "</style>\n",
       "<table border=\"1\" class=\"dataframe\">\n",
       "  <thead>\n",
       "    <tr style=\"text-align: right;\">\n",
       "      <th></th>\n",
       "      <th>name</th>\n",
       "      <th>height_cm</th>\n",
       "      <th>born_country</th>\n",
       "    </tr>\n",
       "  </thead>\n",
       "  <tbody>\n",
       "    <tr>\n",
       "      <th>5781</th>\n",
       "      <td>Tommy Burleson</td>\n",
       "      <td>223.0</td>\n",
       "      <td>USA</td>\n",
       "    </tr>\n",
       "    <tr>\n",
       "      <th>6722</th>\n",
       "      <td>Shaquille O'Neal</td>\n",
       "      <td>216.0</td>\n",
       "      <td>USA</td>\n",
       "    </tr>\n",
       "    <tr>\n",
       "      <th>6937</th>\n",
       "      <td>David Robinson</td>\n",
       "      <td>216.0</td>\n",
       "      <td>USA</td>\n",
       "    </tr>\n",
       "    <tr>\n",
       "      <th>123850</th>\n",
       "      <td>Tyson Chandler</td>\n",
       "      <td>216.0</td>\n",
       "      <td>USA</td>\n",
       "    </tr>\n",
       "  </tbody>\n",
       "</table>\n",
       "</div>"
      ],
      "text/plain": [
       "                    name  height_cm born_country\n",
       "5781      Tommy Burleson      223.0          USA\n",
       "6722    Shaquille O'Neal      216.0          USA\n",
       "6937      David Robinson      216.0          USA\n",
       "123850    Tyson Chandler      216.0          USA"
      ]
     },
     "execution_count": 176,
     "metadata": {},
     "output_type": "execute_result"
    }
   ],
   "source": [
    "bios[(bios['height_cm'] > 215) & (bios['born_country'] == 'USA') ][['name', 'height_cm', 'born_country']]"
   ]
  },
  {
   "cell_type": "code",
   "execution_count": 184,
   "metadata": {},
   "outputs": [
    {
     "data": {
      "application/vnd.microsoft.datawrangler.viewer.v0+json": {
       "columns": [
        {
         "name": "index",
         "rawType": "int64",
         "type": "integer"
        },
        {
         "name": "athlete_id",
         "rawType": "int64",
         "type": "integer"
        },
        {
         "name": "name",
         "rawType": "object",
         "type": "string"
        },
        {
         "name": "born_date",
         "rawType": "object",
         "type": "string"
        },
        {
         "name": "born_city",
         "rawType": "object",
         "type": "string"
        },
        {
         "name": "born_region",
         "rawType": "object",
         "type": "string"
        },
        {
         "name": "born_country",
         "rawType": "object",
         "type": "string"
        },
        {
         "name": "NOC",
         "rawType": "object",
         "type": "string"
        },
        {
         "name": "height_cm",
         "rawType": "float64",
         "type": "float"
        },
        {
         "name": "weight_kg",
         "rawType": "float64",
         "type": "float"
        },
        {
         "name": "died_date",
         "rawType": "object",
         "type": "unknown"
        }
       ],
       "conversionMethod": "pd.DataFrame",
       "ref": "4fcddfed-27d2-4131-af77-2bbb3074d102",
       "rows": [
        [
         "2230",
         "2240",
         "David McGowan",
         "1838-01-10",
         "Perry County",
         "Pennsylvania",
         "USA",
         "United States",
         null,
         null,
         "1924-09-22"
        ],
        [
         "6937",
         "6972",
         "David Robinson",
         "1965-08-06",
         "Key West",
         "Florida",
         "USA",
         "United States",
         "216.0",
         "107.0",
         null
        ],
        [
         "8609",
         "8656",
         "David Diaz",
         "1976-06-07",
         "Chicago",
         "Illinois",
         "USA",
         "United States",
         "167.0",
         "63.0",
         null
        ],
        [
         "8706",
         "8753",
         "David Reid",
         "1973-09-17",
         "Philadelphia",
         "Pennsylvania",
         "USA",
         "United States",
         "175.0",
         "71.0",
         null
        ],
        [
         "11030",
         "11088",
         "David Halpern",
         "1955-08-18",
         "Seattle",
         "Washington",
         "USA",
         "United States",
         "178.0",
         "79.0",
         null
        ],
        [
         "11071",
         "11130",
         "David Merwin",
         "1936-08-17",
         "Canton",
         "Ohio",
         "USA",
         "United States",
         "185.0",
         "77.0",
         null
        ],
        [
         "11746",
         "11808",
         "Bruce Davidson",
         "1949-12-31",
         "Newburgh",
         "New York",
         "USA",
         "United States",
         "180.0",
         "66.0",
         null
        ],
        [
         "12440",
         "12508",
         "David O'Connor",
         "1962-01-18",
         "Washington",
         "District of Columbia",
         "USA",
         "United States",
         "180.0",
         "77.0",
         null
        ],
        [
         "13571",
         "13654",
         "David Boll",
         "1953-05-05",
         "Hackensack",
         "New Jersey",
         "USA",
         "United States",
         "175.0",
         "67.0",
         "2017-08-13"
        ],
        [
         "13632",
         "13717",
         "David Brinton",
         "1967-01-17",
         "Covina",
         "California",
         "USA",
         "United States",
         "175.0",
         "65.0",
         null
        ],
        [
         "13804",
         "13891",
         "David Chauner",
         "1948-08-04",
         "San Francisco",
         "California",
         "USA",
         "United States",
         "183.0",
         "77.0",
         null
        ],
        [
         "15669",
         "15779",
         "David Mulica",
         "1949-03-17",
         "Santa Monica",
         "California",
         "USA",
         "United States",
         "170.0",
         "64.0",
         null
        ],
        [
         "16169",
         "16284",
         "David Rhoads",
         "1932-05-27",
         "Long Beach",
         "California",
         "USA",
         "United States",
         "183.0",
         "75.0",
         "2017-02-21"
        ],
        [
         "16438",
         "16554",
         "David Sharp",
         "1941-07-16",
         "Indianapolis",
         "Indiana",
         "USA",
         "United States",
         "173.0",
         "72.0",
         null
        ],
        [
         "20272",
         "20416",
         "David McMichael",
         "1961-04-22",
         "Philadelphia",
         "Pennsylvania",
         "USA",
         "United States",
         "172.0",
         "68.0",
         null
        ],
        [
         "23575",
         "23758",
         "David Micahnik",
         "1938-11-05",
         "Hazleton",
         "Pennsylvania",
         "USA",
         "United States",
         "188.0",
         "79.0",
         null
        ],
        [
         "27631",
         "27834",
         "David Vanole",
         "1963-02-06",
         "Redondo Beach",
         "California",
         "USA",
         "United States",
         "188.0",
         "94.0",
         "2007-01-15"
        ],
        [
         "40138",
         "40446",
         "Ruth Davidon",
         "1964-03-20",
         "New York",
         "New York",
         "USA",
         "United States",
         "180.0",
         "75.0",
         null
        ],
        [
         "40284",
         "40593",
         "David Collins",
         "1969-10-12",
         "Thousand Oaks",
         "California",
         "USA",
         "United States",
         "183.0",
         "70.0",
         null
        ],
        [
         "40336",
         "40645",
         "David Fellows",
         "1952-09-19",
         "Waltham",
         "Massachusetts",
         "USA",
         "United States",
         "191.0",
         "89.0",
         null
        ],
        [
         "40393",
         "40702",
         "David Higgins",
         "1947-02-14",
         "Worcester",
         "Massachusetts",
         "USA",
         "United States",
         "188.0",
         "90.0",
         null
        ],
        [
         "40551",
         "40860",
         "David Sawyier",
         "1951-02-02",
         "Chicago",
         "Illinois",
         "USA",
         "United States",
         "191.0",
         "88.0",
         "2019-06-10"
        ],
        [
         "40615",
         "40925",
         "David Weinberg",
         "1952-03-02",
         "Boston",
         "Massachusetts",
         "USA",
         "United States",
         "170.0",
         "52.0",
         null
        ],
        [
         "41194",
         "41509",
         "David Lee",
         "1948-03-24",
         "Long Beach",
         "California",
         "USA",
         "Canada",
         "188.0",
         "116.0",
         null
        ],
        [
         "44256",
         "44596",
         "David Alcoriza",
         "1968-10-13",
         "Columbus",
         "Georgia",
         "USA",
         "United States",
         "180.0",
         "73.0",
         null
        ],
        [
         "44358",
         "44698",
         "David Johnson",
         "1964-05-29",
         "Mount Holly",
         "New Jersey",
         "USA",
         "United States",
         "170.0",
         "68.0",
         null
        ],
        [
         "44408",
         "44749",
         "David Ross",
         "1940-11-16",
         "New York",
         "New York",
         "USA",
         "United States",
         "175.0",
         "84.0",
         null
        ],
        [
         "46204",
         "46551",
         "David López-Zubero",
         "1959-02-11",
         "Jacksonville",
         "Florida",
         "USA",
         "Spain",
         "177.0",
         "75.0",
         null
        ],
        [
         "49548",
         "49905",
         "David Monasterio",
         "1971-01-13",
         "Dallas",
         "Texas",
         "USA",
         "Puerto Rico",
         null,
         null,
         null
        ],
        [
         "50929",
         "51288",
         "Keith Carter",
         "1924-08-30",
         "Akron",
         "Ohio",
         "USA",
         "United States",
         null,
         null,
         "2013-05-03"
        ],
        [
         "50995",
         "51354",
         "David Gaul",
         "1886-07-07",
         "Lafayette",
         "Pennsylvania",
         "USA",
         "United States",
         null,
         null,
         "1962-08-06"
        ],
        [
         "51022",
         "51381",
         "David Hammond",
         "1881-01-05",
         "Chicago",
         "Illinois",
         "USA",
         "United States",
         null,
         null,
         "1940-02-03"
        ],
        [
         "51063",
         "51422",
         "David Johnson",
         "1947-02-20",
         "Wilmington",
         "Delaware",
         "USA",
         "United States",
         "186.0",
         "75.0",
         null
        ],
        [
         "51097",
         "51456",
         "David Larson",
         "1959-06-25",
         "Jesup",
         "Georgia",
         "USA",
         "United States",
         "190.0",
         "79.0",
         null
        ],
        [
         "51162",
         "51521",
         "David Pichler",
         "1968-09-03",
         "Butler",
         "Pennsylvania",
         "USA",
         "United States",
         "183.0",
         "77.0",
         null
        ],
        [
         "51185",
         "51544",
         "Keith Russell",
         "1948-01-15",
         "Mesa",
         "Arizona",
         "USA",
         "United States",
         "188.0",
         "73.0",
         null
        ],
        [
         "51269",
         "51628",
         "David Young",
         "1907-04-20",
         "Atlanta",
         "Georgia",
         "USA",
         "United States",
         null,
         null,
         "1988-01-16"
        ],
        [
         "52913",
         "53288",
         "Keith Erickson",
         "1944-04-19",
         "San Francisco",
         "California",
         "USA",
         "United States",
         "196.0",
         "86.0",
         null
        ],
        [
         "55700",
         "56096",
         "David Berger",
         "1944-05-24",
         "Shaker Heights",
         "Ohio",
         "USA",
         "Israel",
         "167.0",
         "83.0",
         "1972-09-06"
        ],
        [
         "56595",
         "56998",
         "David Langon",
         "1967-01-24",
         "San Leandro",
         "California",
         "USA",
         "United States",
         "183.0",
         "101.0",
         null
        ],
        [
         "60154",
         "60586",
         "David Butler",
         "1957-09-14",
         "Muncie",
         "Indiana",
         "USA",
         "United States",
         "178.0",
         "74.0",
         null
        ],
        [
         "60374",
         "60807",
         "David Zuniga",
         "1968-03-01",
         "Worland",
         "Wyoming",
         "USA",
         "United States",
         "165.0",
         "62.0",
         null
        ],
        [
         "62009",
         "62465",
         "David James",
         "1949-12-09",
         "Newport News",
         "Virginia",
         "USA",
         "United States",
         "180.0",
         "64.0",
         null
        ],
        [
         "62493",
         "62957",
         "David McFaull",
         "1948-11-10",
         "Honolulu",
         "Hawaiʻi",
         "USA",
         "United States",
         "178.0",
         "64.0",
         "1997-07-25"
        ],
        [
         "62678",
         "63144",
         "Keith Notary",
         "1960-01-22",
         "Merritt Island",
         "Florida",
         "USA",
         "United States",
         "170.0",
         "66.0",
         null
        ],
        [
         "77550",
         "78141",
         "Keith Brantly",
         "1962-05-23",
         "Scott Air Force Base",
         "Illinois",
         "USA",
         "United States",
         "180.0",
         "64.0",
         null
        ],
        [
         "77597",
         "78188",
         "David Caldwell",
         "1891-04-27",
         "Byfield",
         "Massachusetts",
         "USA",
         "United States",
         "178.0",
         "70.0",
         "1953-01-06"
        ],
        [
         "78070",
         "78661",
         "David Kneeland",
         "1881-12-03",
         "San Francisco",
         "California",
         "USA",
         "United States",
         null,
         null,
         "1948-11-15"
        ],
        [
         "78233",
         "78824",
         "David Munson",
         "1884-05-19",
         "Medina",
         "New York",
         "USA",
         "United States",
         null,
         null,
         "1953-09-17"
        ],
        [
         "78288",
         "78879",
         "David Patrick",
         "1960-06-12",
         "Centralia",
         "Illinois",
         "USA",
         "United States",
         "183.0",
         "72.0",
         null
        ]
       ],
       "shape": {
        "columns": 10,
        "rows": 94
       }
      },
      "text/html": [
       "<div>\n",
       "<style scoped>\n",
       "    .dataframe tbody tr th:only-of-type {\n",
       "        vertical-align: middle;\n",
       "    }\n",
       "\n",
       "    .dataframe tbody tr th {\n",
       "        vertical-align: top;\n",
       "    }\n",
       "\n",
       "    .dataframe thead th {\n",
       "        text-align: right;\n",
       "    }\n",
       "</style>\n",
       "<table border=\"1\" class=\"dataframe\">\n",
       "  <thead>\n",
       "    <tr style=\"text-align: right;\">\n",
       "      <th></th>\n",
       "      <th>athlete_id</th>\n",
       "      <th>name</th>\n",
       "      <th>born_date</th>\n",
       "      <th>born_city</th>\n",
       "      <th>born_region</th>\n",
       "      <th>born_country</th>\n",
       "      <th>NOC</th>\n",
       "      <th>height_cm</th>\n",
       "      <th>weight_kg</th>\n",
       "      <th>died_date</th>\n",
       "    </tr>\n",
       "  </thead>\n",
       "  <tbody>\n",
       "    <tr>\n",
       "      <th>2230</th>\n",
       "      <td>2240</td>\n",
       "      <td>David McGowan</td>\n",
       "      <td>1838-01-10</td>\n",
       "      <td>Perry County</td>\n",
       "      <td>Pennsylvania</td>\n",
       "      <td>USA</td>\n",
       "      <td>United States</td>\n",
       "      <td>NaN</td>\n",
       "      <td>NaN</td>\n",
       "      <td>1924-09-22</td>\n",
       "    </tr>\n",
       "    <tr>\n",
       "      <th>6937</th>\n",
       "      <td>6972</td>\n",
       "      <td>David Robinson</td>\n",
       "      <td>1965-08-06</td>\n",
       "      <td>Key West</td>\n",
       "      <td>Florida</td>\n",
       "      <td>USA</td>\n",
       "      <td>United States</td>\n",
       "      <td>216.0</td>\n",
       "      <td>107.0</td>\n",
       "      <td>NaN</td>\n",
       "    </tr>\n",
       "    <tr>\n",
       "      <th>8609</th>\n",
       "      <td>8656</td>\n",
       "      <td>David Diaz</td>\n",
       "      <td>1976-06-07</td>\n",
       "      <td>Chicago</td>\n",
       "      <td>Illinois</td>\n",
       "      <td>USA</td>\n",
       "      <td>United States</td>\n",
       "      <td>167.0</td>\n",
       "      <td>63.0</td>\n",
       "      <td>NaN</td>\n",
       "    </tr>\n",
       "    <tr>\n",
       "      <th>8706</th>\n",
       "      <td>8753</td>\n",
       "      <td>David Reid</td>\n",
       "      <td>1973-09-17</td>\n",
       "      <td>Philadelphia</td>\n",
       "      <td>Pennsylvania</td>\n",
       "      <td>USA</td>\n",
       "      <td>United States</td>\n",
       "      <td>175.0</td>\n",
       "      <td>71.0</td>\n",
       "      <td>NaN</td>\n",
       "    </tr>\n",
       "    <tr>\n",
       "      <th>11030</th>\n",
       "      <td>11088</td>\n",
       "      <td>David Halpern</td>\n",
       "      <td>1955-08-18</td>\n",
       "      <td>Seattle</td>\n",
       "      <td>Washington</td>\n",
       "      <td>USA</td>\n",
       "      <td>United States</td>\n",
       "      <td>178.0</td>\n",
       "      <td>79.0</td>\n",
       "      <td>NaN</td>\n",
       "    </tr>\n",
       "    <tr>\n",
       "      <th>...</th>\n",
       "      <td>...</td>\n",
       "      <td>...</td>\n",
       "      <td>...</td>\n",
       "      <td>...</td>\n",
       "      <td>...</td>\n",
       "      <td>...</td>\n",
       "      <td>...</td>\n",
       "      <td>...</td>\n",
       "      <td>...</td>\n",
       "      <td>...</td>\n",
       "    </tr>\n",
       "    <tr>\n",
       "      <th>133419</th>\n",
       "      <td>136358</td>\n",
       "      <td>David Plummer</td>\n",
       "      <td>1985-10-09</td>\n",
       "      <td>Norman</td>\n",
       "      <td>Oklahoma</td>\n",
       "      <td>USA</td>\n",
       "      <td>United States</td>\n",
       "      <td>191.0</td>\n",
       "      <td>95.0</td>\n",
       "      <td>NaN</td>\n",
       "    </tr>\n",
       "    <tr>\n",
       "      <th>143533</th>\n",
       "      <td>147186</td>\n",
       "      <td>Tierna Davidson</td>\n",
       "      <td>1998-09-19</td>\n",
       "      <td>Menlo Park</td>\n",
       "      <td>California</td>\n",
       "      <td>USA</td>\n",
       "      <td>United States</td>\n",
       "      <td>178.0</td>\n",
       "      <td>NaN</td>\n",
       "      <td>NaN</td>\n",
       "    </tr>\n",
       "    <tr>\n",
       "      <th>143725</th>\n",
       "      <td>147380</td>\n",
       "      <td>David Robertson</td>\n",
       "      <td>1985-04-09</td>\n",
       "      <td>Birmingham</td>\n",
       "      <td>Alabama</td>\n",
       "      <td>USA</td>\n",
       "      <td>United States</td>\n",
       "      <td>180.0</td>\n",
       "      <td>NaN</td>\n",
       "      <td>NaN</td>\n",
       "    </tr>\n",
       "    <tr>\n",
       "      <th>143849</th>\n",
       "      <td>147505</td>\n",
       "      <td>David Taylor</td>\n",
       "      <td>1990-12-05</td>\n",
       "      <td>Reno</td>\n",
       "      <td>Nevada</td>\n",
       "      <td>USA</td>\n",
       "      <td>United States</td>\n",
       "      <td>183.0</td>\n",
       "      <td>86.0</td>\n",
       "      <td>NaN</td>\n",
       "    </tr>\n",
       "    <tr>\n",
       "      <th>145422</th>\n",
       "      <td>149145</td>\n",
       "      <td>David Warsofsky</td>\n",
       "      <td>1990-05-30</td>\n",
       "      <td>Marshfield</td>\n",
       "      <td>Massachusetts</td>\n",
       "      <td>USA</td>\n",
       "      <td>United States</td>\n",
       "      <td>NaN</td>\n",
       "      <td>NaN</td>\n",
       "      <td>NaN</td>\n",
       "    </tr>\n",
       "  </tbody>\n",
       "</table>\n",
       "<p>94 rows × 10 columns</p>\n",
       "</div>"
      ],
      "text/plain": [
       "        athlete_id             name   born_date     born_city    born_region  \\\n",
       "2230          2240    David McGowan  1838-01-10  Perry County   Pennsylvania   \n",
       "6937          6972   David Robinson  1965-08-06      Key West        Florida   \n",
       "8609          8656       David Diaz  1976-06-07       Chicago       Illinois   \n",
       "8706          8753       David Reid  1973-09-17  Philadelphia   Pennsylvania   \n",
       "11030        11088    David Halpern  1955-08-18       Seattle     Washington   \n",
       "...            ...              ...         ...           ...            ...   \n",
       "133419      136358    David Plummer  1985-10-09        Norman       Oklahoma   \n",
       "143533      147186  Tierna Davidson  1998-09-19    Menlo Park     California   \n",
       "143725      147380  David Robertson  1985-04-09    Birmingham        Alabama   \n",
       "143849      147505     David Taylor  1990-12-05          Reno         Nevada   \n",
       "145422      149145  David Warsofsky  1990-05-30    Marshfield  Massachusetts   \n",
       "\n",
       "       born_country            NOC  height_cm  weight_kg   died_date  \n",
       "2230            USA  United States        NaN        NaN  1924-09-22  \n",
       "6937            USA  United States      216.0      107.0         NaN  \n",
       "8609            USA  United States      167.0       63.0         NaN  \n",
       "8706            USA  United States      175.0       71.0         NaN  \n",
       "11030           USA  United States      178.0       79.0         NaN  \n",
       "...             ...            ...        ...        ...         ...  \n",
       "133419          USA  United States      191.0       95.0         NaN  \n",
       "143533          USA  United States      178.0        NaN         NaN  \n",
       "143725          USA  United States      180.0        NaN         NaN  \n",
       "143849          USA  United States      183.0       86.0         NaN  \n",
       "145422          USA  United States        NaN        NaN         NaN  \n",
       "\n",
       "[94 rows x 10 columns]"
      ]
     },
     "execution_count": 184,
     "metadata": {},
     "output_type": "execute_result"
    }
   ],
   "source": [
    "#using the str method\n",
    "# bios[bios['name'].str.contains('David')]\n",
    "bios[bios['name'].str.contains('david', case= False)]\n",
    "bios[bios['name'].str.contains('david|keith', case= False)] \n",
    "bios[(bios['name'].str.contains('david|keith', case= False)) & (bios['born_country'] == 'USA')] \n"
   ]
  },
  {
   "cell_type": "code",
   "execution_count": 186,
   "metadata": {},
   "outputs": [
    {
     "data": {
      "application/vnd.microsoft.datawrangler.viewer.v0+json": {
       "columns": [
        {
         "name": "index",
         "rawType": "int64",
         "type": "integer"
        },
        {
         "name": "athlete_id",
         "rawType": "int64",
         "type": "integer"
        },
        {
         "name": "name",
         "rawType": "object",
         "type": "string"
        },
        {
         "name": "born_date",
         "rawType": "object",
         "type": "string"
        },
        {
         "name": "born_city",
         "rawType": "object",
         "type": "string"
        },
        {
         "name": "born_region",
         "rawType": "object",
         "type": "string"
        },
        {
         "name": "born_country",
         "rawType": "object",
         "type": "string"
        },
        {
         "name": "NOC",
         "rawType": "object",
         "type": "string"
        },
        {
         "name": "height_cm",
         "rawType": "float64",
         "type": "float"
        },
        {
         "name": "weight_kg",
         "rawType": "float64",
         "type": "float"
        },
        {
         "name": "died_date",
         "rawType": "object",
         "type": "unknown"
        }
       ],
       "conversionMethod": "pd.DataFrame",
       "ref": "9304e4d3-3882-4806-8564-8e3c358f548c",
       "rows": [
        [
         "3505",
         "3517",
         "Keith Wallace",
         "1961-03-29",
         "Preston",
         "England",
         "GBR",
         "Great Britain",
         "165.0",
         "51.0",
         "1999-12-31"
        ],
        [
         "12053",
         "12118",
         "Keith Hervey",
         "1898-11-03",
         "Fulham",
         "England",
         "GBR",
         "Great Britain",
         null,
         null,
         "1973-02-22"
        ],
        [
         "14577",
         "14674",
         "Keith Harrison",
         "1933-03-28",
         "Birmingham",
         "England",
         "GBR",
         "Great Britain",
         null,
         null,
         null
        ],
        [
         "16166",
         "16281",
         "Keith Reynolds",
         "1963-12-25",
         "Solihull",
         "England",
         "GBR",
         "Great Britain",
         "173.0",
         "68.0",
         null
        ],
        [
         "18734",
         "18862",
         "Keith Sinclair",
         "1945-06-26",
         "Sunderland",
         "England",
         "GBR",
         "Great Britain",
         "190.0",
         "79.0",
         null
        ],
        [
         "29897",
         "30123",
         "Keith Langley",
         "1961-06-03",
         "Aldershot",
         "England",
         "GBR",
         "Great Britain",
         "173.0",
         "70.0",
         null
        ],
        [
         "34011",
         "34275",
         "Keith Remfry",
         "1947-11-17",
         "Ealing",
         "England",
         "GBR",
         "Great Britain",
         "193.0",
         "114.0",
         "2015-09-16"
        ],
        [
         "46885",
         "47234",
         "Keith Collin",
         "1937-01-18",
         "Marylebone",
         "England",
         "GBR",
         "Great Britain",
         "168.0",
         "63.0",
         "1991-03-06"
        ],
        [
         "50929",
         "51288",
         "Keith Carter",
         "1924-08-30",
         "Akron",
         "Ohio",
         "USA",
         "United States",
         null,
         null,
         "2013-05-03"
        ],
        [
         "51185",
         "51544",
         "Keith Russell",
         "1948-01-15",
         "Mesa",
         "Arizona",
         "USA",
         "United States",
         "188.0",
         "73.0",
         null
        ],
        [
         "52913",
         "53288",
         "Keith Erickson",
         "1944-04-19",
         "San Francisco",
         "California",
         "USA",
         "United States",
         "196.0",
         "86.0",
         null
        ],
        [
         "55317",
         "55712",
         "Keith Boxell",
         "1958-05-06",
         "Clapham",
         "England",
         "GBR",
         "Great Britain",
         "170.0",
         "87.0",
         null
        ],
        [
         "57818",
         "58226",
         "Keith Peache",
         "1947-08-10",
         "Lewisham",
         "England",
         "GBR",
         "Great Britain",
         "180.0",
         "98.0",
         null
        ],
        [
         "61748",
         "62202",
         "Keith Grogono",
         "1912-11-04",
         "Stratford",
         "England",
         "GBR",
         "Great Britain",
         null,
         null,
         "1999-03-22"
        ],
        [
         "62620",
         "63086",
         "Keith Musto",
         "1936-01-12",
         "Rochford",
         "England",
         "GBR",
         "Great Britain",
         "174.0",
         "72.0",
         null
        ],
        [
         "62678",
         "63144",
         "Keith Notary",
         "1960-01-22",
         "Merritt Island",
         "Florida",
         "USA",
         "United States",
         "170.0",
         "66.0",
         null
        ],
        [
         "68324",
         "68841",
         "Keith Angus",
         "1943-04-05",
         "Sheffield",
         "England",
         "GBR",
         "Great Britain",
         "170.0",
         "59.0",
         null
        ],
        [
         "68472",
         "68989",
         "Keith Cullen",
         "1972-06-13",
         "Ilford",
         "England",
         "GBR",
         "Great Britain",
         "177.0",
         "61.0",
         null
        ],
        [
         "68997",
         "69514",
         "Keith Stock",
         "1957-03-18",
         "Woolwich",
         "England",
         "GBR",
         "Great Britain",
         "176.0",
         "73.0",
         null
        ],
        [
         "77550",
         "78141",
         "Keith Brantly",
         "1962-05-23",
         "Scott Air Force Base",
         "Illinois",
         "USA",
         "United States",
         "180.0",
         "64.0",
         null
        ],
        [
         "84097",
         "84766",
         "Keith Christiansen",
         "1944-07-14",
         "International Falls",
         "Minnesota",
         "USA",
         "United States",
         "165.0",
         "69.0",
         "2018-11-05"
        ],
        [
         "94646",
         "95413",
         "Keith Meyer",
         "1938-06-20",
         "Geneva",
         "Illinois",
         "USA",
         "United States",
         null,
         null,
         "2010-07-25"
        ],
        [
         "95267",
         "96037",
         "Keith Oliver",
         "1947-10-27",
         "Liverpool",
         "England",
         "GBR",
         "Great Britain",
         "172.0",
         "68.0",
         null
        ],
        [
         "96452",
         "97229",
         "Keith Schellenberg",
         "1929-03-13",
         "Middlesbrough",
         "England",
         "GBR",
         "Great Britain",
         null,
         null,
         "2019-10-28"
        ],
        [
         "97499",
         "98286",
         "Keith Tkachuk",
         "1972-03-28",
         "Melrose",
         "Massachusetts",
         "USA",
         "United States",
         "188.0",
         "102.0",
         null
        ],
        [
         "98068",
         "98860",
         "Keith Wegeman",
         "1929-08-28",
         "Denver",
         "Colorado",
         "USA",
         "United States",
         null,
         null,
         "1974-08-22"
        ],
        [
         "99921",
         "100722",
         "Keith Carney",
         "1970-02-03",
         "Providence",
         "Rhode Island",
         "USA",
         "United States",
         "188.0",
         "93.0",
         null
        ],
        [
         "115973",
         "117348",
         "Keith Sanderson",
         "1975-02-02",
         "Plymouth",
         "Massachusetts",
         "USA",
         "United States",
         "183.0",
         "95.0",
         null
        ]
       ],
       "shape": {
        "columns": 10,
        "rows": 28
       }
      },
      "text/html": [
       "<div>\n",
       "<style scoped>\n",
       "    .dataframe tbody tr th:only-of-type {\n",
       "        vertical-align: middle;\n",
       "    }\n",
       "\n",
       "    .dataframe tbody tr th {\n",
       "        vertical-align: top;\n",
       "    }\n",
       "\n",
       "    .dataframe thead th {\n",
       "        text-align: right;\n",
       "    }\n",
       "</style>\n",
       "<table border=\"1\" class=\"dataframe\">\n",
       "  <thead>\n",
       "    <tr style=\"text-align: right;\">\n",
       "      <th></th>\n",
       "      <th>athlete_id</th>\n",
       "      <th>name</th>\n",
       "      <th>born_date</th>\n",
       "      <th>born_city</th>\n",
       "      <th>born_region</th>\n",
       "      <th>born_country</th>\n",
       "      <th>NOC</th>\n",
       "      <th>height_cm</th>\n",
       "      <th>weight_kg</th>\n",
       "      <th>died_date</th>\n",
       "    </tr>\n",
       "  </thead>\n",
       "  <tbody>\n",
       "    <tr>\n",
       "      <th>3505</th>\n",
       "      <td>3517</td>\n",
       "      <td>Keith Wallace</td>\n",
       "      <td>1961-03-29</td>\n",
       "      <td>Preston</td>\n",
       "      <td>England</td>\n",
       "      <td>GBR</td>\n",
       "      <td>Great Britain</td>\n",
       "      <td>165.0</td>\n",
       "      <td>51.0</td>\n",
       "      <td>1999-12-31</td>\n",
       "    </tr>\n",
       "    <tr>\n",
       "      <th>12053</th>\n",
       "      <td>12118</td>\n",
       "      <td>Keith Hervey</td>\n",
       "      <td>1898-11-03</td>\n",
       "      <td>Fulham</td>\n",
       "      <td>England</td>\n",
       "      <td>GBR</td>\n",
       "      <td>Great Britain</td>\n",
       "      <td>NaN</td>\n",
       "      <td>NaN</td>\n",
       "      <td>1973-02-22</td>\n",
       "    </tr>\n",
       "    <tr>\n",
       "      <th>14577</th>\n",
       "      <td>14674</td>\n",
       "      <td>Keith Harrison</td>\n",
       "      <td>1933-03-28</td>\n",
       "      <td>Birmingham</td>\n",
       "      <td>England</td>\n",
       "      <td>GBR</td>\n",
       "      <td>Great Britain</td>\n",
       "      <td>NaN</td>\n",
       "      <td>NaN</td>\n",
       "      <td>NaN</td>\n",
       "    </tr>\n",
       "    <tr>\n",
       "      <th>16166</th>\n",
       "      <td>16281</td>\n",
       "      <td>Keith Reynolds</td>\n",
       "      <td>1963-12-25</td>\n",
       "      <td>Solihull</td>\n",
       "      <td>England</td>\n",
       "      <td>GBR</td>\n",
       "      <td>Great Britain</td>\n",
       "      <td>173.0</td>\n",
       "      <td>68.0</td>\n",
       "      <td>NaN</td>\n",
       "    </tr>\n",
       "    <tr>\n",
       "      <th>18734</th>\n",
       "      <td>18862</td>\n",
       "      <td>Keith Sinclair</td>\n",
       "      <td>1945-06-26</td>\n",
       "      <td>Sunderland</td>\n",
       "      <td>England</td>\n",
       "      <td>GBR</td>\n",
       "      <td>Great Britain</td>\n",
       "      <td>190.0</td>\n",
       "      <td>79.0</td>\n",
       "      <td>NaN</td>\n",
       "    </tr>\n",
       "    <tr>\n",
       "      <th>29897</th>\n",
       "      <td>30123</td>\n",
       "      <td>Keith Langley</td>\n",
       "      <td>1961-06-03</td>\n",
       "      <td>Aldershot</td>\n",
       "      <td>England</td>\n",
       "      <td>GBR</td>\n",
       "      <td>Great Britain</td>\n",
       "      <td>173.0</td>\n",
       "      <td>70.0</td>\n",
       "      <td>NaN</td>\n",
       "    </tr>\n",
       "    <tr>\n",
       "      <th>34011</th>\n",
       "      <td>34275</td>\n",
       "      <td>Keith Remfry</td>\n",
       "      <td>1947-11-17</td>\n",
       "      <td>Ealing</td>\n",
       "      <td>England</td>\n",
       "      <td>GBR</td>\n",
       "      <td>Great Britain</td>\n",
       "      <td>193.0</td>\n",
       "      <td>114.0</td>\n",
       "      <td>2015-09-16</td>\n",
       "    </tr>\n",
       "    <tr>\n",
       "      <th>46885</th>\n",
       "      <td>47234</td>\n",
       "      <td>Keith Collin</td>\n",
       "      <td>1937-01-18</td>\n",
       "      <td>Marylebone</td>\n",
       "      <td>England</td>\n",
       "      <td>GBR</td>\n",
       "      <td>Great Britain</td>\n",
       "      <td>168.0</td>\n",
       "      <td>63.0</td>\n",
       "      <td>1991-03-06</td>\n",
       "    </tr>\n",
       "    <tr>\n",
       "      <th>50929</th>\n",
       "      <td>51288</td>\n",
       "      <td>Keith Carter</td>\n",
       "      <td>1924-08-30</td>\n",
       "      <td>Akron</td>\n",
       "      <td>Ohio</td>\n",
       "      <td>USA</td>\n",
       "      <td>United States</td>\n",
       "      <td>NaN</td>\n",
       "      <td>NaN</td>\n",
       "      <td>2013-05-03</td>\n",
       "    </tr>\n",
       "    <tr>\n",
       "      <th>51185</th>\n",
       "      <td>51544</td>\n",
       "      <td>Keith Russell</td>\n",
       "      <td>1948-01-15</td>\n",
       "      <td>Mesa</td>\n",
       "      <td>Arizona</td>\n",
       "      <td>USA</td>\n",
       "      <td>United States</td>\n",
       "      <td>188.0</td>\n",
       "      <td>73.0</td>\n",
       "      <td>NaN</td>\n",
       "    </tr>\n",
       "    <tr>\n",
       "      <th>52913</th>\n",
       "      <td>53288</td>\n",
       "      <td>Keith Erickson</td>\n",
       "      <td>1944-04-19</td>\n",
       "      <td>San Francisco</td>\n",
       "      <td>California</td>\n",
       "      <td>USA</td>\n",
       "      <td>United States</td>\n",
       "      <td>196.0</td>\n",
       "      <td>86.0</td>\n",
       "      <td>NaN</td>\n",
       "    </tr>\n",
       "    <tr>\n",
       "      <th>55317</th>\n",
       "      <td>55712</td>\n",
       "      <td>Keith Boxell</td>\n",
       "      <td>1958-05-06</td>\n",
       "      <td>Clapham</td>\n",
       "      <td>England</td>\n",
       "      <td>GBR</td>\n",
       "      <td>Great Britain</td>\n",
       "      <td>170.0</td>\n",
       "      <td>87.0</td>\n",
       "      <td>NaN</td>\n",
       "    </tr>\n",
       "    <tr>\n",
       "      <th>57818</th>\n",
       "      <td>58226</td>\n",
       "      <td>Keith Peache</td>\n",
       "      <td>1947-08-10</td>\n",
       "      <td>Lewisham</td>\n",
       "      <td>England</td>\n",
       "      <td>GBR</td>\n",
       "      <td>Great Britain</td>\n",
       "      <td>180.0</td>\n",
       "      <td>98.0</td>\n",
       "      <td>NaN</td>\n",
       "    </tr>\n",
       "    <tr>\n",
       "      <th>61748</th>\n",
       "      <td>62202</td>\n",
       "      <td>Keith Grogono</td>\n",
       "      <td>1912-11-04</td>\n",
       "      <td>Stratford</td>\n",
       "      <td>England</td>\n",
       "      <td>GBR</td>\n",
       "      <td>Great Britain</td>\n",
       "      <td>NaN</td>\n",
       "      <td>NaN</td>\n",
       "      <td>1999-03-22</td>\n",
       "    </tr>\n",
       "    <tr>\n",
       "      <th>62620</th>\n",
       "      <td>63086</td>\n",
       "      <td>Keith Musto</td>\n",
       "      <td>1936-01-12</td>\n",
       "      <td>Rochford</td>\n",
       "      <td>England</td>\n",
       "      <td>GBR</td>\n",
       "      <td>Great Britain</td>\n",
       "      <td>174.0</td>\n",
       "      <td>72.0</td>\n",
       "      <td>NaN</td>\n",
       "    </tr>\n",
       "    <tr>\n",
       "      <th>62678</th>\n",
       "      <td>63144</td>\n",
       "      <td>Keith Notary</td>\n",
       "      <td>1960-01-22</td>\n",
       "      <td>Merritt Island</td>\n",
       "      <td>Florida</td>\n",
       "      <td>USA</td>\n",
       "      <td>United States</td>\n",
       "      <td>170.0</td>\n",
       "      <td>66.0</td>\n",
       "      <td>NaN</td>\n",
       "    </tr>\n",
       "    <tr>\n",
       "      <th>68324</th>\n",
       "      <td>68841</td>\n",
       "      <td>Keith Angus</td>\n",
       "      <td>1943-04-05</td>\n",
       "      <td>Sheffield</td>\n",
       "      <td>England</td>\n",
       "      <td>GBR</td>\n",
       "      <td>Great Britain</td>\n",
       "      <td>170.0</td>\n",
       "      <td>59.0</td>\n",
       "      <td>NaN</td>\n",
       "    </tr>\n",
       "    <tr>\n",
       "      <th>68472</th>\n",
       "      <td>68989</td>\n",
       "      <td>Keith Cullen</td>\n",
       "      <td>1972-06-13</td>\n",
       "      <td>Ilford</td>\n",
       "      <td>England</td>\n",
       "      <td>GBR</td>\n",
       "      <td>Great Britain</td>\n",
       "      <td>177.0</td>\n",
       "      <td>61.0</td>\n",
       "      <td>NaN</td>\n",
       "    </tr>\n",
       "    <tr>\n",
       "      <th>68997</th>\n",
       "      <td>69514</td>\n",
       "      <td>Keith Stock</td>\n",
       "      <td>1957-03-18</td>\n",
       "      <td>Woolwich</td>\n",
       "      <td>England</td>\n",
       "      <td>GBR</td>\n",
       "      <td>Great Britain</td>\n",
       "      <td>176.0</td>\n",
       "      <td>73.0</td>\n",
       "      <td>NaN</td>\n",
       "    </tr>\n",
       "    <tr>\n",
       "      <th>77550</th>\n",
       "      <td>78141</td>\n",
       "      <td>Keith Brantly</td>\n",
       "      <td>1962-05-23</td>\n",
       "      <td>Scott Air Force Base</td>\n",
       "      <td>Illinois</td>\n",
       "      <td>USA</td>\n",
       "      <td>United States</td>\n",
       "      <td>180.0</td>\n",
       "      <td>64.0</td>\n",
       "      <td>NaN</td>\n",
       "    </tr>\n",
       "    <tr>\n",
       "      <th>84097</th>\n",
       "      <td>84766</td>\n",
       "      <td>Keith Christiansen</td>\n",
       "      <td>1944-07-14</td>\n",
       "      <td>International Falls</td>\n",
       "      <td>Minnesota</td>\n",
       "      <td>USA</td>\n",
       "      <td>United States</td>\n",
       "      <td>165.0</td>\n",
       "      <td>69.0</td>\n",
       "      <td>2018-11-05</td>\n",
       "    </tr>\n",
       "    <tr>\n",
       "      <th>94646</th>\n",
       "      <td>95413</td>\n",
       "      <td>Keith Meyer</td>\n",
       "      <td>1938-06-20</td>\n",
       "      <td>Geneva</td>\n",
       "      <td>Illinois</td>\n",
       "      <td>USA</td>\n",
       "      <td>United States</td>\n",
       "      <td>NaN</td>\n",
       "      <td>NaN</td>\n",
       "      <td>2010-07-25</td>\n",
       "    </tr>\n",
       "    <tr>\n",
       "      <th>95267</th>\n",
       "      <td>96037</td>\n",
       "      <td>Keith Oliver</td>\n",
       "      <td>1947-10-27</td>\n",
       "      <td>Liverpool</td>\n",
       "      <td>England</td>\n",
       "      <td>GBR</td>\n",
       "      <td>Great Britain</td>\n",
       "      <td>172.0</td>\n",
       "      <td>68.0</td>\n",
       "      <td>NaN</td>\n",
       "    </tr>\n",
       "    <tr>\n",
       "      <th>96452</th>\n",
       "      <td>97229</td>\n",
       "      <td>Keith Schellenberg</td>\n",
       "      <td>1929-03-13</td>\n",
       "      <td>Middlesbrough</td>\n",
       "      <td>England</td>\n",
       "      <td>GBR</td>\n",
       "      <td>Great Britain</td>\n",
       "      <td>NaN</td>\n",
       "      <td>NaN</td>\n",
       "      <td>2019-10-28</td>\n",
       "    </tr>\n",
       "    <tr>\n",
       "      <th>97499</th>\n",
       "      <td>98286</td>\n",
       "      <td>Keith Tkachuk</td>\n",
       "      <td>1972-03-28</td>\n",
       "      <td>Melrose</td>\n",
       "      <td>Massachusetts</td>\n",
       "      <td>USA</td>\n",
       "      <td>United States</td>\n",
       "      <td>188.0</td>\n",
       "      <td>102.0</td>\n",
       "      <td>NaN</td>\n",
       "    </tr>\n",
       "    <tr>\n",
       "      <th>98068</th>\n",
       "      <td>98860</td>\n",
       "      <td>Keith Wegeman</td>\n",
       "      <td>1929-08-28</td>\n",
       "      <td>Denver</td>\n",
       "      <td>Colorado</td>\n",
       "      <td>USA</td>\n",
       "      <td>United States</td>\n",
       "      <td>NaN</td>\n",
       "      <td>NaN</td>\n",
       "      <td>1974-08-22</td>\n",
       "    </tr>\n",
       "    <tr>\n",
       "      <th>99921</th>\n",
       "      <td>100722</td>\n",
       "      <td>Keith Carney</td>\n",
       "      <td>1970-02-03</td>\n",
       "      <td>Providence</td>\n",
       "      <td>Rhode Island</td>\n",
       "      <td>USA</td>\n",
       "      <td>United States</td>\n",
       "      <td>188.0</td>\n",
       "      <td>93.0</td>\n",
       "      <td>NaN</td>\n",
       "    </tr>\n",
       "    <tr>\n",
       "      <th>115973</th>\n",
       "      <td>117348</td>\n",
       "      <td>Keith Sanderson</td>\n",
       "      <td>1975-02-02</td>\n",
       "      <td>Plymouth</td>\n",
       "      <td>Massachusetts</td>\n",
       "      <td>USA</td>\n",
       "      <td>United States</td>\n",
       "      <td>183.0</td>\n",
       "      <td>95.0</td>\n",
       "      <td>NaN</td>\n",
       "    </tr>\n",
       "  </tbody>\n",
       "</table>\n",
       "</div>"
      ],
      "text/plain": [
       "        athlete_id                name   born_date             born_city  \\\n",
       "3505          3517       Keith Wallace  1961-03-29               Preston   \n",
       "12053        12118        Keith Hervey  1898-11-03                Fulham   \n",
       "14577        14674      Keith Harrison  1933-03-28            Birmingham   \n",
       "16166        16281      Keith Reynolds  1963-12-25              Solihull   \n",
       "18734        18862      Keith Sinclair  1945-06-26            Sunderland   \n",
       "29897        30123       Keith Langley  1961-06-03             Aldershot   \n",
       "34011        34275        Keith Remfry  1947-11-17                Ealing   \n",
       "46885        47234        Keith Collin  1937-01-18            Marylebone   \n",
       "50929        51288        Keith Carter  1924-08-30                 Akron   \n",
       "51185        51544       Keith Russell  1948-01-15                  Mesa   \n",
       "52913        53288      Keith Erickson  1944-04-19         San Francisco   \n",
       "55317        55712        Keith Boxell  1958-05-06               Clapham   \n",
       "57818        58226        Keith Peache  1947-08-10              Lewisham   \n",
       "61748        62202       Keith Grogono  1912-11-04             Stratford   \n",
       "62620        63086         Keith Musto  1936-01-12              Rochford   \n",
       "62678        63144        Keith Notary  1960-01-22        Merritt Island   \n",
       "68324        68841         Keith Angus  1943-04-05             Sheffield   \n",
       "68472        68989        Keith Cullen  1972-06-13                Ilford   \n",
       "68997        69514         Keith Stock  1957-03-18              Woolwich   \n",
       "77550        78141       Keith Brantly  1962-05-23  Scott Air Force Base   \n",
       "84097        84766  Keith Christiansen  1944-07-14   International Falls   \n",
       "94646        95413         Keith Meyer  1938-06-20                Geneva   \n",
       "95267        96037        Keith Oliver  1947-10-27             Liverpool   \n",
       "96452        97229  Keith Schellenberg  1929-03-13         Middlesbrough   \n",
       "97499        98286       Keith Tkachuk  1972-03-28               Melrose   \n",
       "98068        98860       Keith Wegeman  1929-08-28                Denver   \n",
       "99921       100722        Keith Carney  1970-02-03            Providence   \n",
       "115973      117348     Keith Sanderson  1975-02-02              Plymouth   \n",
       "\n",
       "          born_region born_country            NOC  height_cm  weight_kg  \\\n",
       "3505          England          GBR  Great Britain      165.0       51.0   \n",
       "12053         England          GBR  Great Britain        NaN        NaN   \n",
       "14577         England          GBR  Great Britain        NaN        NaN   \n",
       "16166         England          GBR  Great Britain      173.0       68.0   \n",
       "18734         England          GBR  Great Britain      190.0       79.0   \n",
       "29897         England          GBR  Great Britain      173.0       70.0   \n",
       "34011         England          GBR  Great Britain      193.0      114.0   \n",
       "46885         England          GBR  Great Britain      168.0       63.0   \n",
       "50929            Ohio          USA  United States        NaN        NaN   \n",
       "51185         Arizona          USA  United States      188.0       73.0   \n",
       "52913      California          USA  United States      196.0       86.0   \n",
       "55317         England          GBR  Great Britain      170.0       87.0   \n",
       "57818         England          GBR  Great Britain      180.0       98.0   \n",
       "61748         England          GBR  Great Britain        NaN        NaN   \n",
       "62620         England          GBR  Great Britain      174.0       72.0   \n",
       "62678         Florida          USA  United States      170.0       66.0   \n",
       "68324         England          GBR  Great Britain      170.0       59.0   \n",
       "68472         England          GBR  Great Britain      177.0       61.0   \n",
       "68997         England          GBR  Great Britain      176.0       73.0   \n",
       "77550        Illinois          USA  United States      180.0       64.0   \n",
       "84097       Minnesota          USA  United States      165.0       69.0   \n",
       "94646        Illinois          USA  United States        NaN        NaN   \n",
       "95267         England          GBR  Great Britain      172.0       68.0   \n",
       "96452         England          GBR  Great Britain        NaN        NaN   \n",
       "97499   Massachusetts          USA  United States      188.0      102.0   \n",
       "98068        Colorado          USA  United States        NaN        NaN   \n",
       "99921    Rhode Island          USA  United States      188.0       93.0   \n",
       "115973  Massachusetts          USA  United States      183.0       95.0   \n",
       "\n",
       "         died_date  \n",
       "3505    1999-12-31  \n",
       "12053   1973-02-22  \n",
       "14577          NaN  \n",
       "16166          NaN  \n",
       "18734          NaN  \n",
       "29897          NaN  \n",
       "34011   2015-09-16  \n",
       "46885   1991-03-06  \n",
       "50929   2013-05-03  \n",
       "51185          NaN  \n",
       "52913          NaN  \n",
       "55317          NaN  \n",
       "57818          NaN  \n",
       "61748   1999-03-22  \n",
       "62620          NaN  \n",
       "62678          NaN  \n",
       "68324          NaN  \n",
       "68472          NaN  \n",
       "68997          NaN  \n",
       "77550          NaN  \n",
       "84097   2018-11-05  \n",
       "94646   2010-07-25  \n",
       "95267          NaN  \n",
       "96452   2019-10-28  \n",
       "97499          NaN  \n",
       "98068   1974-08-22  \n",
       "99921          NaN  \n",
       "115973         NaN  "
      ]
     },
     "execution_count": 186,
     "metadata": {},
     "output_type": "execute_result"
    }
   ],
   "source": [
    "bios[(bios['born_country'].isin(['USA', \"FRA\", \"GBR\"])) & (bios['name'].str.startswith(\"Keith\"))]"
   ]
  },
  {
   "cell_type": "markdown",
   "metadata": {},
   "source": [
    "### Class Activity\n",
    "Using cofee.csv  \n",
    "1. Display the first 5 rows of the coffee sales DataFrame.  \n",
    "2. Select only the \"Coffee Type\" column from the DataFrame.  \n",
    "3. Select the \"Units Sold\" values for Wednesday using label-based indexing.  \n",
    "4. Select all rows where the day is \"Monday\".  \n",
    "5. Select all records where more than 30 units were sold.  \n",
    "6. Select all rows where the coffee type is \"Latte\" and units sold are greater than 25.  \n",
    "7. Filter the DataFrame to show only weekend sales (Saturday and Sunday).  \n",
    "8. Create a filtered view showing only Espresso sales with units sold between 30 and 40 (inclusive).  \n",
    "9. Filter for days where Latte sales were exactly 35 units.  \n",
    "10. Sort the DataFrame by units sold in descending order.  "
   ]
  }
 ],
 "metadata": {
  "kernelspec": {
   "display_name": "base",
   "language": "python",
   "name": "python3"
  },
  "language_info": {
   "codemirror_mode": {
    "name": "ipython",
    "version": 3
   },
   "file_extension": ".py",
   "mimetype": "text/x-python",
   "name": "python",
   "nbconvert_exporter": "python",
   "pygments_lexer": "ipython3",
   "version": "3.12.7"
  }
 },
 "nbformat": 4,
 "nbformat_minor": 2
}
