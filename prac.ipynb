{
 "cells": [
  {
   "cell_type": "markdown",
   "id": "6f93aa9c",
   "metadata": {},
   "source": [
    "# Assignment 4\n",
    "Using the datasets above: List_of_local_governments_in_Nigeria.csv, Nigeria_povertyrate_per_local_gov.csv and list-states-nigeria-227j\n",
    "\n",
    "    1. Merge the datasets together to form a single table.\n",
    "    2. Remove any redundant columns\n",
    "    3. Clean the dataset to remove every null values\n",
    "    4. Using either groupby or pivot_table calculate how population affects poverty rate of each local government\n",
    "    5. Arrange each local goverment according to the order of their poverty rate"
   ]
  },
  {
   "cell_type": "code",
   "execution_count": null,
   "id": "363b049a",
   "metadata": {},
   "outputs": [],
   "source": [
    "import pandas as pd\n",
    "import numpy as np"
   ]
  },
  {
   "cell_type": "code",
   "execution_count": 3,
   "id": "7d5fd67d",
   "metadata": {},
   "outputs": [],
   "source": [
    "df1 = pd.read_csv(r\"E:\\Datasets\\Nigeria data\\list_of_local_government_areas_of_nigeria.csv\")\n",
    "df2 = pd.read_csv(r\"E:\\Datasets\\Nigeria data\\Nigeria povertyrate per local gov.csv\")\n",
    "df3 = pd.read_csv(r\"E:\\Datasets\\Nigeria data\\list-states-nigeria-227j.csv\")"
   ]
  },
  {
   "cell_type": "code",
   "execution_count": 6,
   "id": "15388043",
   "metadata": {},
   "outputs": [
    {
     "data": {
      "application/vnd.microsoft.datawrangler.viewer.v0+json": {
       "columns": [
        {
         "name": "index",
         "rawType": "int64",
         "type": "integer"
        },
        {
         "name": "SNo",
         "rawType": "int64",
         "type": "integer"
        },
        {
         "name": "Local Government Area",
         "rawType": "object",
         "type": "string"
        },
        {
         "name": "State",
         "rawType": "object",
         "type": "string"
        }
       ],
       "conversionMethod": "pd.DataFrame",
       "ref": "0f64c742-4d47-4eab-99ca-0e232ce68954",
       "rows": [
        [
         "0",
         "1",
         "Abadam",
         "Borno State"
        ],
        [
         "1",
         "2",
         "Abaji",
         "FCT"
        ],
        [
         "2",
         "3",
         "Abak",
         "Akwa Ibom State"
        ],
        [
         "3",
         "4",
         "Abakaliki",
         "Ebonyi State"
        ],
        [
         "4",
         "5",
         "Aba North",
         "Abia State"
        ]
       ],
       "shape": {
        "columns": 3,
        "rows": 5
       }
      },
      "text/html": [
       "<div>\n",
       "<style scoped>\n",
       "    .dataframe tbody tr th:only-of-type {\n",
       "        vertical-align: middle;\n",
       "    }\n",
       "\n",
       "    .dataframe tbody tr th {\n",
       "        vertical-align: top;\n",
       "    }\n",
       "\n",
       "    .dataframe thead th {\n",
       "        text-align: right;\n",
       "    }\n",
       "</style>\n",
       "<table border=\"1\" class=\"dataframe\">\n",
       "  <thead>\n",
       "    <tr style=\"text-align: right;\">\n",
       "      <th></th>\n",
       "      <th>SNo</th>\n",
       "      <th>Local Government Area</th>\n",
       "      <th>State</th>\n",
       "    </tr>\n",
       "  </thead>\n",
       "  <tbody>\n",
       "    <tr>\n",
       "      <th>0</th>\n",
       "      <td>1</td>\n",
       "      <td>Abadam</td>\n",
       "      <td>Borno State</td>\n",
       "    </tr>\n",
       "    <tr>\n",
       "      <th>1</th>\n",
       "      <td>2</td>\n",
       "      <td>Abaji</td>\n",
       "      <td>FCT</td>\n",
       "    </tr>\n",
       "    <tr>\n",
       "      <th>2</th>\n",
       "      <td>3</td>\n",
       "      <td>Abak</td>\n",
       "      <td>Akwa Ibom State</td>\n",
       "    </tr>\n",
       "    <tr>\n",
       "      <th>3</th>\n",
       "      <td>4</td>\n",
       "      <td>Abakaliki</td>\n",
       "      <td>Ebonyi State</td>\n",
       "    </tr>\n",
       "    <tr>\n",
       "      <th>4</th>\n",
       "      <td>5</td>\n",
       "      <td>Aba North</td>\n",
       "      <td>Abia State</td>\n",
       "    </tr>\n",
       "  </tbody>\n",
       "</table>\n",
       "</div>"
      ],
      "text/plain": [
       "   SNo Local Government Area            State\n",
       "0    1                Abadam      Borno State\n",
       "1    2                 Abaji              FCT\n",
       "2    3                  Abak  Akwa Ibom State\n",
       "3    4             Abakaliki     Ebonyi State\n",
       "4    5             Aba North       Abia State"
      ]
     },
     "execution_count": 6,
     "metadata": {},
     "output_type": "execute_result"
    }
   ],
   "source": [
    "df1.head()"
   ]
  },
  {
   "cell_type": "code",
   "execution_count": 11,
   "id": "cfb5c80f",
   "metadata": {},
   "outputs": [
    {
     "data": {
      "application/vnd.microsoft.datawrangler.viewer.v0+json": {
       "columns": [
        {
         "name": "index",
         "rawType": "int64",
         "type": "integer"
        },
        {
         "name": "ID_0",
         "rawType": "int64",
         "type": "integer"
        },
        {
         "name": "ISO",
         "rawType": "object",
         "type": "string"
        },
        {
         "name": "NAME_0",
         "rawType": "object",
         "type": "string"
        },
        {
         "name": "ID_12",
         "rawType": "int64",
         "type": "integer"
        },
        {
         "name": "NAME_12",
         "rawType": "object",
         "type": "string"
        },
        {
         "name": "ID_23",
         "rawType": "int64",
         "type": "integer"
        },
        {
         "name": "NAME_23",
         "rawType": "object",
         "type": "string"
        },
        {
         "name": "2014_Popul",
         "rawType": "int64",
         "type": "integer"
        },
        {
         "name": "Poverty_Ra",
         "rawType": "float64",
         "type": "float"
        },
        {
         "name": "2014_Pover",
         "rawType": "int64",
         "type": "integer"
        }
       ],
       "conversionMethod": "pd.DataFrame",
       "ref": "0e9ed4db-0184-4eb4-95bb-94e4008b3da6",
       "rows": [
        [
         "0",
         "163",
         "NGA",
         "Nigeria",
         "1",
         "Abia",
         "1",
         "Aba North",
         "257689",
         "0.0173775",
         "9661"
        ],
        [
         "1",
         "163",
         "NGA",
         "Nigeria",
         "1",
         "Abia",
         "2",
         "Aba South",
         "405791",
         "0.0944801",
         "16070"
        ],
        [
         "2",
         "163",
         "NGA",
         "Nigeria",
         "1",
         "Abia",
         "3",
         "Arochukw",
         "193250",
         "0.175241",
         "40022"
        ],
        [
         "3",
         "163",
         "NGA",
         "Nigeria",
         "1",
         "Abia",
         "4",
         "Bende",
         "244399",
         "0.129469",
         "39410"
        ],
        [
         "4",
         "163",
         "NGA",
         "Nigeria",
         "1",
         "Abia",
         "5",
         "Ikwuano",
         "139157",
         "0.111351",
         "12145"
        ]
       ],
       "shape": {
        "columns": 10,
        "rows": 5
       }
      },
      "text/html": [
       "<div>\n",
       "<style scoped>\n",
       "    .dataframe tbody tr th:only-of-type {\n",
       "        vertical-align: middle;\n",
       "    }\n",
       "\n",
       "    .dataframe tbody tr th {\n",
       "        vertical-align: top;\n",
       "    }\n",
       "\n",
       "    .dataframe thead th {\n",
       "        text-align: right;\n",
       "    }\n",
       "</style>\n",
       "<table border=\"1\" class=\"dataframe\">\n",
       "  <thead>\n",
       "    <tr style=\"text-align: right;\">\n",
       "      <th></th>\n",
       "      <th>ID_0</th>\n",
       "      <th>ISO</th>\n",
       "      <th>NAME_0</th>\n",
       "      <th>ID_12</th>\n",
       "      <th>NAME_12</th>\n",
       "      <th>ID_23</th>\n",
       "      <th>NAME_23</th>\n",
       "      <th>2014_Popul</th>\n",
       "      <th>Poverty_Ra</th>\n",
       "      <th>2014_Pover</th>\n",
       "    </tr>\n",
       "  </thead>\n",
       "  <tbody>\n",
       "    <tr>\n",
       "      <th>0</th>\n",
       "      <td>163</td>\n",
       "      <td>NGA</td>\n",
       "      <td>Nigeria</td>\n",
       "      <td>1</td>\n",
       "      <td>Abia</td>\n",
       "      <td>1</td>\n",
       "      <td>Aba North</td>\n",
       "      <td>257689</td>\n",
       "      <td>0.017378</td>\n",
       "      <td>9661</td>\n",
       "    </tr>\n",
       "    <tr>\n",
       "      <th>1</th>\n",
       "      <td>163</td>\n",
       "      <td>NGA</td>\n",
       "      <td>Nigeria</td>\n",
       "      <td>1</td>\n",
       "      <td>Abia</td>\n",
       "      <td>2</td>\n",
       "      <td>Aba South</td>\n",
       "      <td>405791</td>\n",
       "      <td>0.094480</td>\n",
       "      <td>16070</td>\n",
       "    </tr>\n",
       "    <tr>\n",
       "      <th>2</th>\n",
       "      <td>163</td>\n",
       "      <td>NGA</td>\n",
       "      <td>Nigeria</td>\n",
       "      <td>1</td>\n",
       "      <td>Abia</td>\n",
       "      <td>3</td>\n",
       "      <td>Arochukw</td>\n",
       "      <td>193250</td>\n",
       "      <td>0.175241</td>\n",
       "      <td>40022</td>\n",
       "    </tr>\n",
       "    <tr>\n",
       "      <th>3</th>\n",
       "      <td>163</td>\n",
       "      <td>NGA</td>\n",
       "      <td>Nigeria</td>\n",
       "      <td>1</td>\n",
       "      <td>Abia</td>\n",
       "      <td>4</td>\n",
       "      <td>Bende</td>\n",
       "      <td>244399</td>\n",
       "      <td>0.129469</td>\n",
       "      <td>39410</td>\n",
       "    </tr>\n",
       "    <tr>\n",
       "      <th>4</th>\n",
       "      <td>163</td>\n",
       "      <td>NGA</td>\n",
       "      <td>Nigeria</td>\n",
       "      <td>1</td>\n",
       "      <td>Abia</td>\n",
       "      <td>5</td>\n",
       "      <td>Ikwuano</td>\n",
       "      <td>139157</td>\n",
       "      <td>0.111351</td>\n",
       "      <td>12145</td>\n",
       "    </tr>\n",
       "  </tbody>\n",
       "</table>\n",
       "</div>"
      ],
      "text/plain": [
       "   ID_0  ISO   NAME_0  ID_12 NAME_12  ID_23    NAME_23  2014_Popul  \\\n",
       "0   163  NGA  Nigeria      1    Abia      1  Aba North      257689   \n",
       "1   163  NGA  Nigeria      1    Abia      2  Aba South      405791   \n",
       "2   163  NGA  Nigeria      1    Abia      3   Arochukw      193250   \n",
       "3   163  NGA  Nigeria      1    Abia      4      Bende      244399   \n",
       "4   163  NGA  Nigeria      1    Abia      5    Ikwuano      139157   \n",
       "\n",
       "   Poverty_Ra  2014_Pover  \n",
       "0    0.017378        9661  \n",
       "1    0.094480       16070  \n",
       "2    0.175241       40022  \n",
       "3    0.129469       39410  \n",
       "4    0.111351       12145  "
      ]
     },
     "execution_count": 11,
     "metadata": {},
     "output_type": "execute_result"
    }
   ],
   "source": [
    "\n",
    "df2.drop_duplicates()\n",
    "df2.head()"
   ]
  },
  {
   "cell_type": "code",
   "execution_count": 14,
   "id": "1440db99",
   "metadata": {},
   "outputs": [
    {
     "data": {
      "application/vnd.microsoft.datawrangler.viewer.v0+json": {
       "columns": [
        {
         "name": "NAME_12",
         "rawType": "object",
         "type": "string"
        },
        {
         "name": "2014_Popul",
         "rawType": "int64",
         "type": "integer"
        },
        {
         "name": "Poverty_Ra",
         "rawType": "float64",
         "type": "float"
        },
        {
         "name": "2014_Pover",
         "rawType": "int64",
         "type": "integer"
        }
       ],
       "conversionMethod": "pd.DataFrame",
       "ref": "f0d06c14-645e-4aad-be16-5c1b180866ef",
       "rows": [
        [
         "Abia",
         "3729297",
         "2.536265",
         "449524"
        ],
        [
         "Adamawa",
         "3543386",
         "11.162622",
         "1819978"
        ],
        [
         "Akwa Ibom",
         "4696275",
         "10.066511",
         "1400426"
        ],
        [
         "Anambra",
         "5436358",
         "2.1942308",
         "462868"
        ],
        [
         "Bauchi",
         "5849408",
         "9.127692",
         "2362825"
        ],
        [
         "Bayelsa",
         "2030528",
         "2.1213811000000002",
         "513515"
        ],
        [
         "Benue",
         "5375902",
         "10.109827",
         "2120714"
        ],
        [
         "Borno",
         "5118764",
         "9.0677896",
         "1345389"
        ],
        [
         "Cross River",
         "3690425",
         "8.850148",
         "1650535"
        ],
        [
         "Delta",
         "5039111",
         "2.7481337",
         "419360"
        ],
        [
         "Ebonyi",
         "2598779",
         "9.969433",
         "1891559"
        ],
        [
         "Edo",
         "4260298",
         "3.3116292",
         "606289"
        ],
        [
         "Ekiti",
         "2922865",
         "2.2359762",
         "364869"
        ],
        [
         "Enugu",
         "4125974",
         "7.604261",
         "1552381"
        ],
        [
         "Federal Capital Territory",
         "1593657",
         "1.241191",
         "221034"
        ],
        [
         "Gombe",
         "3061174",
         "2.75362",
         "703257"
        ],
        [
         "Imo",
         "4804238",
         "4.5930458",
         "757625"
        ],
        [
         "Jigawa",
         "5673026",
         "15.71462",
         "3016311"
        ],
        [
         "Kaduna",
         "7743937",
         "7.9555424",
         "2299454"
        ],
        [
         "Kano",
         "12198509",
         "16.1388387",
         "3404381"
        ],
        [
         "Katsina",
         "7346750",
         "18.748469",
         "3759401"
        ],
        [
         "Kebbi",
         "4155776",
         "7.102758",
         "1317729"
        ],
        [
         "Kogi",
         "4238332",
         "4.6593367",
         "774437"
        ],
        [
         "Kwara",
         "3191721",
         "3.3236213",
         "518144"
        ],
        [
         "Lagos",
         "13285608",
         "1.4921058999999999",
         "618759"
        ],
        [
         "Nassarawa",
         "2383696",
         "4.282429",
         "672463"
        ],
        [
         "Niger",
         "4936106",
         "6.3763819999999996",
         "1215366"
        ],
        [
         "Ogun",
         "4629358",
         "5.119994",
         "892103"
        ],
        [
         "Ondo",
         "3966118",
         "2.8137301",
         "470126"
        ],
        [
         "Osun",
         "4923765",
         "6.9029355",
         "948458"
        ],
        [
         "Oyo",
         "7426954",
         "9.2749272",
         "1417672"
        ],
        [
         "Plateau",
         "4055796",
         "7.3814530000000005",
         "1612949"
        ],
        [
         "Rivers",
         "5692851",
         "5.5125354",
         "912606"
        ],
        [
         "Sokoto",
         "4590107",
         "4.7987096",
         "813534"
        ],
        [
         "Taraba",
         "2880788",
         "8.223135",
         "1396330"
        ],
        [
         "Water body",
         "11716",
         "0.41364",
         "1629"
        ],
        [
         "Yobe",
         "2976085",
         "8.967718",
         "1477606"
        ],
        [
         "Zamfara",
         "4094499",
         "6.953136",
         "1918249"
        ]
       ],
       "shape": {
        "columns": 3,
        "rows": 38
       }
      },
      "text/html": [
       "<div>\n",
       "<style scoped>\n",
       "    .dataframe tbody tr th:only-of-type {\n",
       "        vertical-align: middle;\n",
       "    }\n",
       "\n",
       "    .dataframe tbody tr th {\n",
       "        vertical-align: top;\n",
       "    }\n",
       "\n",
       "    .dataframe thead th {\n",
       "        text-align: right;\n",
       "    }\n",
       "</style>\n",
       "<table border=\"1\" class=\"dataframe\">\n",
       "  <thead>\n",
       "    <tr style=\"text-align: right;\">\n",
       "      <th></th>\n",
       "      <th>2014_Popul</th>\n",
       "      <th>Poverty_Ra</th>\n",
       "      <th>2014_Pover</th>\n",
       "    </tr>\n",
       "    <tr>\n",
       "      <th>NAME_12</th>\n",
       "      <th></th>\n",
       "      <th></th>\n",
       "      <th></th>\n",
       "    </tr>\n",
       "  </thead>\n",
       "  <tbody>\n",
       "    <tr>\n",
       "      <th>Abia</th>\n",
       "      <td>3729297</td>\n",
       "      <td>2.536265</td>\n",
       "      <td>449524</td>\n",
       "    </tr>\n",
       "    <tr>\n",
       "      <th>Adamawa</th>\n",
       "      <td>3543386</td>\n",
       "      <td>11.162622</td>\n",
       "      <td>1819978</td>\n",
       "    </tr>\n",
       "    <tr>\n",
       "      <th>Akwa Ibom</th>\n",
       "      <td>4696275</td>\n",
       "      <td>10.066511</td>\n",
       "      <td>1400426</td>\n",
       "    </tr>\n",
       "    <tr>\n",
       "      <th>Anambra</th>\n",
       "      <td>5436358</td>\n",
       "      <td>2.194231</td>\n",
       "      <td>462868</td>\n",
       "    </tr>\n",
       "    <tr>\n",
       "      <th>Bauchi</th>\n",
       "      <td>5849408</td>\n",
       "      <td>9.127692</td>\n",
       "      <td>2362825</td>\n",
       "    </tr>\n",
       "    <tr>\n",
       "      <th>Bayelsa</th>\n",
       "      <td>2030528</td>\n",
       "      <td>2.121381</td>\n",
       "      <td>513515</td>\n",
       "    </tr>\n",
       "    <tr>\n",
       "      <th>Benue</th>\n",
       "      <td>5375902</td>\n",
       "      <td>10.109827</td>\n",
       "      <td>2120714</td>\n",
       "    </tr>\n",
       "    <tr>\n",
       "      <th>Borno</th>\n",
       "      <td>5118764</td>\n",
       "      <td>9.067790</td>\n",
       "      <td>1345389</td>\n",
       "    </tr>\n",
       "    <tr>\n",
       "      <th>Cross River</th>\n",
       "      <td>3690425</td>\n",
       "      <td>8.850148</td>\n",
       "      <td>1650535</td>\n",
       "    </tr>\n",
       "    <tr>\n",
       "      <th>Delta</th>\n",
       "      <td>5039111</td>\n",
       "      <td>2.748134</td>\n",
       "      <td>419360</td>\n",
       "    </tr>\n",
       "    <tr>\n",
       "      <th>Ebonyi</th>\n",
       "      <td>2598779</td>\n",
       "      <td>9.969433</td>\n",
       "      <td>1891559</td>\n",
       "    </tr>\n",
       "    <tr>\n",
       "      <th>Edo</th>\n",
       "      <td>4260298</td>\n",
       "      <td>3.311629</td>\n",
       "      <td>606289</td>\n",
       "    </tr>\n",
       "    <tr>\n",
       "      <th>Ekiti</th>\n",
       "      <td>2922865</td>\n",
       "      <td>2.235976</td>\n",
       "      <td>364869</td>\n",
       "    </tr>\n",
       "    <tr>\n",
       "      <th>Enugu</th>\n",
       "      <td>4125974</td>\n",
       "      <td>7.604261</td>\n",
       "      <td>1552381</td>\n",
       "    </tr>\n",
       "    <tr>\n",
       "      <th>Federal Capital Territory</th>\n",
       "      <td>1593657</td>\n",
       "      <td>1.241191</td>\n",
       "      <td>221034</td>\n",
       "    </tr>\n",
       "    <tr>\n",
       "      <th>Gombe</th>\n",
       "      <td>3061174</td>\n",
       "      <td>2.753620</td>\n",
       "      <td>703257</td>\n",
       "    </tr>\n",
       "    <tr>\n",
       "      <th>Imo</th>\n",
       "      <td>4804238</td>\n",
       "      <td>4.593046</td>\n",
       "      <td>757625</td>\n",
       "    </tr>\n",
       "    <tr>\n",
       "      <th>Jigawa</th>\n",
       "      <td>5673026</td>\n",
       "      <td>15.714620</td>\n",
       "      <td>3016311</td>\n",
       "    </tr>\n",
       "    <tr>\n",
       "      <th>Kaduna</th>\n",
       "      <td>7743937</td>\n",
       "      <td>7.955542</td>\n",
       "      <td>2299454</td>\n",
       "    </tr>\n",
       "    <tr>\n",
       "      <th>Kano</th>\n",
       "      <td>12198509</td>\n",
       "      <td>16.138839</td>\n",
       "      <td>3404381</td>\n",
       "    </tr>\n",
       "    <tr>\n",
       "      <th>Katsina</th>\n",
       "      <td>7346750</td>\n",
       "      <td>18.748469</td>\n",
       "      <td>3759401</td>\n",
       "    </tr>\n",
       "    <tr>\n",
       "      <th>Kebbi</th>\n",
       "      <td>4155776</td>\n",
       "      <td>7.102758</td>\n",
       "      <td>1317729</td>\n",
       "    </tr>\n",
       "    <tr>\n",
       "      <th>Kogi</th>\n",
       "      <td>4238332</td>\n",
       "      <td>4.659337</td>\n",
       "      <td>774437</td>\n",
       "    </tr>\n",
       "    <tr>\n",
       "      <th>Kwara</th>\n",
       "      <td>3191721</td>\n",
       "      <td>3.323621</td>\n",
       "      <td>518144</td>\n",
       "    </tr>\n",
       "    <tr>\n",
       "      <th>Lagos</th>\n",
       "      <td>13285608</td>\n",
       "      <td>1.492106</td>\n",
       "      <td>618759</td>\n",
       "    </tr>\n",
       "    <tr>\n",
       "      <th>Nassarawa</th>\n",
       "      <td>2383696</td>\n",
       "      <td>4.282429</td>\n",
       "      <td>672463</td>\n",
       "    </tr>\n",
       "    <tr>\n",
       "      <th>Niger</th>\n",
       "      <td>4936106</td>\n",
       "      <td>6.376382</td>\n",
       "      <td>1215366</td>\n",
       "    </tr>\n",
       "    <tr>\n",
       "      <th>Ogun</th>\n",
       "      <td>4629358</td>\n",
       "      <td>5.119994</td>\n",
       "      <td>892103</td>\n",
       "    </tr>\n",
       "    <tr>\n",
       "      <th>Ondo</th>\n",
       "      <td>3966118</td>\n",
       "      <td>2.813730</td>\n",
       "      <td>470126</td>\n",
       "    </tr>\n",
       "    <tr>\n",
       "      <th>Osun</th>\n",
       "      <td>4923765</td>\n",
       "      <td>6.902935</td>\n",
       "      <td>948458</td>\n",
       "    </tr>\n",
       "    <tr>\n",
       "      <th>Oyo</th>\n",
       "      <td>7426954</td>\n",
       "      <td>9.274927</td>\n",
       "      <td>1417672</td>\n",
       "    </tr>\n",
       "    <tr>\n",
       "      <th>Plateau</th>\n",
       "      <td>4055796</td>\n",
       "      <td>7.381453</td>\n",
       "      <td>1612949</td>\n",
       "    </tr>\n",
       "    <tr>\n",
       "      <th>Rivers</th>\n",
       "      <td>5692851</td>\n",
       "      <td>5.512535</td>\n",
       "      <td>912606</td>\n",
       "    </tr>\n",
       "    <tr>\n",
       "      <th>Sokoto</th>\n",
       "      <td>4590107</td>\n",
       "      <td>4.798710</td>\n",
       "      <td>813534</td>\n",
       "    </tr>\n",
       "    <tr>\n",
       "      <th>Taraba</th>\n",
       "      <td>2880788</td>\n",
       "      <td>8.223135</td>\n",
       "      <td>1396330</td>\n",
       "    </tr>\n",
       "    <tr>\n",
       "      <th>Water body</th>\n",
       "      <td>11716</td>\n",
       "      <td>0.413640</td>\n",
       "      <td>1629</td>\n",
       "    </tr>\n",
       "    <tr>\n",
       "      <th>Yobe</th>\n",
       "      <td>2976085</td>\n",
       "      <td>8.967718</td>\n",
       "      <td>1477606</td>\n",
       "    </tr>\n",
       "    <tr>\n",
       "      <th>Zamfara</th>\n",
       "      <td>4094499</td>\n",
       "      <td>6.953136</td>\n",
       "      <td>1918249</td>\n",
       "    </tr>\n",
       "  </tbody>\n",
       "</table>\n",
       "</div>"
      ],
      "text/plain": [
       "                           2014_Popul  Poverty_Ra  2014_Pover\n",
       "NAME_12                                                      \n",
       "Abia                          3729297    2.536265      449524\n",
       "Adamawa                       3543386   11.162622     1819978\n",
       "Akwa Ibom                     4696275   10.066511     1400426\n",
       "Anambra                       5436358    2.194231      462868\n",
       "Bauchi                        5849408    9.127692     2362825\n",
       "Bayelsa                       2030528    2.121381      513515\n",
       "Benue                         5375902   10.109827     2120714\n",
       "Borno                         5118764    9.067790     1345389\n",
       "Cross River                   3690425    8.850148     1650535\n",
       "Delta                         5039111    2.748134      419360\n",
       "Ebonyi                        2598779    9.969433     1891559\n",
       "Edo                           4260298    3.311629      606289\n",
       "Ekiti                         2922865    2.235976      364869\n",
       "Enugu                         4125974    7.604261     1552381\n",
       "Federal Capital Territory     1593657    1.241191      221034\n",
       "Gombe                         3061174    2.753620      703257\n",
       "Imo                           4804238    4.593046      757625\n",
       "Jigawa                        5673026   15.714620     3016311\n",
       "Kaduna                        7743937    7.955542     2299454\n",
       "Kano                         12198509   16.138839     3404381\n",
       "Katsina                       7346750   18.748469     3759401\n",
       "Kebbi                         4155776    7.102758     1317729\n",
       "Kogi                          4238332    4.659337      774437\n",
       "Kwara                         3191721    3.323621      518144\n",
       "Lagos                        13285608    1.492106      618759\n",
       "Nassarawa                     2383696    4.282429      672463\n",
       "Niger                         4936106    6.376382     1215366\n",
       "Ogun                          4629358    5.119994      892103\n",
       "Ondo                          3966118    2.813730      470126\n",
       "Osun                          4923765    6.902935      948458\n",
       "Oyo                           7426954    9.274927     1417672\n",
       "Plateau                       4055796    7.381453     1612949\n",
       "Rivers                        5692851    5.512535      912606\n",
       "Sokoto                        4590107    4.798710      813534\n",
       "Taraba                        2880788    8.223135     1396330\n",
       "Water body                      11716    0.413640        1629\n",
       "Yobe                          2976085    8.967718     1477606\n",
       "Zamfara                       4094499    6.953136     1918249"
      ]
     },
     "execution_count": 14,
     "metadata": {},
     "output_type": "execute_result"
    }
   ],
   "source": [
    "df2.groupby('NAME_12')[['2014_Popul', 'Poverty_Ra', '2014_Pover']].sum()"
   ]
  },
  {
   "cell_type": "code",
   "execution_count": 12,
   "id": "6ac33f4a",
   "metadata": {},
   "outputs": [
    {
     "data": {
      "application/vnd.microsoft.datawrangler.viewer.v0+json": {
       "columns": [
        {
         "name": "index",
         "rawType": "int64",
         "type": "integer"
        },
        {
         "name": "SNo",
         "rawType": "object",
         "type": "string"
        },
        {
         "name": "Rank",
         "rawType": "object",
         "type": "string"
        },
        {
         "name": "State",
         "rawType": "object",
         "type": "string"
        },
        {
         "name": "Population",
         "rawType": "object",
         "type": "string"
        },
        {
         "name": "Unnamed: 4",
         "rawType": "float64",
         "type": "float"
        }
       ],
       "conversionMethod": "pd.DataFrame",
       "ref": "9b751598-1ae1-4663-b097-84bcd09c139f",
       "rows": [
        [
         "0",
         "1",
         "1",
         "Kano State",
         "94,01,288",
         null
        ],
        [
         "1",
         "2",
         "2",
         "Lagos State",
         "91,13,605",
         null
        ],
        [
         "2",
         "3",
         "3",
         "Kaduna State",
         "61,13,503",
         null
        ],
        [
         "3",
         "4",
         "4",
         "Katsina State",
         "58,01,584",
         null
        ],
        [
         "4",
         "5",
         "5",
         "Oyo State",
         "55,80,894",
         null
        ]
       ],
       "shape": {
        "columns": 5,
        "rows": 5
       }
      },
      "text/html": [
       "<div>\n",
       "<style scoped>\n",
       "    .dataframe tbody tr th:only-of-type {\n",
       "        vertical-align: middle;\n",
       "    }\n",
       "\n",
       "    .dataframe tbody tr th {\n",
       "        vertical-align: top;\n",
       "    }\n",
       "\n",
       "    .dataframe thead th {\n",
       "        text-align: right;\n",
       "    }\n",
       "</style>\n",
       "<table border=\"1\" class=\"dataframe\">\n",
       "  <thead>\n",
       "    <tr style=\"text-align: right;\">\n",
       "      <th></th>\n",
       "      <th>SNo</th>\n",
       "      <th>Rank</th>\n",
       "      <th>State</th>\n",
       "      <th>Population</th>\n",
       "      <th>Unnamed: 4</th>\n",
       "    </tr>\n",
       "  </thead>\n",
       "  <tbody>\n",
       "    <tr>\n",
       "      <th>0</th>\n",
       "      <td>1</td>\n",
       "      <td>1</td>\n",
       "      <td>Kano State</td>\n",
       "      <td>94,01,288</td>\n",
       "      <td>NaN</td>\n",
       "    </tr>\n",
       "    <tr>\n",
       "      <th>1</th>\n",
       "      <td>2</td>\n",
       "      <td>2</td>\n",
       "      <td>Lagos State</td>\n",
       "      <td>91,13,605</td>\n",
       "      <td>NaN</td>\n",
       "    </tr>\n",
       "    <tr>\n",
       "      <th>2</th>\n",
       "      <td>3</td>\n",
       "      <td>3</td>\n",
       "      <td>Kaduna State</td>\n",
       "      <td>61,13,503</td>\n",
       "      <td>NaN</td>\n",
       "    </tr>\n",
       "    <tr>\n",
       "      <th>3</th>\n",
       "      <td>4</td>\n",
       "      <td>4</td>\n",
       "      <td>Katsina State</td>\n",
       "      <td>58,01,584</td>\n",
       "      <td>NaN</td>\n",
       "    </tr>\n",
       "    <tr>\n",
       "      <th>4</th>\n",
       "      <td>5</td>\n",
       "      <td>5</td>\n",
       "      <td>Oyo State</td>\n",
       "      <td>55,80,894</td>\n",
       "      <td>NaN</td>\n",
       "    </tr>\n",
       "  </tbody>\n",
       "</table>\n",
       "</div>"
      ],
      "text/plain": [
       "  SNo Rank          State Population  Unnamed: 4\n",
       "0   1    1     Kano State  94,01,288         NaN\n",
       "1   2    2    Lagos State  91,13,605         NaN\n",
       "2   3    3   Kaduna State  61,13,503         NaN\n",
       "3   4    4  Katsina State  58,01,584         NaN\n",
       "4   5    5      Oyo State  55,80,894         NaN"
      ]
     },
     "execution_count": 12,
     "metadata": {},
     "output_type": "execute_result"
    }
   ],
   "source": [
    "df3.head()"
   ]
  },
  {
   "cell_type": "code",
   "execution_count": null,
   "id": "356fb41e",
   "metadata": {},
   "outputs": [],
   "source": [
    "# merging df1 and df2\n",
    "\n",
    "df1_df2 = pd.merge(df1, df2, left_on='Local Government Area', right_on='NAME_23')"
   ]
  },
  {
   "cell_type": "code",
   "execution_count": null,
   "id": "eaeddb6a",
   "metadata": {},
   "outputs": [
    {
     "data": {
      "application/vnd.microsoft.datawrangler.viewer.v0+json": {
       "columns": [
        {
         "name": "index",
         "rawType": "int64",
         "type": "integer"
        },
        {
         "name": "SNo",
         "rawType": "int64",
         "type": "integer"
        },
        {
         "name": "Local Government Area",
         "rawType": "object",
         "type": "string"
        },
        {
         "name": "State",
         "rawType": "object",
         "type": "string"
        },
        {
         "name": "2014_Popul",
         "rawType": "int64",
         "type": "integer"
        },
        {
         "name": "Poverty_Ra",
         "rawType": "float64",
         "type": "float"
        },
        {
         "name": "2014_Pover",
         "rawType": "int64",
         "type": "integer"
        }
       ],
       "conversionMethod": "pd.DataFrame",
       "ref": "b89e53dd-1256-4a2a-b0bd-1d3369140556",
       "rows": [
        [
         "0",
         "1",
         "Abadam",
         "Borno State",
         "83113",
         "0.39648",
         "31093"
        ],
        [
         "1",
         "2",
         "Abaji",
         "FCT",
         "60985",
         "0.243414",
         "14320"
        ],
        [
         "2",
         "3",
         "Abak",
         "Akwa Ibom State",
         "153585",
         "0.227546",
         "33179"
        ],
        [
         "3",
         "5",
         "Aba North",
         "Abia State",
         "257689",
         "0.0173775",
         "9661"
        ],
        [
         "4",
         "6",
         "Aba South",
         "Abia State",
         "405791",
         "0.0944801",
         "16070"
        ],
        [
         "5",
         "8",
         "Abeokuta South",
         "Ogun State",
         "366366",
         "0.1153",
         "37273"
        ],
        [
         "6",
         "9",
         "Abi",
         "Cross River State",
         "223863",
         "0.713566",
         "166890"
        ],
        [
         "7",
         "12",
         "Adavi",
         "Kogi State",
         "488112",
         "0.204577",
         "43806"
        ],
        [
         "8",
         "15",
         "Afijio",
         "Oyo State",
         "162342",
         "0.197316",
         "29240"
        ],
        [
         "9",
         "18",
         "Agaie",
         "Niger State",
         "159433",
         "0.170477",
         "26362"
        ],
        [
         "10",
         "19",
         "Agatu",
         "Benue State",
         "158207",
         "0.360905",
         "56762"
        ],
        [
         "11",
         "20",
         "Agwara",
         "Niger State",
         "108581",
         "0.355481",
         "35128"
        ],
        [
         "12",
         "21",
         "Agege",
         "Lagos State",
         "589257",
         "0.0357773",
         "24538"
        ],
        [
         "13",
         "22",
         "Aguata",
         "Anambra State",
         "448890",
         "0.0499184",
         "21662"
        ],
        [
         "14",
         "24",
         "Ahoada East",
         "Rivers State",
         "183348",
         "0.0578282",
         "10015"
        ],
        [
         "15",
         "25",
         "Ahoada West",
         "Rivers State",
         "270004",
         "0.0516619",
         "11564"
        ],
        [
         "16",
         "26",
         "Ajaokuta",
         "Kogi State",
         "184417",
         "0.26163",
         "39616"
        ],
        [
         "17",
         "28",
         "Ajingi",
         "Kano State",
         "375488",
         "0.474911",
         "146206"
        ],
        [
         "18",
         "29",
         "Akamkpa",
         "Cross River State",
         "278241",
         "0.462113",
         "112577"
        ],
        [
         "19",
         "30",
         "Akinyele",
         "Oyo State",
         "271506",
         "0.0994799",
         "20688"
        ],
        [
         "20",
         "31",
         "Akko",
         "Gombe State",
         "824869",
         "0.193742",
         "80443"
        ],
        [
         "21",
         "33",
         "Akoko North-East",
         "Ondo State",
         "252170",
         "0.12273",
         "15218"
        ],
        [
         "22",
         "35",
         "Akoko South-West",
         "Ondo State",
         "257586",
         "0.159289",
         "26746"
        ],
        [
         "23",
         "36",
         "Akoko South-East",
         "Ondo State",
         "102417",
         "0.133616",
         "12577"
        ],
        [
         "24",
         "37",
         "Akpabuyo",
         "Cross River State",
         "378732",
         "0.379",
         "125734"
        ],
        [
         "25",
         "39",
         "Akure North",
         "Ondo State",
         "264065",
         "0.140573",
         "21996"
        ],
        [
         "26",
         "40",
         "Akure South",
         "Ondo State",
         "425798",
         "0.103371",
         "19097"
        ],
        [
         "27",
         "41",
         "Akwanga",
         "Nasarawa State",
         "117913",
         "0.333239",
         "35363"
        ],
        [
         "28",
         "42",
         "Albasu",
         "Kano State",
         "214704",
         "0.37282",
         "83882"
        ],
        [
         "29",
         "43",
         "Aleiro",
         "Kebbi State",
         "195618",
         "0.264992",
         "38625"
        ],
        [
         "30",
         "44",
         "Alimosho",
         "Lagos State",
         "1401650",
         "0.0368805",
         "54172"
        ],
        [
         "31",
         "45",
         "Alkaleri",
         "Bauchi State",
         "427773",
         "0.474774",
         "196414"
        ],
        [
         "32",
         "47",
         "Anambra East",
         "Anambra State",
         "511010",
         "0.172274",
         "39023"
        ],
        [
         "33",
         "48",
         "Anambra West",
         "Anambra State",
         "166637",
         "0.283385",
         "42610"
        ],
        [
         "34",
         "49",
         "Anaocha",
         "Anambra State",
         "386118",
         "0.0451305",
         "16853"
        ],
        [
         "35",
         "51",
         "Aninri",
         "Enugu State",
         "103907",
         "0.654209",
         "64283"
        ],
        [
         "36",
         "54",
         "Anka",
         "Zamfara State",
         "153799",
         "0.545495",
         "83843"
        ],
        [
         "37",
         "55",
         "Ankpa",
         "Kogi State",
         "352259",
         "0.22",
         "63591"
        ],
        [
         "38",
         "56",
         "Apa",
         "Benue State",
         "111443",
         "0.280878",
         "30928"
        ],
        [
         "39",
         "57",
         "Apapa",
         "Lagos State",
         "917687",
         "0.0656498",
         "59606"
        ],
        [
         "40",
         "58",
         "Ado",
         "Benue State",
         "200683",
         "0.789235",
         "153077"
        ],
        [
         "41",
         "61",
         "Argungu",
         "Kebbi State",
         "252817",
         "0.262086",
         "59126"
        ],
        [
         "42",
         "63",
         "Asa",
         "Kwara State",
         "502879",
         "0.282319",
         "51453"
        ],
        [
         "43",
         "68",
         "Atiba",
         "Oyo State",
         "187884",
         "0.453231",
         "77616"
        ],
        [
         "44",
         "69",
         "Atisbo",
         "Oyo State",
         "113935",
         "0.31464",
         "31335"
        ],
        [
         "45",
         "70",
         "Augie",
         "Kebbi State",
         "268777",
         "0.332981",
         "88829"
        ],
        [
         "46",
         "71",
         "Auyo",
         "Jigawa State",
         "127250",
         "0.614141",
         "74010"
        ],
        [
         "47",
         "72",
         "Awe",
         "Nasarawa State",
         "137231",
         "0.399076",
         "54805"
        ],
        [
         "48",
         "73",
         "Awgu",
         "Enugu State",
         "256171",
         "0.417857",
         "105057"
        ],
        [
         "49",
         "76",
         "Ayamelum",
         "Anambra State",
         "193917",
         "0.28355",
         "55524"
        ]
       ],
       "shape": {
        "columns": 6,
        "rows": 595
       }
      },
      "text/html": [
       "<div>\n",
       "<style scoped>\n",
       "    .dataframe tbody tr th:only-of-type {\n",
       "        vertical-align: middle;\n",
       "    }\n",
       "\n",
       "    .dataframe tbody tr th {\n",
       "        vertical-align: top;\n",
       "    }\n",
       "\n",
       "    .dataframe thead th {\n",
       "        text-align: right;\n",
       "    }\n",
       "</style>\n",
       "<table border=\"1\" class=\"dataframe\">\n",
       "  <thead>\n",
       "    <tr style=\"text-align: right;\">\n",
       "      <th></th>\n",
       "      <th>SNo</th>\n",
       "      <th>Local Government Area</th>\n",
       "      <th>State</th>\n",
       "      <th>2014_Popul</th>\n",
       "      <th>Poverty_Ra</th>\n",
       "      <th>2014_Pover</th>\n",
       "    </tr>\n",
       "  </thead>\n",
       "  <tbody>\n",
       "    <tr>\n",
       "      <th>0</th>\n",
       "      <td>1</td>\n",
       "      <td>Abadam</td>\n",
       "      <td>Borno State</td>\n",
       "      <td>83113</td>\n",
       "      <td>0.396480</td>\n",
       "      <td>31093</td>\n",
       "    </tr>\n",
       "    <tr>\n",
       "      <th>1</th>\n",
       "      <td>2</td>\n",
       "      <td>Abaji</td>\n",
       "      <td>FCT</td>\n",
       "      <td>60985</td>\n",
       "      <td>0.243414</td>\n",
       "      <td>14320</td>\n",
       "    </tr>\n",
       "    <tr>\n",
       "      <th>2</th>\n",
       "      <td>3</td>\n",
       "      <td>Abak</td>\n",
       "      <td>Akwa Ibom State</td>\n",
       "      <td>153585</td>\n",
       "      <td>0.227546</td>\n",
       "      <td>33179</td>\n",
       "    </tr>\n",
       "    <tr>\n",
       "      <th>3</th>\n",
       "      <td>5</td>\n",
       "      <td>Aba North</td>\n",
       "      <td>Abia State</td>\n",
       "      <td>257689</td>\n",
       "      <td>0.017378</td>\n",
       "      <td>9661</td>\n",
       "    </tr>\n",
       "    <tr>\n",
       "      <th>4</th>\n",
       "      <td>6</td>\n",
       "      <td>Aba South</td>\n",
       "      <td>Abia State</td>\n",
       "      <td>405791</td>\n",
       "      <td>0.094480</td>\n",
       "      <td>16070</td>\n",
       "    </tr>\n",
       "    <tr>\n",
       "      <th>...</th>\n",
       "      <td>...</td>\n",
       "      <td>...</td>\n",
       "      <td>...</td>\n",
       "      <td>...</td>\n",
       "      <td>...</td>\n",
       "      <td>...</td>\n",
       "    </tr>\n",
       "    <tr>\n",
       "      <th>590</th>\n",
       "      <td>769</td>\n",
       "      <td>Zango</td>\n",
       "      <td>Katsina State</td>\n",
       "      <td>217949</td>\n",
       "      <td>0.558352</td>\n",
       "      <td>117828</td>\n",
       "    </tr>\n",
       "    <tr>\n",
       "      <th>591</th>\n",
       "      <td>771</td>\n",
       "      <td>Zaria</td>\n",
       "      <td>Kaduna State</td>\n",
       "      <td>448419</td>\n",
       "      <td>0.122632</td>\n",
       "      <td>21111</td>\n",
       "    </tr>\n",
       "    <tr>\n",
       "      <th>592</th>\n",
       "      <td>772</td>\n",
       "      <td>Zing</td>\n",
       "      <td>Taraba State</td>\n",
       "      <td>113311</td>\n",
       "      <td>0.494821</td>\n",
       "      <td>56127</td>\n",
       "    </tr>\n",
       "    <tr>\n",
       "      <th>593</th>\n",
       "      <td>773</td>\n",
       "      <td>Zurmi</td>\n",
       "      <td>Zamfara State</td>\n",
       "      <td>291140</td>\n",
       "      <td>0.486278</td>\n",
       "      <td>144487</td>\n",
       "    </tr>\n",
       "    <tr>\n",
       "      <th>594</th>\n",
       "      <td>774</td>\n",
       "      <td>Zuru</td>\n",
       "      <td>Kebbi State</td>\n",
       "      <td>159716</td>\n",
       "      <td>0.362035</td>\n",
       "      <td>51528</td>\n",
       "    </tr>\n",
       "  </tbody>\n",
       "</table>\n",
       "<p>595 rows × 6 columns</p>\n",
       "</div>"
      ],
      "text/plain": [
       "     SNo Local Government Area            State  2014_Popul  Poverty_Ra  \\\n",
       "0      1                Abadam      Borno State       83113    0.396480   \n",
       "1      2                 Abaji              FCT       60985    0.243414   \n",
       "2      3                  Abak  Akwa Ibom State      153585    0.227546   \n",
       "3      5             Aba North       Abia State      257689    0.017378   \n",
       "4      6             Aba South       Abia State      405791    0.094480   \n",
       "..   ...                   ...              ...         ...         ...   \n",
       "590  769                 Zango    Katsina State      217949    0.558352   \n",
       "591  771                 Zaria     Kaduna State      448419    0.122632   \n",
       "592  772                  Zing     Taraba State      113311    0.494821   \n",
       "593  773                 Zurmi    Zamfara State      291140    0.486278   \n",
       "594  774                  Zuru      Kebbi State      159716    0.362035   \n",
       "\n",
       "     2014_Pover  \n",
       "0         31093  \n",
       "1         14320  \n",
       "2         33179  \n",
       "3          9661  \n",
       "4         16070  \n",
       "..          ...  \n",
       "590      117828  \n",
       "591       21111  \n",
       "592       56127  \n",
       "593      144487  \n",
       "594       51528  \n",
       "\n",
       "[595 rows x 6 columns]"
      ]
     },
     "execution_count": 18,
     "metadata": {},
     "output_type": "execute_result"
    }
   ],
   "source": [
    "merge1 = df1_df2[['SNo','Local Government Area', 'State', '2014_Popul', 'Poverty_Ra', '2014_Pover']]\n",
    "merge1"
   ]
  },
  {
   "cell_type": "code",
   "execution_count": 19,
   "id": "57a8b5ad",
   "metadata": {},
   "outputs": [
    {
     "name": "stdout",
     "output_type": "stream",
     "text": [
      "<class 'pandas.core.frame.DataFrame'>\n",
      "RangeIndex: 595 entries, 0 to 594\n",
      "Data columns (total 6 columns):\n",
      " #   Column                 Non-Null Count  Dtype  \n",
      "---  ------                 --------------  -----  \n",
      " 0   SNo                    595 non-null    int64  \n",
      " 1   Local Government Area  595 non-null    object \n",
      " 2   State                  595 non-null    object \n",
      " 3   2014_Popul             595 non-null    int64  \n",
      " 4   Poverty_Ra             595 non-null    float64\n",
      " 5   2014_Pover             595 non-null    int64  \n",
      "dtypes: float64(1), int64(3), object(2)\n",
      "memory usage: 28.0+ KB\n"
     ]
    }
   ],
   "source": [
    "merge1.info()"
   ]
  },
  {
   "cell_type": "code",
   "execution_count": 22,
   "id": "c0a0e350",
   "metadata": {},
   "outputs": [],
   "source": [
    "final_merge = pd.merge(merge1, df3, on='State')"
   ]
  },
  {
   "cell_type": "code",
   "execution_count": 23,
   "id": "ca56a5ca",
   "metadata": {},
   "outputs": [
    {
     "name": "stdout",
     "output_type": "stream",
     "text": [
      "<class 'pandas.core.frame.DataFrame'>\n",
      "RangeIndex: 591 entries, 0 to 590\n",
      "Data columns (total 10 columns):\n",
      " #   Column                 Non-Null Count  Dtype  \n",
      "---  ------                 --------------  -----  \n",
      " 0   SNo_x                  591 non-null    int64  \n",
      " 1   Local Government Area  591 non-null    object \n",
      " 2   State                  591 non-null    object \n",
      " 3   2014_Popul             591 non-null    int64  \n",
      " 4   Poverty_Ra             591 non-null    float64\n",
      " 5   2014_Pover             591 non-null    int64  \n",
      " 6   SNo_y                  591 non-null    object \n",
      " 7   Rank                   591 non-null    object \n",
      " 8   Population             591 non-null    object \n",
      " 9   Unnamed: 4             0 non-null      float64\n",
      "dtypes: float64(2), int64(3), object(5)\n",
      "memory usage: 46.3+ KB\n"
     ]
    }
   ],
   "source": [
    "final_merge.info()"
   ]
  },
  {
   "cell_type": "code",
   "execution_count": 24,
   "id": "433e5ac5",
   "metadata": {},
   "outputs": [],
   "source": [
    "final_merge.drop(columns=['Unnamed: 4', 'SNo_y'], inplace=True)"
   ]
  },
  {
   "cell_type": "code",
   "execution_count": null,
   "id": "c88a1487",
   "metadata": {},
   "outputs": [
    {
     "data": {
      "application/vnd.microsoft.datawrangler.viewer.v0+json": {
       "columns": [
        {
         "name": "index",
         "rawType": "int64",
         "type": "integer"
        },
        {
         "name": "SNo_x",
         "rawType": "int64",
         "type": "integer"
        },
        {
         "name": "Local Government Area",
         "rawType": "object",
         "type": "string"
        },
        {
         "name": "State",
         "rawType": "object",
         "type": "string"
        },
        {
         "name": "2014_Popul",
         "rawType": "int64",
         "type": "integer"
        },
        {
         "name": "Poverty_Ra",
         "rawType": "float64",
         "type": "float"
        },
        {
         "name": "2014_Pover",
         "rawType": "int64",
         "type": "integer"
        },
        {
         "name": "Rank",
         "rawType": "object",
         "type": "string"
        },
        {
         "name": "Population",
         "rawType": "object",
         "type": "string"
        }
       ],
       "conversionMethod": "pd.DataFrame",
       "ref": "4429ec3e-fa09-41f5-ac72-50216ac3ec99",
       "rows": [
        [
         "0",
         "1",
         "Abadam",
         "Borno State",
         "83113",
         "0.39648",
         "31093",
         "11",
         "41,71,104"
        ],
        [
         "1",
         "3",
         "Abak",
         "Akwa Ibom State",
         "153585",
         "0.227546",
         "33179",
         "15",
         "39,02,051"
        ],
        [
         "2",
         "5",
         "Aba North",
         "Abia State",
         "257689",
         "0.0173775",
         "9661",
         "28",
         "28,45,370"
        ],
        [
         "3",
         "6",
         "Aba South",
         "Abia State",
         "405791",
         "0.0944801",
         "16070",
         "28",
         "28,45,370"
        ],
        [
         "4",
         "8",
         "Abeokuta South",
         "Ogun State",
         "366366",
         "0.1153",
         "37273",
         "16",
         "37,51,140"
        ],
        [
         "5",
         "9",
         "Abi",
         "Cross River State",
         "223863",
         "0.713566",
         "166890",
         "27",
         "28,82,988"
        ],
        [
         "6",
         "12",
         "Adavi",
         "Kogi State",
         "488112",
         "0.204577",
         "43806",
         "20",
         "33,14,043"
        ],
        [
         "7",
         "15",
         "Afijio",
         "Oyo State",
         "162342",
         "0.197316",
         "29240",
         "5",
         "55,80,894"
        ],
        [
         "8",
         "18",
         "Agaie",
         "Niger State",
         "159433",
         "0.170477",
         "26362",
         "14",
         "39,54,772"
        ],
        [
         "9",
         "19",
         "Agatu",
         "Benue State",
         "158207",
         "0.360905",
         "56762",
         "9",
         "42,53,641"
        ],
        [
         "10",
         "20",
         "Agwara",
         "Niger State",
         "108581",
         "0.355481",
         "35128",
         "14",
         "39,54,772"
        ],
        [
         "11",
         "21",
         "Agege",
         "Lagos State",
         "589257",
         "0.0357773",
         "24538",
         "2",
         "91,13,605"
        ],
        [
         "12",
         "22",
         "Aguata",
         "Anambra State",
         "448890",
         "0.0499184",
         "21662",
         "10",
         "41,77,828"
        ],
        [
         "13",
         "24",
         "Ahoada East",
         "Rivers State",
         "183348",
         "0.0578282",
         "10015",
         "6",
         "51,98,716"
        ],
        [
         "14",
         "25",
         "Ahoada West",
         "Rivers State",
         "270004",
         "0.0516619",
         "11564",
         "6",
         "51,98,716"
        ],
        [
         "15",
         "26",
         "Ajaokuta",
         "Kogi State",
         "184417",
         "0.26163",
         "39616",
         "20",
         "33,14,043"
        ],
        [
         "16",
         "28",
         "Ajingi",
         "Kano State",
         "375488",
         "0.474911",
         "146206",
         "1",
         "94,01,288"
        ],
        [
         "17",
         "29",
         "Akamkpa",
         "Cross River State",
         "278241",
         "0.462113",
         "112577",
         "27",
         "28,82,988"
        ],
        [
         "18",
         "30",
         "Akinyele",
         "Oyo State",
         "271506",
         "0.0994799",
         "20688",
         "5",
         "55,80,894"
        ],
        [
         "19",
         "31",
         "Akko",
         "Gombe State",
         "824869",
         "0.193742",
         "80443",
         "31",
         "23,65,040"
        ],
        [
         "20",
         "33",
         "Akoko North-East",
         "Ondo State",
         "252170",
         "0.12273",
         "15218",
         "18",
         "34,60,877"
        ],
        [
         "21",
         "35",
         "Akoko South-West",
         "Ondo State",
         "257586",
         "0.159289",
         "26746",
         "18",
         "34,60,877"
        ],
        [
         "22",
         "36",
         "Akoko South-East",
         "Ondo State",
         "102417",
         "0.133616",
         "12577",
         "18",
         "34,60,877"
        ],
        [
         "23",
         "37",
         "Akpabuyo",
         "Cross River State",
         "378732",
         "0.379",
         "125734",
         "27",
         "28,82,988"
        ],
        [
         "24",
         "39",
         "Akure North",
         "Ondo State",
         "264065",
         "0.140573",
         "21996",
         "18",
         "34,60,877"
        ],
        [
         "25",
         "40",
         "Akure South",
         "Ondo State",
         "425798",
         "0.103371",
         "19097",
         "18",
         "34,60,877"
        ],
        [
         "26",
         "41",
         "Akwanga",
         "Nasarawa State",
         "117913",
         "0.333239",
         "35363",
         "35",
         "18,69,377"
        ],
        [
         "27",
         "42",
         "Albasu",
         "Kano State",
         "214704",
         "0.37282",
         "83882",
         "1",
         "94,01,288"
        ],
        [
         "28",
         "43",
         "Aleiro",
         "Kebbi State",
         "195618",
         "0.264992",
         "38625",
         "23",
         "32,56,541"
        ],
        [
         "29",
         "44",
         "Alimosho",
         "Lagos State",
         "1401650",
         "0.0368805",
         "54172",
         "2",
         "91,13,605"
        ],
        [
         "30",
         "45",
         "Alkaleri",
         "Bauchi State",
         "427773",
         "0.474774",
         "196414",
         "7",
         "46,53,066"
        ],
        [
         "31",
         "47",
         "Anambra East",
         "Anambra State",
         "511010",
         "0.172274",
         "39023",
         "10",
         "41,77,828"
        ],
        [
         "32",
         "48",
         "Anambra West",
         "Anambra State",
         "166637",
         "0.283385",
         "42610",
         "10",
         "41,77,828"
        ],
        [
         "33",
         "49",
         "Anaocha",
         "Anambra State",
         "386118",
         "0.0451305",
         "16853",
         "10",
         "41,77,828"
        ],
        [
         "34",
         "51",
         "Aninri",
         "Enugu State",
         "103907",
         "0.654209",
         "64283",
         "22",
         "32,67,837"
        ],
        [
         "35",
         "54",
         "Anka",
         "Zamfara State",
         "153799",
         "0.545495",
         "83843",
         "21",
         "32,78,873"
        ],
        [
         "36",
         "55",
         "Ankpa",
         "Kogi State",
         "352259",
         "0.22",
         "63591",
         "20",
         "33,14,043"
        ],
        [
         "37",
         "56",
         "Apa",
         "Benue State",
         "111443",
         "0.280878",
         "30928",
         "9",
         "42,53,641"
        ],
        [
         "38",
         "57",
         "Apapa",
         "Lagos State",
         "917687",
         "0.0656498",
         "59606",
         "2",
         "91,13,605"
        ],
        [
         "39",
         "58",
         "Ado",
         "Benue State",
         "200683",
         "0.789235",
         "153077",
         "9",
         "42,53,641"
        ],
        [
         "40",
         "61",
         "Argungu",
         "Kebbi State",
         "252817",
         "0.262086",
         "59126",
         "23",
         "32,56,541"
        ],
        [
         "41",
         "63",
         "Asa",
         "Kwara State",
         "502879",
         "0.282319",
         "51453",
         "30",
         "23,65,353"
        ],
        [
         "42",
         "68",
         "Atiba",
         "Oyo State",
         "187884",
         "0.453231",
         "77616",
         "5",
         "55,80,894"
        ],
        [
         "43",
         "69",
         "Atisbo",
         "Oyo State",
         "113935",
         "0.31464",
         "31335",
         "5",
         "55,80,894"
        ],
        [
         "44",
         "70",
         "Augie",
         "Kebbi State",
         "268777",
         "0.332981",
         "88829",
         "23",
         "32,56,541"
        ],
        [
         "45",
         "71",
         "Auyo",
         "Jigawa State",
         "127250",
         "0.614141",
         "74010",
         "8",
         "43,61,002"
        ],
        [
         "46",
         "72",
         "Awe",
         "Nasarawa State",
         "137231",
         "0.399076",
         "54805",
         "35",
         "18,69,377"
        ],
        [
         "47",
         "73",
         "Awgu",
         "Enugu State",
         "256171",
         "0.417857",
         "105057",
         "22",
         "32,67,837"
        ],
        [
         "48",
         "76",
         "Ayamelum",
         "Anambra State",
         "193917",
         "0.28355",
         "55524",
         "10",
         "41,77,828"
        ],
        [
         "49",
         "79",
         "Babura",
         "Jigawa State",
         "201563",
         "0.576568",
         "116902",
         "8",
         "43,61,002"
        ]
       ],
       "shape": {
        "columns": 8,
        "rows": 591
       }
      },
      "text/html": [
       "<div>\n",
       "<style scoped>\n",
       "    .dataframe tbody tr th:only-of-type {\n",
       "        vertical-align: middle;\n",
       "    }\n",
       "\n",
       "    .dataframe tbody tr th {\n",
       "        vertical-align: top;\n",
       "    }\n",
       "\n",
       "    .dataframe thead th {\n",
       "        text-align: right;\n",
       "    }\n",
       "</style>\n",
       "<table border=\"1\" class=\"dataframe\">\n",
       "  <thead>\n",
       "    <tr style=\"text-align: right;\">\n",
       "      <th></th>\n",
       "      <th>SNo_x</th>\n",
       "      <th>Local Government Area</th>\n",
       "      <th>State</th>\n",
       "      <th>2014_Popul</th>\n",
       "      <th>Poverty_Ra</th>\n",
       "      <th>2014_Pover</th>\n",
       "      <th>Rank</th>\n",
       "      <th>Population</th>\n",
       "    </tr>\n",
       "  </thead>\n",
       "  <tbody>\n",
       "    <tr>\n",
       "      <th>0</th>\n",
       "      <td>1</td>\n",
       "      <td>Abadam</td>\n",
       "      <td>Borno State</td>\n",
       "      <td>83113</td>\n",
       "      <td>0.396480</td>\n",
       "      <td>31093</td>\n",
       "      <td>11</td>\n",
       "      <td>41,71,104</td>\n",
       "    </tr>\n",
       "    <tr>\n",
       "      <th>1</th>\n",
       "      <td>3</td>\n",
       "      <td>Abak</td>\n",
       "      <td>Akwa Ibom State</td>\n",
       "      <td>153585</td>\n",
       "      <td>0.227546</td>\n",
       "      <td>33179</td>\n",
       "      <td>15</td>\n",
       "      <td>39,02,051</td>\n",
       "    </tr>\n",
       "    <tr>\n",
       "      <th>2</th>\n",
       "      <td>5</td>\n",
       "      <td>Aba North</td>\n",
       "      <td>Abia State</td>\n",
       "      <td>257689</td>\n",
       "      <td>0.017378</td>\n",
       "      <td>9661</td>\n",
       "      <td>28</td>\n",
       "      <td>28,45,370</td>\n",
       "    </tr>\n",
       "    <tr>\n",
       "      <th>3</th>\n",
       "      <td>6</td>\n",
       "      <td>Aba South</td>\n",
       "      <td>Abia State</td>\n",
       "      <td>405791</td>\n",
       "      <td>0.094480</td>\n",
       "      <td>16070</td>\n",
       "      <td>28</td>\n",
       "      <td>28,45,370</td>\n",
       "    </tr>\n",
       "    <tr>\n",
       "      <th>4</th>\n",
       "      <td>8</td>\n",
       "      <td>Abeokuta South</td>\n",
       "      <td>Ogun State</td>\n",
       "      <td>366366</td>\n",
       "      <td>0.115300</td>\n",
       "      <td>37273</td>\n",
       "      <td>16</td>\n",
       "      <td>37,51,140</td>\n",
       "    </tr>\n",
       "    <tr>\n",
       "      <th>...</th>\n",
       "      <td>...</td>\n",
       "      <td>...</td>\n",
       "      <td>...</td>\n",
       "      <td>...</td>\n",
       "      <td>...</td>\n",
       "      <td>...</td>\n",
       "      <td>...</td>\n",
       "      <td>...</td>\n",
       "    </tr>\n",
       "    <tr>\n",
       "      <th>586</th>\n",
       "      <td>769</td>\n",
       "      <td>Zango</td>\n",
       "      <td>Katsina State</td>\n",
       "      <td>217949</td>\n",
       "      <td>0.558352</td>\n",
       "      <td>117828</td>\n",
       "      <td>4</td>\n",
       "      <td>58,01,584</td>\n",
       "    </tr>\n",
       "    <tr>\n",
       "      <th>587</th>\n",
       "      <td>771</td>\n",
       "      <td>Zaria</td>\n",
       "      <td>Kaduna State</td>\n",
       "      <td>448419</td>\n",
       "      <td>0.122632</td>\n",
       "      <td>21111</td>\n",
       "      <td>3</td>\n",
       "      <td>61,13,503</td>\n",
       "    </tr>\n",
       "    <tr>\n",
       "      <th>588</th>\n",
       "      <td>772</td>\n",
       "      <td>Zing</td>\n",
       "      <td>Taraba State</td>\n",
       "      <td>113311</td>\n",
       "      <td>0.494821</td>\n",
       "      <td>56127</td>\n",
       "      <td>33</td>\n",
       "      <td>22,94,800</td>\n",
       "    </tr>\n",
       "    <tr>\n",
       "      <th>589</th>\n",
       "      <td>773</td>\n",
       "      <td>Zurmi</td>\n",
       "      <td>Zamfara State</td>\n",
       "      <td>291140</td>\n",
       "      <td>0.486278</td>\n",
       "      <td>144487</td>\n",
       "      <td>21</td>\n",
       "      <td>32,78,873</td>\n",
       "    </tr>\n",
       "    <tr>\n",
       "      <th>590</th>\n",
       "      <td>774</td>\n",
       "      <td>Zuru</td>\n",
       "      <td>Kebbi State</td>\n",
       "      <td>159716</td>\n",
       "      <td>0.362035</td>\n",
       "      <td>51528</td>\n",
       "      <td>23</td>\n",
       "      <td>32,56,541</td>\n",
       "    </tr>\n",
       "  </tbody>\n",
       "</table>\n",
       "<p>591 rows × 8 columns</p>\n",
       "</div>"
      ],
      "text/plain": [
       "     SNo_x Local Government Area            State  2014_Popul  Poverty_Ra  \\\n",
       "0        1                Abadam      Borno State       83113    0.396480   \n",
       "1        3                  Abak  Akwa Ibom State      153585    0.227546   \n",
       "2        5             Aba North       Abia State      257689    0.017378   \n",
       "3        6             Aba South       Abia State      405791    0.094480   \n",
       "4        8        Abeokuta South       Ogun State      366366    0.115300   \n",
       "..     ...                   ...              ...         ...         ...   \n",
       "586    769                 Zango    Katsina State      217949    0.558352   \n",
       "587    771                 Zaria     Kaduna State      448419    0.122632   \n",
       "588    772                  Zing     Taraba State      113311    0.494821   \n",
       "589    773                 Zurmi    Zamfara State      291140    0.486278   \n",
       "590    774                  Zuru      Kebbi State      159716    0.362035   \n",
       "\n",
       "     2014_Pover Rank Population  \n",
       "0         31093   11  41,71,104  \n",
       "1         33179   15  39,02,051  \n",
       "2          9661   28  28,45,370  \n",
       "3         16070   28  28,45,370  \n",
       "4         37273   16  37,51,140  \n",
       "..          ...  ...        ...  \n",
       "586      117828    4  58,01,584  \n",
       "587       21111    3  61,13,503  \n",
       "588       56127   33  22,94,800  \n",
       "589      144487   21  32,78,873  \n",
       "590       51528   23  32,56,541  \n",
       "\n",
       "[591 rows x 8 columns]"
      ]
     },
     "execution_count": 25,
     "metadata": {},
     "output_type": "execute_result"
    }
   ],
   "source": [
    "final_merge"
   ]
  },
  {
   "cell_type": "code",
   "execution_count": 26,
   "id": "f3e4b9ea",
   "metadata": {},
   "outputs": [
    {
     "data": {
      "application/vnd.microsoft.datawrangler.viewer.v0+json": {
       "columns": [
        {
         "name": "index",
         "rawType": "int64",
         "type": "integer"
        },
        {
         "name": "S\\N",
         "rawType": "int64",
         "type": "integer"
        },
        {
         "name": "Local Government Area",
         "rawType": "object",
         "type": "string"
        },
        {
         "name": "State",
         "rawType": "object",
         "type": "string"
        },
        {
         "name": "2014_Popul",
         "rawType": "int64",
         "type": "integer"
        },
        {
         "name": "Poverty_Ra",
         "rawType": "float64",
         "type": "float"
        },
        {
         "name": "2014_Pover",
         "rawType": "int64",
         "type": "integer"
        },
        {
         "name": "Rank",
         "rawType": "object",
         "type": "string"
        },
        {
         "name": "Population",
         "rawType": "int32",
         "type": "integer"
        }
       ],
       "conversionMethod": "pd.DataFrame",
       "ref": "47d9e234-23f4-467d-838a-34ab5500ab25",
       "rows": [
        [
         "0",
         "1",
         "Abadam",
         "Borno State",
         "83113",
         "0.39648",
         "31093",
         "11",
         "4171104"
        ],
        [
         "1",
         "3",
         "Abak",
         "Akwa Ibom State",
         "153585",
         "0.227546",
         "33179",
         "15",
         "3902051"
        ],
        [
         "2",
         "5",
         "Aba North",
         "Abia State",
         "257689",
         "0.0173775",
         "9661",
         "28",
         "2845370"
        ],
        [
         "3",
         "6",
         "Aba South",
         "Abia State",
         "405791",
         "0.0944801",
         "16070",
         "28",
         "2845370"
        ],
        [
         "4",
         "8",
         "Abeokuta South",
         "Ogun State",
         "366366",
         "0.1153",
         "37273",
         "16",
         "3751140"
        ]
       ],
       "shape": {
        "columns": 8,
        "rows": 5
       }
      },
      "text/html": [
       "<div>\n",
       "<style scoped>\n",
       "    .dataframe tbody tr th:only-of-type {\n",
       "        vertical-align: middle;\n",
       "    }\n",
       "\n",
       "    .dataframe tbody tr th {\n",
       "        vertical-align: top;\n",
       "    }\n",
       "\n",
       "    .dataframe thead th {\n",
       "        text-align: right;\n",
       "    }\n",
       "</style>\n",
       "<table border=\"1\" class=\"dataframe\">\n",
       "  <thead>\n",
       "    <tr style=\"text-align: right;\">\n",
       "      <th></th>\n",
       "      <th>S\\N</th>\n",
       "      <th>Local Government Area</th>\n",
       "      <th>State</th>\n",
       "      <th>2014_Popul</th>\n",
       "      <th>Poverty_Ra</th>\n",
       "      <th>2014_Pover</th>\n",
       "      <th>Rank</th>\n",
       "      <th>Population</th>\n",
       "    </tr>\n",
       "  </thead>\n",
       "  <tbody>\n",
       "    <tr>\n",
       "      <th>0</th>\n",
       "      <td>1</td>\n",
       "      <td>Abadam</td>\n",
       "      <td>Borno State</td>\n",
       "      <td>83113</td>\n",
       "      <td>0.396480</td>\n",
       "      <td>31093</td>\n",
       "      <td>11</td>\n",
       "      <td>4171104</td>\n",
       "    </tr>\n",
       "    <tr>\n",
       "      <th>1</th>\n",
       "      <td>3</td>\n",
       "      <td>Abak</td>\n",
       "      <td>Akwa Ibom State</td>\n",
       "      <td>153585</td>\n",
       "      <td>0.227546</td>\n",
       "      <td>33179</td>\n",
       "      <td>15</td>\n",
       "      <td>3902051</td>\n",
       "    </tr>\n",
       "    <tr>\n",
       "      <th>2</th>\n",
       "      <td>5</td>\n",
       "      <td>Aba North</td>\n",
       "      <td>Abia State</td>\n",
       "      <td>257689</td>\n",
       "      <td>0.017378</td>\n",
       "      <td>9661</td>\n",
       "      <td>28</td>\n",
       "      <td>2845370</td>\n",
       "    </tr>\n",
       "    <tr>\n",
       "      <th>3</th>\n",
       "      <td>6</td>\n",
       "      <td>Aba South</td>\n",
       "      <td>Abia State</td>\n",
       "      <td>405791</td>\n",
       "      <td>0.094480</td>\n",
       "      <td>16070</td>\n",
       "      <td>28</td>\n",
       "      <td>2845370</td>\n",
       "    </tr>\n",
       "    <tr>\n",
       "      <th>4</th>\n",
       "      <td>8</td>\n",
       "      <td>Abeokuta South</td>\n",
       "      <td>Ogun State</td>\n",
       "      <td>366366</td>\n",
       "      <td>0.115300</td>\n",
       "      <td>37273</td>\n",
       "      <td>16</td>\n",
       "      <td>3751140</td>\n",
       "    </tr>\n",
       "  </tbody>\n",
       "</table>\n",
       "</div>"
      ],
      "text/plain": [
       "   S\\N Local Government Area            State  2014_Popul  Poverty_Ra  \\\n",
       "0    1                Abadam      Borno State       83113    0.396480   \n",
       "1    3                  Abak  Akwa Ibom State      153585    0.227546   \n",
       "2    5             Aba North       Abia State      257689    0.017378   \n",
       "3    6             Aba South       Abia State      405791    0.094480   \n",
       "4    8        Abeokuta South       Ogun State      366366    0.115300   \n",
       "\n",
       "   2014_Pover Rank  Population  \n",
       "0       31093   11     4171104  \n",
       "1       33179   15     3902051  \n",
       "2        9661   28     2845370  \n",
       "3       16070   28     2845370  \n",
       "4       37273   16     3751140  "
      ]
     },
     "execution_count": 26,
     "metadata": {},
     "output_type": "execute_result"
    }
   ],
   "source": [
    "\"\"\"\n",
    "Cell generated by Data Wrangler.\n",
    "\"\"\"\n",
    "def clean_data(final_merge):\n",
    "    # Rename column 'SNo_x' to 'S\\\\N'\n",
    "    final_merge = final_merge.rename(columns={'SNo_x': 'S\\\\N'})\n",
    "    # Replace all instances of \",\" with \"\" in column: 'Population'\n",
    "    final_merge['Population'] = final_merge['Population'].str.replace(\",\", \"\", case=False, regex=False)\n",
    "    # Change column type to int32 for column: 'Population'\n",
    "    final_merge = final_merge.astype({'Population': 'int32'})\n",
    "    return final_merge\n",
    "\n",
    "final_merge_clean = clean_data(final_merge.copy())\n",
    "final_merge_clean.head()"
   ]
  },
  {
   "cell_type": "code",
   "execution_count": 43,
   "id": "ea4f5ba4",
   "metadata": {},
   "outputs": [
    {
     "data": {
      "application/vnd.microsoft.datawrangler.viewer.v0+json": {
       "columns": [
        {
         "name": "index",
         "rawType": "int64",
         "type": "integer"
        },
        {
         "name": "Local Government Area",
         "rawType": "object",
         "type": "string"
        },
        {
         "name": "2014_Popul",
         "rawType": "float64",
         "type": "float"
        },
        {
         "name": "Poverty_Ra",
         "rawType": "float64",
         "type": "float"
        }
       ],
       "conversionMethod": "pd.DataFrame",
       "ref": "5ae28926-36c4-4fe0-bf2d-185429be38e0",
       "rows": [
        [
         "0",
         "Aba North",
         "257689.0",
         "0.0173775"
        ],
        [
         "1",
         "Aba South",
         "405791.0",
         "0.0944801"
        ],
        [
         "2",
         "Abadam",
         "83113.0",
         "0.39648"
        ],
        [
         "3",
         "Abak",
         "153585.0",
         "0.227546"
        ],
        [
         "4",
         "Abeokuta South",
         "366366.0",
         "0.1153"
        ]
       ],
       "shape": {
        "columns": 3,
        "rows": 5
       }
      },
      "text/html": [
       "<div>\n",
       "<style scoped>\n",
       "    .dataframe tbody tr th:only-of-type {\n",
       "        vertical-align: middle;\n",
       "    }\n",
       "\n",
       "    .dataframe tbody tr th {\n",
       "        vertical-align: top;\n",
       "    }\n",
       "\n",
       "    .dataframe thead th {\n",
       "        text-align: right;\n",
       "    }\n",
       "</style>\n",
       "<table border=\"1\" class=\"dataframe\">\n",
       "  <thead>\n",
       "    <tr style=\"text-align: right;\">\n",
       "      <th></th>\n",
       "      <th>Local Government Area</th>\n",
       "      <th>2014_Popul</th>\n",
       "      <th>Poverty_Ra</th>\n",
       "    </tr>\n",
       "  </thead>\n",
       "  <tbody>\n",
       "    <tr>\n",
       "      <th>0</th>\n",
       "      <td>Aba North</td>\n",
       "      <td>257689.0</td>\n",
       "      <td>0.017378</td>\n",
       "    </tr>\n",
       "    <tr>\n",
       "      <th>1</th>\n",
       "      <td>Aba South</td>\n",
       "      <td>405791.0</td>\n",
       "      <td>0.094480</td>\n",
       "    </tr>\n",
       "    <tr>\n",
       "      <th>2</th>\n",
       "      <td>Abadam</td>\n",
       "      <td>83113.0</td>\n",
       "      <td>0.396480</td>\n",
       "    </tr>\n",
       "    <tr>\n",
       "      <th>3</th>\n",
       "      <td>Abak</td>\n",
       "      <td>153585.0</td>\n",
       "      <td>0.227546</td>\n",
       "    </tr>\n",
       "    <tr>\n",
       "      <th>4</th>\n",
       "      <td>Abeokuta South</td>\n",
       "      <td>366366.0</td>\n",
       "      <td>0.115300</td>\n",
       "    </tr>\n",
       "  </tbody>\n",
       "</table>\n",
       "</div>"
      ],
      "text/plain": [
       "  Local Government Area  2014_Popul  Poverty_Ra\n",
       "0             Aba North    257689.0    0.017378\n",
       "1             Aba South    405791.0    0.094480\n",
       "2                Abadam     83113.0    0.396480\n",
       "3                  Abak    153585.0    0.227546\n",
       "4        Abeokuta South    366366.0    0.115300"
      ]
     },
     "execution_count": 43,
     "metadata": {},
     "output_type": "execute_result"
    }
   ],
   "source": [
    "# Using either groupby or pivot_table calculate how population affects poverty rate of each local government\n",
    "\n",
    "df = final_merge_clean.groupby('Local Government Area')[['2014_Popul', 'Poverty_Ra']].mean().reset_index()\n",
    "df.head()"
   ]
  },
  {
   "cell_type": "code",
   "execution_count": 40,
   "id": "83dd9700",
   "metadata": {},
   "outputs": [
    {
     "data": {
      "application/vnd.microsoft.datawrangler.viewer.v0+json": {
       "columns": [
        {
         "name": "index",
         "rawType": "int64",
         "type": "integer"
        },
        {
         "name": "Local Government Area",
         "rawType": "object",
         "type": "string"
        },
        {
         "name": "2014_Popul",
         "rawType": "float64",
         "type": "float"
        },
        {
         "name": "Poverty_Ra",
         "rawType": "float64",
         "type": "float"
        }
       ],
       "conversionMethod": "pd.DataFrame",
       "ref": "204d6ec8-5588-45b8-bef1-43f32338720f",
       "rows": [
        [
         "237",
         "Ikwo",
         "215257.0",
         "0.914384"
        ],
        [
         "152",
         "Ezza South",
         "168892.0",
         "0.903956"
        ],
        [
         "422",
         "Ohaukwu",
         "253736.0",
         "0.86209"
        ],
        [
         "151",
         "Ezza North",
         "158054.0",
         "0.844616"
        ],
        [
         "421",
         "Ohaozara",
         "167245.0",
         "0.84278"
        ],
        [
         "440",
         "Onicha",
         "256563.0",
         "0.807146"
        ],
        [
         "7",
         "Ado",
         "200683.0",
         "0.789235"
        ],
        [
         "266",
         "Izzi",
         "280797.0",
         "0.783522"
        ],
        [
         "397",
         "Numan",
         "176587.0",
         "0.741021"
        ],
        [
         "295",
         "Kankara",
         "292611.0",
         "0.721274"
        ],
        [
         "269",
         "Jahun",
         "292683.0",
         "0.720787"
        ],
        [
         "482",
         "Roni",
         "63550.0",
         "0.714753"
        ],
        [
         "5",
         "Abi",
         "223863.0",
         "0.713566"
        ],
        [
         "288",
         "Kaita",
         "235491.0",
         "0.71218"
        ],
        [
         "367",
         "Miga",
         "156324.0",
         "0.691973"
        ],
        [
         "196",
         "Gwiwa",
         "183775.0",
         "0.688577"
        ],
        [
         "478",
         "Rimi",
         "231428.0",
         "0.686185"
        ],
        [
         "305",
         "Kazaure",
         "219791.0",
         "0.681927"
        ],
        [
         "255",
         "Ishielu",
         "185960.0",
         "0.676868"
        ],
        [
         "522",
         "Taura",
         "133103.0",
         "0.675053"
        ],
        [
         "332",
         "Lamurde",
         "132496.0",
         "0.67222"
        ],
        [
         "404",
         "Obubra",
         "230686.0",
         "0.669857"
        ],
        [
         "114",
         "Demsa",
         "451803.0",
         "0.664365"
        ],
        [
         "162",
         "Gagarawa",
         "121929.0",
         "0.659424"
        ],
        [
         "302",
         "Kaugama",
         "182692.0",
         "0.656085"
        ],
        [
         "35",
         "Aninri",
         "103907.0",
         "0.654209"
        ],
        [
         "168",
         "Gassol",
         "306767.0",
         "0.652584"
        ],
        [
         "124",
         "Ebonyi",
         "265815.0",
         "0.64847"
        ],
        [
         "333",
         "Langtang North",
         "160738.0",
         "0.647918"
        ],
        [
         "356",
         "Mani",
         "226971.0",
         "0.647619"
        ],
        [
         "562",
         "Yankwashi",
         "167423.0",
         "0.644087"
        ],
        [
         "270",
         "Jakusko",
         "285971.0",
         "0.639741"
        ],
        [
         "419",
         "Ogu/Bolo",
         "21424.0",
         "0.638137"
        ],
        [
         "54",
         "Bakori",
         "178782.0",
         "0.637648"
        ],
        [
         "381",
         "Nangere",
         "254612.0",
         "0.637587"
        ],
        [
         "194",
         "Gwarzo",
         "215178.0",
         "0.626513"
        ],
        [
         "244",
         "Ingawa",
         "189653.0",
         "0.626323"
        ],
        [
         "74",
         "Bindawa",
         "167759.0",
         "0.62431"
        ],
        [
         "163",
         "Gamawa",
         "343733.0",
         "0.622473"
        ],
        [
         "378",
         "Musawa",
         "202841.0",
         "0.621641"
        ],
        [
         "62",
         "Batagarawa",
         "232825.0",
         "0.619954"
        ],
        [
         "107",
         "Dandume",
         "168728.0",
         "0.619865"
        ],
        [
         "65",
         "Baure",
         "242139.0",
         "0.619598"
        ],
        [
         "50",
         "Bade",
         "108816.0",
         "0.616003"
        ],
        [
         "155",
         "Faskari",
         "243388.0",
         "0.614693"
        ],
        [
         "45",
         "Auyo",
         "127250.0",
         "0.614141"
        ],
        [
         "366",
         "Michika",
         "134314.0",
         "0.605603"
        ],
        [
         "156",
         "Fika",
         "140461.0",
         "0.605258"
        ],
        [
         "313",
         "Kiyawa",
         "225128.0",
         "0.603757"
        ],
        [
         "399",
         "Obanliku",
         "167351.0",
         "0.595825"
        ]
       ],
       "shape": {
        "columns": 3,
        "rows": 575
       }
      },
      "text/html": [
       "<div>\n",
       "<style scoped>\n",
       "    .dataframe tbody tr th:only-of-type {\n",
       "        vertical-align: middle;\n",
       "    }\n",
       "\n",
       "    .dataframe tbody tr th {\n",
       "        vertical-align: top;\n",
       "    }\n",
       "\n",
       "    .dataframe thead th {\n",
       "        text-align: right;\n",
       "    }\n",
       "</style>\n",
       "<table border=\"1\" class=\"dataframe\">\n",
       "  <thead>\n",
       "    <tr style=\"text-align: right;\">\n",
       "      <th></th>\n",
       "      <th>Local Government Area</th>\n",
       "      <th>2014_Popul</th>\n",
       "      <th>Poverty_Ra</th>\n",
       "    </tr>\n",
       "  </thead>\n",
       "  <tbody>\n",
       "    <tr>\n",
       "      <th>237</th>\n",
       "      <td>Ikwo</td>\n",
       "      <td>215257.0</td>\n",
       "      <td>0.914384</td>\n",
       "    </tr>\n",
       "    <tr>\n",
       "      <th>152</th>\n",
       "      <td>Ezza South</td>\n",
       "      <td>168892.0</td>\n",
       "      <td>0.903956</td>\n",
       "    </tr>\n",
       "    <tr>\n",
       "      <th>422</th>\n",
       "      <td>Ohaukwu</td>\n",
       "      <td>253736.0</td>\n",
       "      <td>0.862090</td>\n",
       "    </tr>\n",
       "    <tr>\n",
       "      <th>151</th>\n",
       "      <td>Ezza North</td>\n",
       "      <td>158054.0</td>\n",
       "      <td>0.844616</td>\n",
       "    </tr>\n",
       "    <tr>\n",
       "      <th>421</th>\n",
       "      <td>Ohaozara</td>\n",
       "      <td>167245.0</td>\n",
       "      <td>0.842780</td>\n",
       "    </tr>\n",
       "    <tr>\n",
       "      <th>...</th>\n",
       "      <td>...</td>\n",
       "      <td>...</td>\n",
       "      <td>...</td>\n",
       "    </tr>\n",
       "    <tr>\n",
       "      <th>72</th>\n",
       "      <td>Bida</td>\n",
       "      <td>240860.0</td>\n",
       "      <td>0.018769</td>\n",
       "    </tr>\n",
       "    <tr>\n",
       "      <th>0</th>\n",
       "      <td>Aba North</td>\n",
       "      <td>257689.0</td>\n",
       "      <td>0.017378</td>\n",
       "    </tr>\n",
       "    <tr>\n",
       "      <th>547</th>\n",
       "      <td>Uvwie</td>\n",
       "      <td>289312.0</td>\n",
       "      <td>0.016641</td>\n",
       "    </tr>\n",
       "    <tr>\n",
       "      <th>507</th>\n",
       "      <td>Sokoto North</td>\n",
       "      <td>246991.0</td>\n",
       "      <td>0.009919</td>\n",
       "    </tr>\n",
       "    <tr>\n",
       "      <th>153</th>\n",
       "      <td>Fagge</td>\n",
       "      <td>859163.0</td>\n",
       "      <td>0.004566</td>\n",
       "    </tr>\n",
       "  </tbody>\n",
       "</table>\n",
       "<p>575 rows × 3 columns</p>\n",
       "</div>"
      ],
      "text/plain": [
       "    Local Government Area  2014_Popul  Poverty_Ra\n",
       "237                  Ikwo    215257.0    0.914384\n",
       "152            Ezza South    168892.0    0.903956\n",
       "422               Ohaukwu    253736.0    0.862090\n",
       "151            Ezza North    158054.0    0.844616\n",
       "421              Ohaozara    167245.0    0.842780\n",
       "..                    ...         ...         ...\n",
       "72                   Bida    240860.0    0.018769\n",
       "0               Aba North    257689.0    0.017378\n",
       "547                 Uvwie    289312.0    0.016641\n",
       "507          Sokoto North    246991.0    0.009919\n",
       "153                 Fagge    859163.0    0.004566\n",
       "\n",
       "[575 rows x 3 columns]"
      ]
     },
     "execution_count": 40,
     "metadata": {},
     "output_type": "execute_result"
    }
   ],
   "source": [
    "df.sort_values('Poverty_Ra', ascending=False)"
   ]
  },
  {
   "cell_type": "code",
   "execution_count": 46,
   "id": "93257805",
   "metadata": {},
   "outputs": [
    {
     "data": {
      "image/png": "[encoded data removed]",
      "text/plain": [
       "<Figure size 1000x600 with 1 Axes>"
      ]
     },
     "metadata": {},
     "output_type": "display_data"
    }
   ],
   "source": [
    "import matplotlib.pyplot as plt\n",
    "import seaborn as sns\n",
    "\n",
    "# Set style for plot\n",
    "sns.set_theme(style=\"whitegrid\")\n",
    "\n",
    "# Create scatter plot with regression line\n",
    "plt.figure(figsize=(10, 6))\n",
    "sns.regplot(data=df, x='2014_Popul', y='Poverty_Ra', scatter_kws={\"s\": 60}, line_kws={\"color\": \"red\"})\n",
    "\n",
    "plt.title(\"Relationship Between LGA Population and Poverty Rate (2014)\", fontsize=14)\n",
    "plt.xlabel(\"Population (2014)\", fontsize=12)\n",
    "plt.ylabel(\"Poverty Rate\", fontsize=12)\n",
    "plt.tight_layout()\n",
    "plt.show()\n"
   ]
  }
 ],
 "metadata": {
  "kernelspec": {
   "display_name": "base",
   "language": "python",
   "name": "python3"
  },
  "language_info": {
   "codemirror_mode": {
    "name": "ipython",
    "version": 3
   },
   "file_extension": ".py",
   "mimetype": "text/x-python",
   "name": "python",
   "nbconvert_exporter": "python",
   "pygments_lexer": "ipython3",
   "version": "3.12.7"
  }
 },
 "nbformat": 4,
 "nbformat_minor": 5
}
